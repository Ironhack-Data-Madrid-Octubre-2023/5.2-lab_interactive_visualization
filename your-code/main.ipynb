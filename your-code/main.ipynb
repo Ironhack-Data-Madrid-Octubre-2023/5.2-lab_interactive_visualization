{
 "cells": [
  {
   "cell_type": "markdown",
   "metadata": {},
   "source": [
    "# Interactive Visualization Lab\n",
    "\n",
    "Complete the following set of exercises to solidify your knowledge of interactive visualization using Plotly, Cufflinks, and IPyWidgets."
   ]
  },
  {
   "cell_type": "code",
   "execution_count": 7,
   "metadata": {},
   "outputs": [
    {
     "data": {
      "text/html": [
       "        <script type=\"text/javascript\">\n",
       "        window.PlotlyConfig = {MathJaxConfig: 'local'};\n",
       "        if (window.MathJax && window.MathJax.Hub && window.MathJax.Hub.Config) {window.MathJax.Hub.Config({SVG: {font: \"STIX-Web\"}});}\n",
       "        if (typeof require !== 'undefined') {\n",
       "        require.undef(\"plotly\");\n",
       "        requirejs.config({\n",
       "            paths: {\n",
       "                'plotly': ['https://cdn.plot.ly/plotly-2.27.0.min']\n",
       "            }\n",
       "        });\n",
       "        require(['plotly'], function(Plotly) {\n",
       "            window._Plotly = Plotly;\n",
       "        });\n",
       "        }\n",
       "        </script>\n",
       "        "
      ]
     },
     "metadata": {},
     "output_type": "display_data"
    }
   ],
   "source": [
    "import pandas as pd\n",
    "import chart_studio.plotly as py\n",
    "import cufflinks as cf\n",
    "import plotly.express as px\n",
    "from ipywidgets import interact\n",
    "\n",
    "cf.go_offline()"
   ]
  },
  {
   "cell_type": "code",
   "execution_count": 2,
   "metadata": {},
   "outputs": [
    {
     "data": {
      "text/html": [
       "<div>\n",
       "<style scoped>\n",
       "    .dataframe tbody tr th:only-of-type {\n",
       "        vertical-align: middle;\n",
       "    }\n",
       "\n",
       "    .dataframe tbody tr th {\n",
       "        vertical-align: top;\n",
       "    }\n",
       "\n",
       "    .dataframe thead th {\n",
       "        text-align: right;\n",
       "    }\n",
       "</style>\n",
       "<table border=\"1\" class=\"dataframe\">\n",
       "  <thead>\n",
       "    <tr style=\"text-align: right;\">\n",
       "      <th></th>\n",
       "      <th>InvoiceNo</th>\n",
       "      <th>InvoiceDate</th>\n",
       "      <th>StockCode</th>\n",
       "      <th>Description</th>\n",
       "      <th>Quantity</th>\n",
       "      <th>UnitPrice</th>\n",
       "      <th>Revenue</th>\n",
       "      <th>CustomerID</th>\n",
       "      <th>Country</th>\n",
       "    </tr>\n",
       "  </thead>\n",
       "  <tbody>\n",
       "    <tr>\n",
       "      <th>0</th>\n",
       "      <td>536365</td>\n",
       "      <td>2010-12-01 08:26:00</td>\n",
       "      <td>85123A</td>\n",
       "      <td>CREAM HANGING HEART T-LIGHT HOLDER</td>\n",
       "      <td>6</td>\n",
       "      <td>2.55</td>\n",
       "      <td>15.3</td>\n",
       "      <td>17850</td>\n",
       "      <td>United Kingdom</td>\n",
       "    </tr>\n",
       "    <tr>\n",
       "      <th>1</th>\n",
       "      <td>536373</td>\n",
       "      <td>2010-12-01 09:02:00</td>\n",
       "      <td>85123A</td>\n",
       "      <td>CREAM HANGING HEART T-LIGHT HOLDER</td>\n",
       "      <td>6</td>\n",
       "      <td>2.55</td>\n",
       "      <td>15.3</td>\n",
       "      <td>17850</td>\n",
       "      <td>United Kingdom</td>\n",
       "    </tr>\n",
       "    <tr>\n",
       "      <th>2</th>\n",
       "      <td>536375</td>\n",
       "      <td>2010-12-01 09:32:00</td>\n",
       "      <td>85123A</td>\n",
       "      <td>CREAM HANGING HEART T-LIGHT HOLDER</td>\n",
       "      <td>6</td>\n",
       "      <td>2.55</td>\n",
       "      <td>15.3</td>\n",
       "      <td>17850</td>\n",
       "      <td>United Kingdom</td>\n",
       "    </tr>\n",
       "    <tr>\n",
       "      <th>3</th>\n",
       "      <td>536390</td>\n",
       "      <td>2010-12-01 10:19:00</td>\n",
       "      <td>85123A</td>\n",
       "      <td>CREAM HANGING HEART T-LIGHT HOLDER</td>\n",
       "      <td>64</td>\n",
       "      <td>2.55</td>\n",
       "      <td>163.2</td>\n",
       "      <td>17511</td>\n",
       "      <td>United Kingdom</td>\n",
       "    </tr>\n",
       "    <tr>\n",
       "      <th>4</th>\n",
       "      <td>536394</td>\n",
       "      <td>2010-12-01 10:39:00</td>\n",
       "      <td>85123A</td>\n",
       "      <td>CREAM HANGING HEART T-LIGHT HOLDER</td>\n",
       "      <td>32</td>\n",
       "      <td>2.55</td>\n",
       "      <td>81.6</td>\n",
       "      <td>13408</td>\n",
       "      <td>United Kingdom</td>\n",
       "    </tr>\n",
       "  </tbody>\n",
       "</table>\n",
       "</div>"
      ],
      "text/plain": [
       "   InvoiceNo         InvoiceDate StockCode  \\\n",
       "0     536365 2010-12-01 08:26:00    85123A   \n",
       "1     536373 2010-12-01 09:02:00    85123A   \n",
       "2     536375 2010-12-01 09:32:00    85123A   \n",
       "3     536390 2010-12-01 10:19:00    85123A   \n",
       "4     536394 2010-12-01 10:39:00    85123A   \n",
       "\n",
       "                          Description  Quantity  UnitPrice  Revenue  \\\n",
       "0  CREAM HANGING HEART T-LIGHT HOLDER         6       2.55     15.3   \n",
       "1  CREAM HANGING HEART T-LIGHT HOLDER         6       2.55     15.3   \n",
       "2  CREAM HANGING HEART T-LIGHT HOLDER         6       2.55     15.3   \n",
       "3  CREAM HANGING HEART T-LIGHT HOLDER        64       2.55    163.2   \n",
       "4  CREAM HANGING HEART T-LIGHT HOLDER        32       2.55     81.6   \n",
       "\n",
       "   CustomerID         Country  \n",
       "0       17850  United Kingdom  \n",
       "1       17850  United Kingdom  \n",
       "2       17850  United Kingdom  \n",
       "3       17511  United Kingdom  \n",
       "4       13408  United Kingdom  "
      ]
     },
     "execution_count": 2,
     "metadata": {},
     "output_type": "execute_result"
    }
   ],
   "source": [
    "df=pd.read_excel('../data/Online Retail.xlsx')\n",
    "\n",
    "df.head()"
   ]
  },
  {
   "cell_type": "markdown",
   "metadata": {},
   "source": [
    "## 1. Create an interactive bar chart showing total quantity and revenue by country (excluding United Kingdom) for the month of April 2011."
   ]
  },
  {
   "cell_type": "code",
   "execution_count": 12,
   "metadata": {},
   "outputs": [
    {
     "data": {
      "text/html": [
       "<div>\n",
       "<style scoped>\n",
       "    .dataframe tbody tr th:only-of-type {\n",
       "        vertical-align: middle;\n",
       "    }\n",
       "\n",
       "    .dataframe tbody tr th {\n",
       "        vertical-align: top;\n",
       "    }\n",
       "\n",
       "    .dataframe thead th {\n",
       "        text-align: right;\n",
       "    }\n",
       "</style>\n",
       "<table border=\"1\" class=\"dataframe\">\n",
       "  <thead>\n",
       "    <tr style=\"text-align: right;\">\n",
       "      <th></th>\n",
       "      <th>InvoiceNo</th>\n",
       "      <th>InvoiceDate</th>\n",
       "      <th>StockCode</th>\n",
       "      <th>Description</th>\n",
       "      <th>Quantity</th>\n",
       "      <th>UnitPrice</th>\n",
       "      <th>Revenue</th>\n",
       "      <th>CustomerID</th>\n",
       "      <th>Country</th>\n",
       "    </tr>\n",
       "  </thead>\n",
       "  <tbody>\n",
       "    <tr>\n",
       "      <th>724</th>\n",
       "      <td>549667</td>\n",
       "      <td>2011-04-11 12:20:00</td>\n",
       "      <td>85123A</td>\n",
       "      <td>CREAM HANGING HEART T-LIGHT HOLDER</td>\n",
       "      <td>6</td>\n",
       "      <td>2.95</td>\n",
       "      <td>17.70</td>\n",
       "      <td>14911</td>\n",
       "      <td>EIRE</td>\n",
       "    </tr>\n",
       "    <tr>\n",
       "      <th>807</th>\n",
       "      <td>551163</td>\n",
       "      <td>2011-04-26 15:52:00</td>\n",
       "      <td>85123A</td>\n",
       "      <td>CREAM HANGING HEART T-LIGHT HOLDER</td>\n",
       "      <td>9</td>\n",
       "      <td>2.95</td>\n",
       "      <td>26.55</td>\n",
       "      <td>12573</td>\n",
       "      <td>France</td>\n",
       "    </tr>\n",
       "    <tr>\n",
       "      <th>3320</th>\n",
       "      <td>550899</td>\n",
       "      <td>2011-04-21 12:07:00</td>\n",
       "      <td>22752</td>\n",
       "      <td>SET 7 BABUSHKA NESTING BOXES</td>\n",
       "      <td>2</td>\n",
       "      <td>8.50</td>\n",
       "      <td>17.00</td>\n",
       "      <td>13505</td>\n",
       "      <td>Switzerland</td>\n",
       "    </tr>\n",
       "    <tr>\n",
       "      <th>4880</th>\n",
       "      <td>550527</td>\n",
       "      <td>2011-04-19 10:48:00</td>\n",
       "      <td>84879</td>\n",
       "      <td>ASSORTED COLOUR BIRD ORNAMENT</td>\n",
       "      <td>40</td>\n",
       "      <td>1.69</td>\n",
       "      <td>67.60</td>\n",
       "      <td>12476</td>\n",
       "      <td>Germany</td>\n",
       "    </tr>\n",
       "    <tr>\n",
       "      <th>4882</th>\n",
       "      <td>550620</td>\n",
       "      <td>2011-04-19 13:39:00</td>\n",
       "      <td>84879</td>\n",
       "      <td>ASSORTED COLOUR BIRD ORNAMENT</td>\n",
       "      <td>32</td>\n",
       "      <td>1.69</td>\n",
       "      <td>54.08</td>\n",
       "      <td>12585</td>\n",
       "      <td>Germany</td>\n",
       "    </tr>\n",
       "  </tbody>\n",
       "</table>\n",
       "</div>"
      ],
      "text/plain": [
       "      InvoiceNo         InvoiceDate StockCode  \\\n",
       "724      549667 2011-04-11 12:20:00    85123A   \n",
       "807      551163 2011-04-26 15:52:00    85123A   \n",
       "3320     550899 2011-04-21 12:07:00     22752   \n",
       "4880     550527 2011-04-19 10:48:00     84879   \n",
       "4882     550620 2011-04-19 13:39:00     84879   \n",
       "\n",
       "                             Description  Quantity  UnitPrice  Revenue  \\\n",
       "724   CREAM HANGING HEART T-LIGHT HOLDER         6       2.95    17.70   \n",
       "807   CREAM HANGING HEART T-LIGHT HOLDER         9       2.95    26.55   \n",
       "3320        SET 7 BABUSHKA NESTING BOXES         2       8.50    17.00   \n",
       "4880       ASSORTED COLOUR BIRD ORNAMENT        40       1.69    67.60   \n",
       "4882       ASSORTED COLOUR BIRD ORNAMENT        32       1.69    54.08   \n",
       "\n",
       "      CustomerID      Country  \n",
       "724        14911         EIRE  \n",
       "807        12573       France  \n",
       "3320       13505  Switzerland  \n",
       "4880       12476      Germany  \n",
       "4882       12585      Germany  "
      ]
     },
     "execution_count": 12,
     "metadata": {},
     "output_type": "execute_result"
    }
   ],
   "source": [
    "not_uk = df[(df.Country!='United Kingdom')]\n",
    "\n",
    "\n",
    "not_uk_april =not_uk.loc[(not_uk.InvoiceDate >= '2011-4-1') & (not_uk.InvoiceDate <= '2011-4-30')]\n",
    "\n",
    "not_uk_april.head()"
   ]
  },
  {
   "cell_type": "code",
   "execution_count": 16,
   "metadata": {},
   "outputs": [
    {
     "data": {
      "application/vnd.plotly.v1+json": {
       "config": {
        "linkText": "Export to plot.ly",
        "plotlyServerURL": "https://plot.ly",
        "showLink": true
       },
       "data": [
        {
         "marker": {
          "color": "rgba(255, 153, 51, 0.6)",
          "line": {
           "color": "rgba(255, 153, 51, 1.0)",
           "width": 1
          }
         },
         "name": "Quantity",
         "orientation": "v",
         "text": "",
         "type": "bar",
         "x": [
          "Australia",
          "Austria",
          "Belgium",
          "Brazil",
          "Channel Islands",
          "EIRE",
          "Finland",
          "France",
          "Germany",
          "Greece",
          "Iceland",
          "Italy",
          "Japan",
          "Netherlands",
          "Poland",
          "Portugal",
          "Singapore",
          "Spain",
          "Sweden",
          "Switzerland",
          "USA"
         ],
         "y": [
          224,
          308,
          1170,
          356,
          96,
          4129,
          810,
          2265,
          5702,
          260,
          483,
          653,
          8058,
          1762,
          432,
          951,
          1384,
          948,
          306,
          878,
          137
         ]
        },
        {
         "marker": {
          "color": "rgba(55, 128, 191, 0.6)",
          "line": {
           "color": "rgba(55, 128, 191, 1.0)",
           "width": 1
          }
         },
         "name": "Revenue",
         "orientation": "v",
         "text": "",
         "type": "bar",
         "x": [
          "Australia",
          "Austria",
          "Belgium",
          "Brazil",
          "Channel Islands",
          "EIRE",
          "Finland",
          "France",
          "Germany",
          "Greece",
          "Iceland",
          "Italy",
          "Japan",
          "Netherlands",
          "Poland",
          "Portugal",
          "Singapore",
          "Spain",
          "Sweden",
          "Switzerland",
          "USA"
         ],
         "y": [
          421.6,
          584.78,
          1788.48,
          1143.6,
          243,
          7270.5,
          1368.92,
          3899.31,
          10994.79,
          509.74,
          636.25,
          737.83,
          6548.5,
          2886.56,
          705.8399999999999,
          1687.75,
          2118.74,
          1645.65,
          649.1,
          1756.94,
          383.95
         ]
        }
       ],
       "layout": {
        "legend": {
         "bgcolor": "#F5F6F9",
         "font": {
          "color": "#4D5663"
         }
        },
        "paper_bgcolor": "#F5F6F9",
        "plot_bgcolor": "#F5F6F9",
        "template": {
         "data": {
          "bar": [
           {
            "error_x": {
             "color": "#2a3f5f"
            },
            "error_y": {
             "color": "#2a3f5f"
            },
            "marker": {
             "line": {
              "color": "#E5ECF6",
              "width": 0.5
             },
             "pattern": {
              "fillmode": "overlay",
              "size": 10,
              "solidity": 0.2
             }
            },
            "type": "bar"
           }
          ],
          "barpolar": [
           {
            "marker": {
             "line": {
              "color": "#E5ECF6",
              "width": 0.5
             },
             "pattern": {
              "fillmode": "overlay",
              "size": 10,
              "solidity": 0.2
             }
            },
            "type": "barpolar"
           }
          ],
          "carpet": [
           {
            "aaxis": {
             "endlinecolor": "#2a3f5f",
             "gridcolor": "white",
             "linecolor": "white",
             "minorgridcolor": "white",
             "startlinecolor": "#2a3f5f"
            },
            "baxis": {
             "endlinecolor": "#2a3f5f",
             "gridcolor": "white",
             "linecolor": "white",
             "minorgridcolor": "white",
             "startlinecolor": "#2a3f5f"
            },
            "type": "carpet"
           }
          ],
          "choropleth": [
           {
            "colorbar": {
             "outlinewidth": 0,
             "ticks": ""
            },
            "type": "choropleth"
           }
          ],
          "contour": [
           {
            "colorbar": {
             "outlinewidth": 0,
             "ticks": ""
            },
            "colorscale": [
             [
              0,
              "#0d0887"
             ],
             [
              0.1111111111111111,
              "#46039f"
             ],
             [
              0.2222222222222222,
              "#7201a8"
             ],
             [
              0.3333333333333333,
              "#9c179e"
             ],
             [
              0.4444444444444444,
              "#bd3786"
             ],
             [
              0.5555555555555556,
              "#d8576b"
             ],
             [
              0.6666666666666666,
              "#ed7953"
             ],
             [
              0.7777777777777778,
              "#fb9f3a"
             ],
             [
              0.8888888888888888,
              "#fdca26"
             ],
             [
              1,
              "#f0f921"
             ]
            ],
            "type": "contour"
           }
          ],
          "contourcarpet": [
           {
            "colorbar": {
             "outlinewidth": 0,
             "ticks": ""
            },
            "type": "contourcarpet"
           }
          ],
          "heatmap": [
           {
            "colorbar": {
             "outlinewidth": 0,
             "ticks": ""
            },
            "colorscale": [
             [
              0,
              "#0d0887"
             ],
             [
              0.1111111111111111,
              "#46039f"
             ],
             [
              0.2222222222222222,
              "#7201a8"
             ],
             [
              0.3333333333333333,
              "#9c179e"
             ],
             [
              0.4444444444444444,
              "#bd3786"
             ],
             [
              0.5555555555555556,
              "#d8576b"
             ],
             [
              0.6666666666666666,
              "#ed7953"
             ],
             [
              0.7777777777777778,
              "#fb9f3a"
             ],
             [
              0.8888888888888888,
              "#fdca26"
             ],
             [
              1,
              "#f0f921"
             ]
            ],
            "type": "heatmap"
           }
          ],
          "heatmapgl": [
           {
            "colorbar": {
             "outlinewidth": 0,
             "ticks": ""
            },
            "colorscale": [
             [
              0,
              "#0d0887"
             ],
             [
              0.1111111111111111,
              "#46039f"
             ],
             [
              0.2222222222222222,
              "#7201a8"
             ],
             [
              0.3333333333333333,
              "#9c179e"
             ],
             [
              0.4444444444444444,
              "#bd3786"
             ],
             [
              0.5555555555555556,
              "#d8576b"
             ],
             [
              0.6666666666666666,
              "#ed7953"
             ],
             [
              0.7777777777777778,
              "#fb9f3a"
             ],
             [
              0.8888888888888888,
              "#fdca26"
             ],
             [
              1,
              "#f0f921"
             ]
            ],
            "type": "heatmapgl"
           }
          ],
          "histogram": [
           {
            "marker": {
             "pattern": {
              "fillmode": "overlay",
              "size": 10,
              "solidity": 0.2
             }
            },
            "type": "histogram"
           }
          ],
          "histogram2d": [
           {
            "colorbar": {
             "outlinewidth": 0,
             "ticks": ""
            },
            "colorscale": [
             [
              0,
              "#0d0887"
             ],
             [
              0.1111111111111111,
              "#46039f"
             ],
             [
              0.2222222222222222,
              "#7201a8"
             ],
             [
              0.3333333333333333,
              "#9c179e"
             ],
             [
              0.4444444444444444,
              "#bd3786"
             ],
             [
              0.5555555555555556,
              "#d8576b"
             ],
             [
              0.6666666666666666,
              "#ed7953"
             ],
             [
              0.7777777777777778,
              "#fb9f3a"
             ],
             [
              0.8888888888888888,
              "#fdca26"
             ],
             [
              1,
              "#f0f921"
             ]
            ],
            "type": "histogram2d"
           }
          ],
          "histogram2dcontour": [
           {
            "colorbar": {
             "outlinewidth": 0,
             "ticks": ""
            },
            "colorscale": [
             [
              0,
              "#0d0887"
             ],
             [
              0.1111111111111111,
              "#46039f"
             ],
             [
              0.2222222222222222,
              "#7201a8"
             ],
             [
              0.3333333333333333,
              "#9c179e"
             ],
             [
              0.4444444444444444,
              "#bd3786"
             ],
             [
              0.5555555555555556,
              "#d8576b"
             ],
             [
              0.6666666666666666,
              "#ed7953"
             ],
             [
              0.7777777777777778,
              "#fb9f3a"
             ],
             [
              0.8888888888888888,
              "#fdca26"
             ],
             [
              1,
              "#f0f921"
             ]
            ],
            "type": "histogram2dcontour"
           }
          ],
          "mesh3d": [
           {
            "colorbar": {
             "outlinewidth": 0,
             "ticks": ""
            },
            "type": "mesh3d"
           }
          ],
          "parcoords": [
           {
            "line": {
             "colorbar": {
              "outlinewidth": 0,
              "ticks": ""
             }
            },
            "type": "parcoords"
           }
          ],
          "pie": [
           {
            "automargin": true,
            "type": "pie"
           }
          ],
          "scatter": [
           {
            "fillpattern": {
             "fillmode": "overlay",
             "size": 10,
             "solidity": 0.2
            },
            "type": "scatter"
           }
          ],
          "scatter3d": [
           {
            "line": {
             "colorbar": {
              "outlinewidth": 0,
              "ticks": ""
             }
            },
            "marker": {
             "colorbar": {
              "outlinewidth": 0,
              "ticks": ""
             }
            },
            "type": "scatter3d"
           }
          ],
          "scattercarpet": [
           {
            "marker": {
             "colorbar": {
              "outlinewidth": 0,
              "ticks": ""
             }
            },
            "type": "scattercarpet"
           }
          ],
          "scattergeo": [
           {
            "marker": {
             "colorbar": {
              "outlinewidth": 0,
              "ticks": ""
             }
            },
            "type": "scattergeo"
           }
          ],
          "scattergl": [
           {
            "marker": {
             "colorbar": {
              "outlinewidth": 0,
              "ticks": ""
             }
            },
            "type": "scattergl"
           }
          ],
          "scattermapbox": [
           {
            "marker": {
             "colorbar": {
              "outlinewidth": 0,
              "ticks": ""
             }
            },
            "type": "scattermapbox"
           }
          ],
          "scatterpolar": [
           {
            "marker": {
             "colorbar": {
              "outlinewidth": 0,
              "ticks": ""
             }
            },
            "type": "scatterpolar"
           }
          ],
          "scatterpolargl": [
           {
            "marker": {
             "colorbar": {
              "outlinewidth": 0,
              "ticks": ""
             }
            },
            "type": "scatterpolargl"
           }
          ],
          "scatterternary": [
           {
            "marker": {
             "colorbar": {
              "outlinewidth": 0,
              "ticks": ""
             }
            },
            "type": "scatterternary"
           }
          ],
          "surface": [
           {
            "colorbar": {
             "outlinewidth": 0,
             "ticks": ""
            },
            "colorscale": [
             [
              0,
              "#0d0887"
             ],
             [
              0.1111111111111111,
              "#46039f"
             ],
             [
              0.2222222222222222,
              "#7201a8"
             ],
             [
              0.3333333333333333,
              "#9c179e"
             ],
             [
              0.4444444444444444,
              "#bd3786"
             ],
             [
              0.5555555555555556,
              "#d8576b"
             ],
             [
              0.6666666666666666,
              "#ed7953"
             ],
             [
              0.7777777777777778,
              "#fb9f3a"
             ],
             [
              0.8888888888888888,
              "#fdca26"
             ],
             [
              1,
              "#f0f921"
             ]
            ],
            "type": "surface"
           }
          ],
          "table": [
           {
            "cells": {
             "fill": {
              "color": "#EBF0F8"
             },
             "line": {
              "color": "white"
             }
            },
            "header": {
             "fill": {
              "color": "#C8D4E3"
             },
             "line": {
              "color": "white"
             }
            },
            "type": "table"
           }
          ]
         },
         "layout": {
          "annotationdefaults": {
           "arrowcolor": "#2a3f5f",
           "arrowhead": 0,
           "arrowwidth": 1
          },
          "autotypenumbers": "strict",
          "coloraxis": {
           "colorbar": {
            "outlinewidth": 0,
            "ticks": ""
           }
          },
          "colorscale": {
           "diverging": [
            [
             0,
             "#8e0152"
            ],
            [
             0.1,
             "#c51b7d"
            ],
            [
             0.2,
             "#de77ae"
            ],
            [
             0.3,
             "#f1b6da"
            ],
            [
             0.4,
             "#fde0ef"
            ],
            [
             0.5,
             "#f7f7f7"
            ],
            [
             0.6,
             "#e6f5d0"
            ],
            [
             0.7,
             "#b8e186"
            ],
            [
             0.8,
             "#7fbc41"
            ],
            [
             0.9,
             "#4d9221"
            ],
            [
             1,
             "#276419"
            ]
           ],
           "sequential": [
            [
             0,
             "#0d0887"
            ],
            [
             0.1111111111111111,
             "#46039f"
            ],
            [
             0.2222222222222222,
             "#7201a8"
            ],
            [
             0.3333333333333333,
             "#9c179e"
            ],
            [
             0.4444444444444444,
             "#bd3786"
            ],
            [
             0.5555555555555556,
             "#d8576b"
            ],
            [
             0.6666666666666666,
             "#ed7953"
            ],
            [
             0.7777777777777778,
             "#fb9f3a"
            ],
            [
             0.8888888888888888,
             "#fdca26"
            ],
            [
             1,
             "#f0f921"
            ]
           ],
           "sequentialminus": [
            [
             0,
             "#0d0887"
            ],
            [
             0.1111111111111111,
             "#46039f"
            ],
            [
             0.2222222222222222,
             "#7201a8"
            ],
            [
             0.3333333333333333,
             "#9c179e"
            ],
            [
             0.4444444444444444,
             "#bd3786"
            ],
            [
             0.5555555555555556,
             "#d8576b"
            ],
            [
             0.6666666666666666,
             "#ed7953"
            ],
            [
             0.7777777777777778,
             "#fb9f3a"
            ],
            [
             0.8888888888888888,
             "#fdca26"
            ],
            [
             1,
             "#f0f921"
            ]
           ]
          },
          "colorway": [
           "#636efa",
           "#EF553B",
           "#00cc96",
           "#ab63fa",
           "#FFA15A",
           "#19d3f3",
           "#FF6692",
           "#B6E880",
           "#FF97FF",
           "#FECB52"
          ],
          "font": {
           "color": "#2a3f5f"
          },
          "geo": {
           "bgcolor": "white",
           "lakecolor": "white",
           "landcolor": "#E5ECF6",
           "showlakes": true,
           "showland": true,
           "subunitcolor": "white"
          },
          "hoverlabel": {
           "align": "left"
          },
          "hovermode": "closest",
          "mapbox": {
           "style": "light"
          },
          "paper_bgcolor": "white",
          "plot_bgcolor": "#E5ECF6",
          "polar": {
           "angularaxis": {
            "gridcolor": "white",
            "linecolor": "white",
            "ticks": ""
           },
           "bgcolor": "#E5ECF6",
           "radialaxis": {
            "gridcolor": "white",
            "linecolor": "white",
            "ticks": ""
           }
          },
          "scene": {
           "xaxis": {
            "backgroundcolor": "#E5ECF6",
            "gridcolor": "white",
            "gridwidth": 2,
            "linecolor": "white",
            "showbackground": true,
            "ticks": "",
            "zerolinecolor": "white"
           },
           "yaxis": {
            "backgroundcolor": "#E5ECF6",
            "gridcolor": "white",
            "gridwidth": 2,
            "linecolor": "white",
            "showbackground": true,
            "ticks": "",
            "zerolinecolor": "white"
           },
           "zaxis": {
            "backgroundcolor": "#E5ECF6",
            "gridcolor": "white",
            "gridwidth": 2,
            "linecolor": "white",
            "showbackground": true,
            "ticks": "",
            "zerolinecolor": "white"
           }
          },
          "shapedefaults": {
           "line": {
            "color": "#2a3f5f"
           }
          },
          "ternary": {
           "aaxis": {
            "gridcolor": "white",
            "linecolor": "white",
            "ticks": ""
           },
           "baxis": {
            "gridcolor": "white",
            "linecolor": "white",
            "ticks": ""
           },
           "bgcolor": "#E5ECF6",
           "caxis": {
            "gridcolor": "white",
            "linecolor": "white",
            "ticks": ""
           }
          },
          "title": {
           "x": 0.05
          },
          "xaxis": {
           "automargin": true,
           "gridcolor": "white",
           "linecolor": "white",
           "ticks": "",
           "title": {
            "standoff": 15
           },
           "zerolinecolor": "white",
           "zerolinewidth": 2
          },
          "yaxis": {
           "automargin": true,
           "gridcolor": "white",
           "linecolor": "white",
           "ticks": "",
           "title": {
            "standoff": 15
           },
           "zerolinecolor": "white",
           "zerolinewidth": 2
          }
         }
        },
        "title": {
         "font": {
          "color": "#4D5663"
         },
         "text": "Cantidad total y beneficio"
        },
        "xaxis": {
         "gridcolor": "#E1E5ED",
         "showgrid": true,
         "tickfont": {
          "color": "#4D5663"
         },
         "title": {
          "font": {
           "color": "#4D5663"
          },
          "text": "Country"
         },
         "zerolinecolor": "#E1E5ED"
        },
        "yaxis": {
         "gridcolor": "#E1E5ED",
         "showgrid": true,
         "tickfont": {
          "color": "#4D5663"
         },
         "title": {
          "font": {
           "color": "#4D5663"
          },
          "text": ""
         },
         "zerolinecolor": "#E1E5ED"
        }
       }
      },
      "text/html": [
       "<div>                            <div id=\"c4c14381-5ed8-4e24-a047-cc48145b7882\" class=\"plotly-graph-div\" style=\"height:525px; width:100%;\"></div>            <script type=\"text/javascript\">                require([\"plotly\"], function(Plotly) {                    window.PLOTLYENV=window.PLOTLYENV || {};\n",
       "                    window.PLOTLYENV.BASE_URL='https://plot.ly';                                    if (document.getElementById(\"c4c14381-5ed8-4e24-a047-cc48145b7882\")) {                    Plotly.newPlot(                        \"c4c14381-5ed8-4e24-a047-cc48145b7882\",                        [{\"marker\":{\"color\":\"rgba(255, 153, 51, 0.6)\",\"line\":{\"color\":\"rgba(255, 153, 51, 1.0)\",\"width\":1}},\"name\":\"Quantity\",\"orientation\":\"v\",\"text\":\"\",\"x\":[\"Australia\",\"Austria\",\"Belgium\",\"Brazil\",\"Channel Islands\",\"EIRE\",\"Finland\",\"France\",\"Germany\",\"Greece\",\"Iceland\",\"Italy\",\"Japan\",\"Netherlands\",\"Poland\",\"Portugal\",\"Singapore\",\"Spain\",\"Sweden\",\"Switzerland\",\"USA\"],\"y\":[224,308,1170,356,96,4129,810,2265,5702,260,483,653,8058,1762,432,951,1384,948,306,878,137],\"type\":\"bar\"},{\"marker\":{\"color\":\"rgba(55, 128, 191, 0.6)\",\"line\":{\"color\":\"rgba(55, 128, 191, 1.0)\",\"width\":1}},\"name\":\"Revenue\",\"orientation\":\"v\",\"text\":\"\",\"x\":[\"Australia\",\"Austria\",\"Belgium\",\"Brazil\",\"Channel Islands\",\"EIRE\",\"Finland\",\"France\",\"Germany\",\"Greece\",\"Iceland\",\"Italy\",\"Japan\",\"Netherlands\",\"Poland\",\"Portugal\",\"Singapore\",\"Spain\",\"Sweden\",\"Switzerland\",\"USA\"],\"y\":[421.6,584.78,1788.48,1143.6,243.0,7270.5,1368.92,3899.31,10994.79,509.74,636.25,737.83,6548.5,2886.56,705.8399999999999,1687.75,2118.74,1645.65,649.1,1756.94,383.95],\"type\":\"bar\"}],                        {\"legend\":{\"bgcolor\":\"#F5F6F9\",\"font\":{\"color\":\"#4D5663\"}},\"paper_bgcolor\":\"#F5F6F9\",\"plot_bgcolor\":\"#F5F6F9\",\"template\":{\"data\":{\"barpolar\":[{\"marker\":{\"line\":{\"color\":\"#E5ECF6\",\"width\":0.5},\"pattern\":{\"fillmode\":\"overlay\",\"size\":10,\"solidity\":0.2}},\"type\":\"barpolar\"}],\"bar\":[{\"error_x\":{\"color\":\"#2a3f5f\"},\"error_y\":{\"color\":\"#2a3f5f\"},\"marker\":{\"line\":{\"color\":\"#E5ECF6\",\"width\":0.5},\"pattern\":{\"fillmode\":\"overlay\",\"size\":10,\"solidity\":0.2}},\"type\":\"bar\"}],\"carpet\":[{\"aaxis\":{\"endlinecolor\":\"#2a3f5f\",\"gridcolor\":\"white\",\"linecolor\":\"white\",\"minorgridcolor\":\"white\",\"startlinecolor\":\"#2a3f5f\"},\"baxis\":{\"endlinecolor\":\"#2a3f5f\",\"gridcolor\":\"white\",\"linecolor\":\"white\",\"minorgridcolor\":\"white\",\"startlinecolor\":\"#2a3f5f\"},\"type\":\"carpet\"}],\"choropleth\":[{\"colorbar\":{\"outlinewidth\":0,\"ticks\":\"\"},\"type\":\"choropleth\"}],\"contourcarpet\":[{\"colorbar\":{\"outlinewidth\":0,\"ticks\":\"\"},\"type\":\"contourcarpet\"}],\"contour\":[{\"colorbar\":{\"outlinewidth\":0,\"ticks\":\"\"},\"colorscale\":[[0.0,\"#0d0887\"],[0.1111111111111111,\"#46039f\"],[0.2222222222222222,\"#7201a8\"],[0.3333333333333333,\"#9c179e\"],[0.4444444444444444,\"#bd3786\"],[0.5555555555555556,\"#d8576b\"],[0.6666666666666666,\"#ed7953\"],[0.7777777777777778,\"#fb9f3a\"],[0.8888888888888888,\"#fdca26\"],[1.0,\"#f0f921\"]],\"type\":\"contour\"}],\"heatmapgl\":[{\"colorbar\":{\"outlinewidth\":0,\"ticks\":\"\"},\"colorscale\":[[0.0,\"#0d0887\"],[0.1111111111111111,\"#46039f\"],[0.2222222222222222,\"#7201a8\"],[0.3333333333333333,\"#9c179e\"],[0.4444444444444444,\"#bd3786\"],[0.5555555555555556,\"#d8576b\"],[0.6666666666666666,\"#ed7953\"],[0.7777777777777778,\"#fb9f3a\"],[0.8888888888888888,\"#fdca26\"],[1.0,\"#f0f921\"]],\"type\":\"heatmapgl\"}],\"heatmap\":[{\"colorbar\":{\"outlinewidth\":0,\"ticks\":\"\"},\"colorscale\":[[0.0,\"#0d0887\"],[0.1111111111111111,\"#46039f\"],[0.2222222222222222,\"#7201a8\"],[0.3333333333333333,\"#9c179e\"],[0.4444444444444444,\"#bd3786\"],[0.5555555555555556,\"#d8576b\"],[0.6666666666666666,\"#ed7953\"],[0.7777777777777778,\"#fb9f3a\"],[0.8888888888888888,\"#fdca26\"],[1.0,\"#f0f921\"]],\"type\":\"heatmap\"}],\"histogram2dcontour\":[{\"colorbar\":{\"outlinewidth\":0,\"ticks\":\"\"},\"colorscale\":[[0.0,\"#0d0887\"],[0.1111111111111111,\"#46039f\"],[0.2222222222222222,\"#7201a8\"],[0.3333333333333333,\"#9c179e\"],[0.4444444444444444,\"#bd3786\"],[0.5555555555555556,\"#d8576b\"],[0.6666666666666666,\"#ed7953\"],[0.7777777777777778,\"#fb9f3a\"],[0.8888888888888888,\"#fdca26\"],[1.0,\"#f0f921\"]],\"type\":\"histogram2dcontour\"}],\"histogram2d\":[{\"colorbar\":{\"outlinewidth\":0,\"ticks\":\"\"},\"colorscale\":[[0.0,\"#0d0887\"],[0.1111111111111111,\"#46039f\"],[0.2222222222222222,\"#7201a8\"],[0.3333333333333333,\"#9c179e\"],[0.4444444444444444,\"#bd3786\"],[0.5555555555555556,\"#d8576b\"],[0.6666666666666666,\"#ed7953\"],[0.7777777777777778,\"#fb9f3a\"],[0.8888888888888888,\"#fdca26\"],[1.0,\"#f0f921\"]],\"type\":\"histogram2d\"}],\"histogram\":[{\"marker\":{\"pattern\":{\"fillmode\":\"overlay\",\"size\":10,\"solidity\":0.2}},\"type\":\"histogram\"}],\"mesh3d\":[{\"colorbar\":{\"outlinewidth\":0,\"ticks\":\"\"},\"type\":\"mesh3d\"}],\"parcoords\":[{\"line\":{\"colorbar\":{\"outlinewidth\":0,\"ticks\":\"\"}},\"type\":\"parcoords\"}],\"pie\":[{\"automargin\":true,\"type\":\"pie\"}],\"scatter3d\":[{\"line\":{\"colorbar\":{\"outlinewidth\":0,\"ticks\":\"\"}},\"marker\":{\"colorbar\":{\"outlinewidth\":0,\"ticks\":\"\"}},\"type\":\"scatter3d\"}],\"scattercarpet\":[{\"marker\":{\"colorbar\":{\"outlinewidth\":0,\"ticks\":\"\"}},\"type\":\"scattercarpet\"}],\"scattergeo\":[{\"marker\":{\"colorbar\":{\"outlinewidth\":0,\"ticks\":\"\"}},\"type\":\"scattergeo\"}],\"scattergl\":[{\"marker\":{\"colorbar\":{\"outlinewidth\":0,\"ticks\":\"\"}},\"type\":\"scattergl\"}],\"scattermapbox\":[{\"marker\":{\"colorbar\":{\"outlinewidth\":0,\"ticks\":\"\"}},\"type\":\"scattermapbox\"}],\"scatterpolargl\":[{\"marker\":{\"colorbar\":{\"outlinewidth\":0,\"ticks\":\"\"}},\"type\":\"scatterpolargl\"}],\"scatterpolar\":[{\"marker\":{\"colorbar\":{\"outlinewidth\":0,\"ticks\":\"\"}},\"type\":\"scatterpolar\"}],\"scatter\":[{\"fillpattern\":{\"fillmode\":\"overlay\",\"size\":10,\"solidity\":0.2},\"type\":\"scatter\"}],\"scatterternary\":[{\"marker\":{\"colorbar\":{\"outlinewidth\":0,\"ticks\":\"\"}},\"type\":\"scatterternary\"}],\"surface\":[{\"colorbar\":{\"outlinewidth\":0,\"ticks\":\"\"},\"colorscale\":[[0.0,\"#0d0887\"],[0.1111111111111111,\"#46039f\"],[0.2222222222222222,\"#7201a8\"],[0.3333333333333333,\"#9c179e\"],[0.4444444444444444,\"#bd3786\"],[0.5555555555555556,\"#d8576b\"],[0.6666666666666666,\"#ed7953\"],[0.7777777777777778,\"#fb9f3a\"],[0.8888888888888888,\"#fdca26\"],[1.0,\"#f0f921\"]],\"type\":\"surface\"}],\"table\":[{\"cells\":{\"fill\":{\"color\":\"#EBF0F8\"},\"line\":{\"color\":\"white\"}},\"header\":{\"fill\":{\"color\":\"#C8D4E3\"},\"line\":{\"color\":\"white\"}},\"type\":\"table\"}]},\"layout\":{\"annotationdefaults\":{\"arrowcolor\":\"#2a3f5f\",\"arrowhead\":0,\"arrowwidth\":1},\"autotypenumbers\":\"strict\",\"coloraxis\":{\"colorbar\":{\"outlinewidth\":0,\"ticks\":\"\"}},\"colorscale\":{\"diverging\":[[0,\"#8e0152\"],[0.1,\"#c51b7d\"],[0.2,\"#de77ae\"],[0.3,\"#f1b6da\"],[0.4,\"#fde0ef\"],[0.5,\"#f7f7f7\"],[0.6,\"#e6f5d0\"],[0.7,\"#b8e186\"],[0.8,\"#7fbc41\"],[0.9,\"#4d9221\"],[1,\"#276419\"]],\"sequential\":[[0.0,\"#0d0887\"],[0.1111111111111111,\"#46039f\"],[0.2222222222222222,\"#7201a8\"],[0.3333333333333333,\"#9c179e\"],[0.4444444444444444,\"#bd3786\"],[0.5555555555555556,\"#d8576b\"],[0.6666666666666666,\"#ed7953\"],[0.7777777777777778,\"#fb9f3a\"],[0.8888888888888888,\"#fdca26\"],[1.0,\"#f0f921\"]],\"sequentialminus\":[[0.0,\"#0d0887\"],[0.1111111111111111,\"#46039f\"],[0.2222222222222222,\"#7201a8\"],[0.3333333333333333,\"#9c179e\"],[0.4444444444444444,\"#bd3786\"],[0.5555555555555556,\"#d8576b\"],[0.6666666666666666,\"#ed7953\"],[0.7777777777777778,\"#fb9f3a\"],[0.8888888888888888,\"#fdca26\"],[1.0,\"#f0f921\"]]},\"colorway\":[\"#636efa\",\"#EF553B\",\"#00cc96\",\"#ab63fa\",\"#FFA15A\",\"#19d3f3\",\"#FF6692\",\"#B6E880\",\"#FF97FF\",\"#FECB52\"],\"font\":{\"color\":\"#2a3f5f\"},\"geo\":{\"bgcolor\":\"white\",\"lakecolor\":\"white\",\"landcolor\":\"#E5ECF6\",\"showlakes\":true,\"showland\":true,\"subunitcolor\":\"white\"},\"hoverlabel\":{\"align\":\"left\"},\"hovermode\":\"closest\",\"mapbox\":{\"style\":\"light\"},\"paper_bgcolor\":\"white\",\"plot_bgcolor\":\"#E5ECF6\",\"polar\":{\"angularaxis\":{\"gridcolor\":\"white\",\"linecolor\":\"white\",\"ticks\":\"\"},\"bgcolor\":\"#E5ECF6\",\"radialaxis\":{\"gridcolor\":\"white\",\"linecolor\":\"white\",\"ticks\":\"\"}},\"scene\":{\"xaxis\":{\"backgroundcolor\":\"#E5ECF6\",\"gridcolor\":\"white\",\"gridwidth\":2,\"linecolor\":\"white\",\"showbackground\":true,\"ticks\":\"\",\"zerolinecolor\":\"white\"},\"yaxis\":{\"backgroundcolor\":\"#E5ECF6\",\"gridcolor\":\"white\",\"gridwidth\":2,\"linecolor\":\"white\",\"showbackground\":true,\"ticks\":\"\",\"zerolinecolor\":\"white\"},\"zaxis\":{\"backgroundcolor\":\"#E5ECF6\",\"gridcolor\":\"white\",\"gridwidth\":2,\"linecolor\":\"white\",\"showbackground\":true,\"ticks\":\"\",\"zerolinecolor\":\"white\"}},\"shapedefaults\":{\"line\":{\"color\":\"#2a3f5f\"}},\"ternary\":{\"aaxis\":{\"gridcolor\":\"white\",\"linecolor\":\"white\",\"ticks\":\"\"},\"baxis\":{\"gridcolor\":\"white\",\"linecolor\":\"white\",\"ticks\":\"\"},\"bgcolor\":\"#E5ECF6\",\"caxis\":{\"gridcolor\":\"white\",\"linecolor\":\"white\",\"ticks\":\"\"}},\"title\":{\"x\":0.05},\"xaxis\":{\"automargin\":true,\"gridcolor\":\"white\",\"linecolor\":\"white\",\"ticks\":\"\",\"title\":{\"standoff\":15},\"zerolinecolor\":\"white\",\"zerolinewidth\":2},\"yaxis\":{\"automargin\":true,\"gridcolor\":\"white\",\"linecolor\":\"white\",\"ticks\":\"\",\"title\":{\"standoff\":15},\"zerolinecolor\":\"white\",\"zerolinewidth\":2}}},\"title\":{\"font\":{\"color\":\"#4D5663\"},\"text\":\"Cantidad total y beneficio\"},\"xaxis\":{\"gridcolor\":\"#E1E5ED\",\"showgrid\":true,\"tickfont\":{\"color\":\"#4D5663\"},\"title\":{\"font\":{\"color\":\"#4D5663\"},\"text\":\"Country\"},\"zerolinecolor\":\"#E1E5ED\"},\"yaxis\":{\"gridcolor\":\"#E1E5ED\",\"showgrid\":true,\"tickfont\":{\"color\":\"#4D5663\"},\"title\":{\"font\":{\"color\":\"#4D5663\"},\"text\":\"\"},\"zerolinecolor\":\"#E1E5ED\"}},                        {\"showLink\": true, \"linkText\": \"Export to plot.ly\", \"plotlyServerURL\": \"https://plot.ly\", \"responsive\": true}                    ).then(function(){\n",
       "                            \n",
       "var gd = document.getElementById('c4c14381-5ed8-4e24-a047-cc48145b7882');\n",
       "var x = new MutationObserver(function (mutations, observer) {{\n",
       "        var display = window.getComputedStyle(gd).display;\n",
       "        if (!display || display === 'none') {{\n",
       "            console.log([gd, 'removed!']);\n",
       "            Plotly.purge(gd);\n",
       "            observer.disconnect();\n",
       "        }}\n",
       "}});\n",
       "\n",
       "// Listen for the removal of the full notebook cells\n",
       "var notebookContainer = gd.closest('#notebook-container');\n",
       "if (notebookContainer) {{\n",
       "    x.observe(notebookContainer, {childList: true});\n",
       "}}\n",
       "\n",
       "// Listen for the clearing of the current output cell\n",
       "var outputEl = gd.closest('.output');\n",
       "if (outputEl) {{\n",
       "    x.observe(outputEl, {childList: true});\n",
       "}}\n",
       "\n",
       "                        })                };                });            </script>        </div>"
      ]
     },
     "metadata": {},
     "output_type": "display_data"
    }
   ],
   "source": [
    "not_uk_april.groupby('Country')[['Quantity', 'Revenue']].sum().iplot(kind='bar', xTitle='Country', title='Cantidad total y beneficio')"
   ]
  },
  {
   "cell_type": "markdown",
   "metadata": {},
   "source": [
    "## 2. Create an interactive line chart showing quantity and revenue sold to France between January 1st and May 31st 2011."
   ]
  },
  {
   "cell_type": "code",
   "execution_count": 14,
   "metadata": {},
   "outputs": [
    {
     "data": {
      "application/vnd.plotly.v1+json": {
       "config": {
        "plotlyServerURL": "https://plot.ly"
       },
       "data": [
        {
         "hovertemplate": "variable=Quantity<br>InvoiceDate=%{x}<br>value=%{y}<extra></extra>",
         "legendgroup": "Quantity",
         "line": {
          "color": "#636efa",
          "dash": "solid"
         },
         "marker": {
          "symbol": "circle"
         },
         "mode": "lines",
         "name": "Quantity",
         "orientation": "v",
         "showlegend": true,
         "type": "scatter",
         "x": [
          "2011-01-05T12:42:00",
          "2011-01-05T14:48:00",
          "2011-01-06T14:26:00",
          "2011-01-06T16:12:00",
          "2011-01-07T12:07:00",
          "2011-01-07T13:13:00",
          "2011-01-09T12:46:00",
          "2011-01-10T13:22:00",
          "2011-01-11T07:57:00",
          "2011-01-11T11:48:00",
          "2011-01-11T13:31:00",
          "2011-01-11T15:00:00",
          "2011-01-12T09:43:00",
          "2011-01-12T14:13:00",
          "2011-01-12T15:00:00",
          "2011-01-14T09:13:00",
          "2011-01-14T09:20:00",
          "2011-01-14T10:42:00",
          "2011-01-17T15:17:00",
          "2011-01-19T11:51:00",
          "2011-01-20T10:47:00",
          "2011-01-20T10:48:00",
          "2011-01-23T15:17:00",
          "2011-01-24T15:32:00",
          "2011-01-28T09:20:00",
          "2011-01-28T10:45:00",
          "2011-01-28T13:37:00",
          "2011-01-31T09:57:00",
          "2011-01-31T15:36:00",
          "2011-02-01T14:58:00",
          "2011-02-02T09:06:00",
          "2011-02-02T15:22:00",
          "2011-02-04T11:45:00",
          "2011-02-08T13:28:00",
          "2011-02-09T10:11:00",
          "2011-02-10T15:38:00",
          "2011-02-15T14:17:00",
          "2011-02-16T11:45:00",
          "2011-02-17T10:08:00",
          "2011-02-18T10:53:00",
          "2011-02-18T15:23:00",
          "2011-02-21T08:38:00",
          "2011-02-21T14:58:00",
          "2011-02-23T16:44:00",
          "2011-02-23T16:45:00",
          "2011-02-27T11:58:00",
          "2011-02-28T11:43:00",
          "2011-02-28T11:58:00",
          "2011-02-28T14:42:00",
          "2011-02-28T14:45:00",
          "2011-03-01T10:31:00",
          "2011-03-01T12:26:00",
          "2011-03-03T12:06:00",
          "2011-03-03T12:20:00",
          "2011-03-04T09:08:00",
          "2011-03-11T12:00:00",
          "2011-03-13T14:55:00",
          "2011-03-14T11:38:00",
          "2011-03-15T16:39:00",
          "2011-03-16T14:37:00",
          "2011-03-16T15:17:00",
          "2011-03-20T15:58:00",
          "2011-03-21T12:42:00",
          "2011-03-21T12:44:00",
          "2011-03-22T11:28:00",
          "2011-03-23T12:06:00",
          "2011-03-23T13:33:00",
          "2011-03-23T13:39:00",
          "2011-03-23T14:55:00",
          "2011-03-25T10:19:00",
          "2011-03-27T13:07:00",
          "2011-03-28T10:15:00",
          "2011-03-31T10:27:00",
          "2011-03-31T10:29:00",
          "2011-03-31T13:40:00",
          "2011-04-01T09:19:00",
          "2011-04-01T11:10:00",
          "2011-04-04T11:18:00",
          "2011-04-07T13:07:00",
          "2011-04-14T14:15:00",
          "2011-04-17T11:21:00",
          "2011-04-17T15:33:00",
          "2011-04-20T09:20:00",
          "2011-04-21T08:54:00",
          "2011-04-21T10:16:00",
          "2011-04-26T15:52:00",
          "2011-04-28T11:45:00",
          "2011-05-03T08:40:00",
          "2011-05-03T09:33:00",
          "2011-05-03T09:34:00",
          "2011-05-03T12:02:00",
          "2011-05-03T12:03:00",
          "2011-05-05T09:29:00",
          "2011-05-08T16:10:00",
          "2011-05-09T09:47:00",
          "2011-05-09T15:12:00",
          "2011-05-10T12:55:00",
          "2011-05-11T13:20:00",
          "2011-05-11T15:07:00",
          "2011-05-12T11:50:00",
          "2011-05-13T09:24:00",
          "2011-05-13T13:15:00",
          "2011-05-13T15:48:00",
          "2011-05-15T13:45:00",
          "2011-05-16T09:10:00",
          "2011-05-16T12:04:00",
          "2011-05-17T09:28:00",
          "2011-05-18T09:09:00",
          "2011-05-18T10:34:00",
          "2011-05-18T12:18:00",
          "2011-05-19T12:10:00",
          "2011-05-19T12:29:00",
          "2011-05-20T11:34:00",
          "2011-05-22T13:01:00",
          "2011-05-22T14:33:00",
          "2011-05-23T09:48:00",
          "2011-05-24T09:25:00",
          "2011-05-25T10:08:00",
          "2011-05-25T12:44:00",
          "2011-05-25T12:54:00",
          "2011-05-26T14:53:00",
          "2011-05-26T17:16:00",
          "2011-05-27T13:49:00"
         ],
         "xaxis": "x",
         "y": [
          359,
          369,
          261,
          177,
          488,
          103,
          78,
          628,
          168,
          576,
          120,
          114,
          43,
          131,
          498,
          543,
          78,
          440,
          263,
          383,
          211,
          491,
          120,
          84,
          59,
          406,
          102,
          1617,
          202,
          197,
          159,
          206,
          611,
          214,
          298,
          452,
          96,
          772,
          114,
          748,
          15,
          256,
          77,
          264,
          96,
          70,
          213,
          310,
          72,
          54,
          245,
          329,
          314,
          24,
          123,
          323,
          183,
          184,
          314,
          97,
          62,
          422,
          85,
          5,
          198,
          136,
          713,
          242,
          130,
          261,
          59,
          842,
          946,
          132,
          2271,
          88,
          240,
          293,
          236,
          284,
          375,
          25,
          196,
          23,
          275,
          84,
          146,
          368,
          350,
          6,
          120,
          192,
          98,
          773,
          162,
          332,
          458,
          859,
          734,
          105,
          202,
          33,
          267,
          140,
          220,
          58,
          476,
          103,
          152,
          72,
          434,
          126,
          464,
          229,
          62,
          304,
          208,
          180,
          180,
          374,
          86,
          424,
          155
         ],
         "yaxis": "y"
        },
        {
         "hovertemplate": "variable=Revenue<br>InvoiceDate=%{x}<br>value=%{y}<extra></extra>",
         "legendgroup": "Revenue",
         "line": {
          "color": "#EF553B",
          "dash": "solid"
         },
         "marker": {
          "symbol": "circle"
         },
         "mode": "lines",
         "name": "Revenue",
         "orientation": "v",
         "showlegend": true,
         "type": "scatter",
         "x": [
          "2011-01-05T12:42:00",
          "2011-01-05T14:48:00",
          "2011-01-06T14:26:00",
          "2011-01-06T16:12:00",
          "2011-01-07T12:07:00",
          "2011-01-07T13:13:00",
          "2011-01-09T12:46:00",
          "2011-01-10T13:22:00",
          "2011-01-11T07:57:00",
          "2011-01-11T11:48:00",
          "2011-01-11T13:31:00",
          "2011-01-11T15:00:00",
          "2011-01-12T09:43:00",
          "2011-01-12T14:13:00",
          "2011-01-12T15:00:00",
          "2011-01-14T09:13:00",
          "2011-01-14T09:20:00",
          "2011-01-14T10:42:00",
          "2011-01-17T15:17:00",
          "2011-01-19T11:51:00",
          "2011-01-20T10:47:00",
          "2011-01-20T10:48:00",
          "2011-01-23T15:17:00",
          "2011-01-24T15:32:00",
          "2011-01-28T09:20:00",
          "2011-01-28T10:45:00",
          "2011-01-28T13:37:00",
          "2011-01-31T09:57:00",
          "2011-01-31T15:36:00",
          "2011-02-01T14:58:00",
          "2011-02-02T09:06:00",
          "2011-02-02T15:22:00",
          "2011-02-04T11:45:00",
          "2011-02-08T13:28:00",
          "2011-02-09T10:11:00",
          "2011-02-10T15:38:00",
          "2011-02-15T14:17:00",
          "2011-02-16T11:45:00",
          "2011-02-17T10:08:00",
          "2011-02-18T10:53:00",
          "2011-02-18T15:23:00",
          "2011-02-21T08:38:00",
          "2011-02-21T14:58:00",
          "2011-02-23T16:44:00",
          "2011-02-23T16:45:00",
          "2011-02-27T11:58:00",
          "2011-02-28T11:43:00",
          "2011-02-28T11:58:00",
          "2011-02-28T14:42:00",
          "2011-02-28T14:45:00",
          "2011-03-01T10:31:00",
          "2011-03-01T12:26:00",
          "2011-03-03T12:06:00",
          "2011-03-03T12:20:00",
          "2011-03-04T09:08:00",
          "2011-03-11T12:00:00",
          "2011-03-13T14:55:00",
          "2011-03-14T11:38:00",
          "2011-03-15T16:39:00",
          "2011-03-16T14:37:00",
          "2011-03-16T15:17:00",
          "2011-03-20T15:58:00",
          "2011-03-21T12:42:00",
          "2011-03-21T12:44:00",
          "2011-03-22T11:28:00",
          "2011-03-23T12:06:00",
          "2011-03-23T13:33:00",
          "2011-03-23T13:39:00",
          "2011-03-23T14:55:00",
          "2011-03-25T10:19:00",
          "2011-03-27T13:07:00",
          "2011-03-28T10:15:00",
          "2011-03-31T10:27:00",
          "2011-03-31T10:29:00",
          "2011-03-31T13:40:00",
          "2011-04-01T09:19:00",
          "2011-04-01T11:10:00",
          "2011-04-04T11:18:00",
          "2011-04-07T13:07:00",
          "2011-04-14T14:15:00",
          "2011-04-17T11:21:00",
          "2011-04-17T15:33:00",
          "2011-04-20T09:20:00",
          "2011-04-21T08:54:00",
          "2011-04-21T10:16:00",
          "2011-04-26T15:52:00",
          "2011-04-28T11:45:00",
          "2011-05-03T08:40:00",
          "2011-05-03T09:33:00",
          "2011-05-03T09:34:00",
          "2011-05-03T12:02:00",
          "2011-05-03T12:03:00",
          "2011-05-05T09:29:00",
          "2011-05-08T16:10:00",
          "2011-05-09T09:47:00",
          "2011-05-09T15:12:00",
          "2011-05-10T12:55:00",
          "2011-05-11T13:20:00",
          "2011-05-11T15:07:00",
          "2011-05-12T11:50:00",
          "2011-05-13T09:24:00",
          "2011-05-13T13:15:00",
          "2011-05-13T15:48:00",
          "2011-05-15T13:45:00",
          "2011-05-16T09:10:00",
          "2011-05-16T12:04:00",
          "2011-05-17T09:28:00",
          "2011-05-18T09:09:00",
          "2011-05-18T10:34:00",
          "2011-05-18T12:18:00",
          "2011-05-19T12:10:00",
          "2011-05-19T12:29:00",
          "2011-05-20T11:34:00",
          "2011-05-22T13:01:00",
          "2011-05-22T14:33:00",
          "2011-05-23T09:48:00",
          "2011-05-24T09:25:00",
          "2011-05-25T10:08:00",
          "2011-05-25T12:44:00",
          "2011-05-25T12:54:00",
          "2011-05-26T14:53:00",
          "2011-05-26T17:16:00",
          "2011-05-27T13:49:00"
         ],
         "xaxis": "x",
         "y": [
          502.07,
          763.11,
          283.77,
          425.25,
          676.16,
          298.93,
          114,
          1112.06,
          144,
          835.1999999999999,
          216.54,
          136.9,
          102.94999999999999,
          338.7,
          793.98,
          774.22,
          225.9,
          592.31,
          642.14,
          698.75,
          581.55,
          827.13,
          406.5,
          190.2,
          182.45,
          365.58,
          405.8,
          3174.43,
          363.54,
          456.84999999999997,
          454.89,
          132.5,
          1128.73,
          165.85999999999999,
          401.02,
          285.56,
          219.6,
          829.66,
          214,
          878.3,
          6.3,
          603.42,
          125.4,
          308,
          95.76,
          92.6,
          335.43,
          612.86,
          182.72,
          158.5,
          316.2,
          722.06,
          480.76000000000005,
          20.4,
          281.25,
          676.8499999999999,
          307.28999999999996,
          425.40000000000003,
          511.53999999999996,
          129.70999999999998,
          115.09,
          298.02,
          201.24,
          4.63,
          469.98,
          160.5,
          733.88,
          378,
          402.9,
          303.91,
          128.05,
          1028.3,
          1937.06,
          413.4,
          3243.13,
          138.75,
          252,
          513.55,
          312.2,
          615.2,
          509.57,
          84.65,
          469.20000000000005,
          73.5,
          579.05,
          160.54000000000002,
          191.10000000000002,
          528.88,
          620.84,
          24.9,
          162.48000000000002,
          336.24,
          200,
          984.4300000000001,
          295.5,
          205.4,
          453.09999999999997,
          1637.43,
          1381.3,
          278.53000000000003,
          459.98,
          89.25,
          397.28000000000003,
          133.4,
          550.74,
          121.88,
          739.62,
          335.01,
          332.20000000000005,
          76.32000000000001,
          561.66,
          316.85,
          956.4,
          615.21,
          169.5,
          385.96,
          357.34,
          231.12,
          390.96,
          514.74,
          196.5,
          362,
          367.09
         ],
         "yaxis": "y"
        }
       ],
       "layout": {
        "legend": {
         "title": {
          "text": "variable"
         },
         "tracegroupgap": 0
        },
        "margin": {
         "t": 60
        },
        "template": {
         "data": {
          "bar": [
           {
            "error_x": {
             "color": "#2a3f5f"
            },
            "error_y": {
             "color": "#2a3f5f"
            },
            "marker": {
             "line": {
              "color": "#E5ECF6",
              "width": 0.5
             },
             "pattern": {
              "fillmode": "overlay",
              "size": 10,
              "solidity": 0.2
             }
            },
            "type": "bar"
           }
          ],
          "barpolar": [
           {
            "marker": {
             "line": {
              "color": "#E5ECF6",
              "width": 0.5
             },
             "pattern": {
              "fillmode": "overlay",
              "size": 10,
              "solidity": 0.2
             }
            },
            "type": "barpolar"
           }
          ],
          "carpet": [
           {
            "aaxis": {
             "endlinecolor": "#2a3f5f",
             "gridcolor": "white",
             "linecolor": "white",
             "minorgridcolor": "white",
             "startlinecolor": "#2a3f5f"
            },
            "baxis": {
             "endlinecolor": "#2a3f5f",
             "gridcolor": "white",
             "linecolor": "white",
             "minorgridcolor": "white",
             "startlinecolor": "#2a3f5f"
            },
            "type": "carpet"
           }
          ],
          "choropleth": [
           {
            "colorbar": {
             "outlinewidth": 0,
             "ticks": ""
            },
            "type": "choropleth"
           }
          ],
          "contour": [
           {
            "colorbar": {
             "outlinewidth": 0,
             "ticks": ""
            },
            "colorscale": [
             [
              0,
              "#0d0887"
             ],
             [
              0.1111111111111111,
              "#46039f"
             ],
             [
              0.2222222222222222,
              "#7201a8"
             ],
             [
              0.3333333333333333,
              "#9c179e"
             ],
             [
              0.4444444444444444,
              "#bd3786"
             ],
             [
              0.5555555555555556,
              "#d8576b"
             ],
             [
              0.6666666666666666,
              "#ed7953"
             ],
             [
              0.7777777777777778,
              "#fb9f3a"
             ],
             [
              0.8888888888888888,
              "#fdca26"
             ],
             [
              1,
              "#f0f921"
             ]
            ],
            "type": "contour"
           }
          ],
          "contourcarpet": [
           {
            "colorbar": {
             "outlinewidth": 0,
             "ticks": ""
            },
            "type": "contourcarpet"
           }
          ],
          "heatmap": [
           {
            "colorbar": {
             "outlinewidth": 0,
             "ticks": ""
            },
            "colorscale": [
             [
              0,
              "#0d0887"
             ],
             [
              0.1111111111111111,
              "#46039f"
             ],
             [
              0.2222222222222222,
              "#7201a8"
             ],
             [
              0.3333333333333333,
              "#9c179e"
             ],
             [
              0.4444444444444444,
              "#bd3786"
             ],
             [
              0.5555555555555556,
              "#d8576b"
             ],
             [
              0.6666666666666666,
              "#ed7953"
             ],
             [
              0.7777777777777778,
              "#fb9f3a"
             ],
             [
              0.8888888888888888,
              "#fdca26"
             ],
             [
              1,
              "#f0f921"
             ]
            ],
            "type": "heatmap"
           }
          ],
          "heatmapgl": [
           {
            "colorbar": {
             "outlinewidth": 0,
             "ticks": ""
            },
            "colorscale": [
             [
              0,
              "#0d0887"
             ],
             [
              0.1111111111111111,
              "#46039f"
             ],
             [
              0.2222222222222222,
              "#7201a8"
             ],
             [
              0.3333333333333333,
              "#9c179e"
             ],
             [
              0.4444444444444444,
              "#bd3786"
             ],
             [
              0.5555555555555556,
              "#d8576b"
             ],
             [
              0.6666666666666666,
              "#ed7953"
             ],
             [
              0.7777777777777778,
              "#fb9f3a"
             ],
             [
              0.8888888888888888,
              "#fdca26"
             ],
             [
              1,
              "#f0f921"
             ]
            ],
            "type": "heatmapgl"
           }
          ],
          "histogram": [
           {
            "marker": {
             "pattern": {
              "fillmode": "overlay",
              "size": 10,
              "solidity": 0.2
             }
            },
            "type": "histogram"
           }
          ],
          "histogram2d": [
           {
            "colorbar": {
             "outlinewidth": 0,
             "ticks": ""
            },
            "colorscale": [
             [
              0,
              "#0d0887"
             ],
             [
              0.1111111111111111,
              "#46039f"
             ],
             [
              0.2222222222222222,
              "#7201a8"
             ],
             [
              0.3333333333333333,
              "#9c179e"
             ],
             [
              0.4444444444444444,
              "#bd3786"
             ],
             [
              0.5555555555555556,
              "#d8576b"
             ],
             [
              0.6666666666666666,
              "#ed7953"
             ],
             [
              0.7777777777777778,
              "#fb9f3a"
             ],
             [
              0.8888888888888888,
              "#fdca26"
             ],
             [
              1,
              "#f0f921"
             ]
            ],
            "type": "histogram2d"
           }
          ],
          "histogram2dcontour": [
           {
            "colorbar": {
             "outlinewidth": 0,
             "ticks": ""
            },
            "colorscale": [
             [
              0,
              "#0d0887"
             ],
             [
              0.1111111111111111,
              "#46039f"
             ],
             [
              0.2222222222222222,
              "#7201a8"
             ],
             [
              0.3333333333333333,
              "#9c179e"
             ],
             [
              0.4444444444444444,
              "#bd3786"
             ],
             [
              0.5555555555555556,
              "#d8576b"
             ],
             [
              0.6666666666666666,
              "#ed7953"
             ],
             [
              0.7777777777777778,
              "#fb9f3a"
             ],
             [
              0.8888888888888888,
              "#fdca26"
             ],
             [
              1,
              "#f0f921"
             ]
            ],
            "type": "histogram2dcontour"
           }
          ],
          "mesh3d": [
           {
            "colorbar": {
             "outlinewidth": 0,
             "ticks": ""
            },
            "type": "mesh3d"
           }
          ],
          "parcoords": [
           {
            "line": {
             "colorbar": {
              "outlinewidth": 0,
              "ticks": ""
             }
            },
            "type": "parcoords"
           }
          ],
          "pie": [
           {
            "automargin": true,
            "type": "pie"
           }
          ],
          "scatter": [
           {
            "fillpattern": {
             "fillmode": "overlay",
             "size": 10,
             "solidity": 0.2
            },
            "type": "scatter"
           }
          ],
          "scatter3d": [
           {
            "line": {
             "colorbar": {
              "outlinewidth": 0,
              "ticks": ""
             }
            },
            "marker": {
             "colorbar": {
              "outlinewidth": 0,
              "ticks": ""
             }
            },
            "type": "scatter3d"
           }
          ],
          "scattercarpet": [
           {
            "marker": {
             "colorbar": {
              "outlinewidth": 0,
              "ticks": ""
             }
            },
            "type": "scattercarpet"
           }
          ],
          "scattergeo": [
           {
            "marker": {
             "colorbar": {
              "outlinewidth": 0,
              "ticks": ""
             }
            },
            "type": "scattergeo"
           }
          ],
          "scattergl": [
           {
            "marker": {
             "colorbar": {
              "outlinewidth": 0,
              "ticks": ""
             }
            },
            "type": "scattergl"
           }
          ],
          "scattermapbox": [
           {
            "marker": {
             "colorbar": {
              "outlinewidth": 0,
              "ticks": ""
             }
            },
            "type": "scattermapbox"
           }
          ],
          "scatterpolar": [
           {
            "marker": {
             "colorbar": {
              "outlinewidth": 0,
              "ticks": ""
             }
            },
            "type": "scatterpolar"
           }
          ],
          "scatterpolargl": [
           {
            "marker": {
             "colorbar": {
              "outlinewidth": 0,
              "ticks": ""
             }
            },
            "type": "scatterpolargl"
           }
          ],
          "scatterternary": [
           {
            "marker": {
             "colorbar": {
              "outlinewidth": 0,
              "ticks": ""
             }
            },
            "type": "scatterternary"
           }
          ],
          "surface": [
           {
            "colorbar": {
             "outlinewidth": 0,
             "ticks": ""
            },
            "colorscale": [
             [
              0,
              "#0d0887"
             ],
             [
              0.1111111111111111,
              "#46039f"
             ],
             [
              0.2222222222222222,
              "#7201a8"
             ],
             [
              0.3333333333333333,
              "#9c179e"
             ],
             [
              0.4444444444444444,
              "#bd3786"
             ],
             [
              0.5555555555555556,
              "#d8576b"
             ],
             [
              0.6666666666666666,
              "#ed7953"
             ],
             [
              0.7777777777777778,
              "#fb9f3a"
             ],
             [
              0.8888888888888888,
              "#fdca26"
             ],
             [
              1,
              "#f0f921"
             ]
            ],
            "type": "surface"
           }
          ],
          "table": [
           {
            "cells": {
             "fill": {
              "color": "#EBF0F8"
             },
             "line": {
              "color": "white"
             }
            },
            "header": {
             "fill": {
              "color": "#C8D4E3"
             },
             "line": {
              "color": "white"
             }
            },
            "type": "table"
           }
          ]
         },
         "layout": {
          "annotationdefaults": {
           "arrowcolor": "#2a3f5f",
           "arrowhead": 0,
           "arrowwidth": 1
          },
          "autotypenumbers": "strict",
          "coloraxis": {
           "colorbar": {
            "outlinewidth": 0,
            "ticks": ""
           }
          },
          "colorscale": {
           "diverging": [
            [
             0,
             "#8e0152"
            ],
            [
             0.1,
             "#c51b7d"
            ],
            [
             0.2,
             "#de77ae"
            ],
            [
             0.3,
             "#f1b6da"
            ],
            [
             0.4,
             "#fde0ef"
            ],
            [
             0.5,
             "#f7f7f7"
            ],
            [
             0.6,
             "#e6f5d0"
            ],
            [
             0.7,
             "#b8e186"
            ],
            [
             0.8,
             "#7fbc41"
            ],
            [
             0.9,
             "#4d9221"
            ],
            [
             1,
             "#276419"
            ]
           ],
           "sequential": [
            [
             0,
             "#0d0887"
            ],
            [
             0.1111111111111111,
             "#46039f"
            ],
            [
             0.2222222222222222,
             "#7201a8"
            ],
            [
             0.3333333333333333,
             "#9c179e"
            ],
            [
             0.4444444444444444,
             "#bd3786"
            ],
            [
             0.5555555555555556,
             "#d8576b"
            ],
            [
             0.6666666666666666,
             "#ed7953"
            ],
            [
             0.7777777777777778,
             "#fb9f3a"
            ],
            [
             0.8888888888888888,
             "#fdca26"
            ],
            [
             1,
             "#f0f921"
            ]
           ],
           "sequentialminus": [
            [
             0,
             "#0d0887"
            ],
            [
             0.1111111111111111,
             "#46039f"
            ],
            [
             0.2222222222222222,
             "#7201a8"
            ],
            [
             0.3333333333333333,
             "#9c179e"
            ],
            [
             0.4444444444444444,
             "#bd3786"
            ],
            [
             0.5555555555555556,
             "#d8576b"
            ],
            [
             0.6666666666666666,
             "#ed7953"
            ],
            [
             0.7777777777777778,
             "#fb9f3a"
            ],
            [
             0.8888888888888888,
             "#fdca26"
            ],
            [
             1,
             "#f0f921"
            ]
           ]
          },
          "colorway": [
           "#636efa",
           "#EF553B",
           "#00cc96",
           "#ab63fa",
           "#FFA15A",
           "#19d3f3",
           "#FF6692",
           "#B6E880",
           "#FF97FF",
           "#FECB52"
          ],
          "font": {
           "color": "#2a3f5f"
          },
          "geo": {
           "bgcolor": "white",
           "lakecolor": "white",
           "landcolor": "#E5ECF6",
           "showlakes": true,
           "showland": true,
           "subunitcolor": "white"
          },
          "hoverlabel": {
           "align": "left"
          },
          "hovermode": "closest",
          "mapbox": {
           "style": "light"
          },
          "paper_bgcolor": "white",
          "plot_bgcolor": "#E5ECF6",
          "polar": {
           "angularaxis": {
            "gridcolor": "white",
            "linecolor": "white",
            "ticks": ""
           },
           "bgcolor": "#E5ECF6",
           "radialaxis": {
            "gridcolor": "white",
            "linecolor": "white",
            "ticks": ""
           }
          },
          "scene": {
           "xaxis": {
            "backgroundcolor": "#E5ECF6",
            "gridcolor": "white",
            "gridwidth": 2,
            "linecolor": "white",
            "showbackground": true,
            "ticks": "",
            "zerolinecolor": "white"
           },
           "yaxis": {
            "backgroundcolor": "#E5ECF6",
            "gridcolor": "white",
            "gridwidth": 2,
            "linecolor": "white",
            "showbackground": true,
            "ticks": "",
            "zerolinecolor": "white"
           },
           "zaxis": {
            "backgroundcolor": "#E5ECF6",
            "gridcolor": "white",
            "gridwidth": 2,
            "linecolor": "white",
            "showbackground": true,
            "ticks": "",
            "zerolinecolor": "white"
           }
          },
          "shapedefaults": {
           "line": {
            "color": "#2a3f5f"
           }
          },
          "ternary": {
           "aaxis": {
            "gridcolor": "white",
            "linecolor": "white",
            "ticks": ""
           },
           "baxis": {
            "gridcolor": "white",
            "linecolor": "white",
            "ticks": ""
           },
           "bgcolor": "#E5ECF6",
           "caxis": {
            "gridcolor": "white",
            "linecolor": "white",
            "ticks": ""
           }
          },
          "title": {
           "x": 0.05
          },
          "xaxis": {
           "automargin": true,
           "gridcolor": "white",
           "linecolor": "white",
           "ticks": "",
           "title": {
            "standoff": 15
           },
           "zerolinecolor": "white",
           "zerolinewidth": 2
          },
          "yaxis": {
           "automargin": true,
           "gridcolor": "white",
           "linecolor": "white",
           "ticks": "",
           "title": {
            "standoff": 15
           },
           "zerolinecolor": "white",
           "zerolinewidth": 2
          }
         }
        },
        "xaxis": {
         "anchor": "y",
         "domain": [
          0,
          1
         ],
         "title": {
          "text": "InvoiceDate"
         }
        },
        "yaxis": {
         "anchor": "x",
         "domain": [
          0,
          1
         ],
         "title": {
          "text": "value"
         }
        }
       }
      },
      "text/html": [
       "<div>                            <div id=\"0733f2cc-7487-4074-b3aa-5a2d60b51e1e\" class=\"plotly-graph-div\" style=\"height:525px; width:100%;\"></div>            <script type=\"text/javascript\">                require([\"plotly\"], function(Plotly) {                    window.PLOTLYENV=window.PLOTLYENV || {};                                    if (document.getElementById(\"0733f2cc-7487-4074-b3aa-5a2d60b51e1e\")) {                    Plotly.newPlot(                        \"0733f2cc-7487-4074-b3aa-5a2d60b51e1e\",                        [{\"hovertemplate\":\"variable=Quantity\\u003cbr\\u003eInvoiceDate=%{x}\\u003cbr\\u003evalue=%{y}\\u003cextra\\u003e\\u003c\\u002fextra\\u003e\",\"legendgroup\":\"Quantity\",\"line\":{\"color\":\"#636efa\",\"dash\":\"solid\"},\"marker\":{\"symbol\":\"circle\"},\"mode\":\"lines\",\"name\":\"Quantity\",\"orientation\":\"v\",\"showlegend\":true,\"x\":[\"2011-01-05T12:42:00\",\"2011-01-05T14:48:00\",\"2011-01-06T14:26:00\",\"2011-01-06T16:12:00\",\"2011-01-07T12:07:00\",\"2011-01-07T13:13:00\",\"2011-01-09T12:46:00\",\"2011-01-10T13:22:00\",\"2011-01-11T07:57:00\",\"2011-01-11T11:48:00\",\"2011-01-11T13:31:00\",\"2011-01-11T15:00:00\",\"2011-01-12T09:43:00\",\"2011-01-12T14:13:00\",\"2011-01-12T15:00:00\",\"2011-01-14T09:13:00\",\"2011-01-14T09:20:00\",\"2011-01-14T10:42:00\",\"2011-01-17T15:17:00\",\"2011-01-19T11:51:00\",\"2011-01-20T10:47:00\",\"2011-01-20T10:48:00\",\"2011-01-23T15:17:00\",\"2011-01-24T15:32:00\",\"2011-01-28T09:20:00\",\"2011-01-28T10:45:00\",\"2011-01-28T13:37:00\",\"2011-01-31T09:57:00\",\"2011-01-31T15:36:00\",\"2011-02-01T14:58:00\",\"2011-02-02T09:06:00\",\"2011-02-02T15:22:00\",\"2011-02-04T11:45:00\",\"2011-02-08T13:28:00\",\"2011-02-09T10:11:00\",\"2011-02-10T15:38:00\",\"2011-02-15T14:17:00\",\"2011-02-16T11:45:00\",\"2011-02-17T10:08:00\",\"2011-02-18T10:53:00\",\"2011-02-18T15:23:00\",\"2011-02-21T08:38:00\",\"2011-02-21T14:58:00\",\"2011-02-23T16:44:00\",\"2011-02-23T16:45:00\",\"2011-02-27T11:58:00\",\"2011-02-28T11:43:00\",\"2011-02-28T11:58:00\",\"2011-02-28T14:42:00\",\"2011-02-28T14:45:00\",\"2011-03-01T10:31:00\",\"2011-03-01T12:26:00\",\"2011-03-03T12:06:00\",\"2011-03-03T12:20:00\",\"2011-03-04T09:08:00\",\"2011-03-11T12:00:00\",\"2011-03-13T14:55:00\",\"2011-03-14T11:38:00\",\"2011-03-15T16:39:00\",\"2011-03-16T14:37:00\",\"2011-03-16T15:17:00\",\"2011-03-20T15:58:00\",\"2011-03-21T12:42:00\",\"2011-03-21T12:44:00\",\"2011-03-22T11:28:00\",\"2011-03-23T12:06:00\",\"2011-03-23T13:33:00\",\"2011-03-23T13:39:00\",\"2011-03-23T14:55:00\",\"2011-03-25T10:19:00\",\"2011-03-27T13:07:00\",\"2011-03-28T10:15:00\",\"2011-03-31T10:27:00\",\"2011-03-31T10:29:00\",\"2011-03-31T13:40:00\",\"2011-04-01T09:19:00\",\"2011-04-01T11:10:00\",\"2011-04-04T11:18:00\",\"2011-04-07T13:07:00\",\"2011-04-14T14:15:00\",\"2011-04-17T11:21:00\",\"2011-04-17T15:33:00\",\"2011-04-20T09:20:00\",\"2011-04-21T08:54:00\",\"2011-04-21T10:16:00\",\"2011-04-26T15:52:00\",\"2011-04-28T11:45:00\",\"2011-05-03T08:40:00\",\"2011-05-03T09:33:00\",\"2011-05-03T09:34:00\",\"2011-05-03T12:02:00\",\"2011-05-03T12:03:00\",\"2011-05-05T09:29:00\",\"2011-05-08T16:10:00\",\"2011-05-09T09:47:00\",\"2011-05-09T15:12:00\",\"2011-05-10T12:55:00\",\"2011-05-11T13:20:00\",\"2011-05-11T15:07:00\",\"2011-05-12T11:50:00\",\"2011-05-13T09:24:00\",\"2011-05-13T13:15:00\",\"2011-05-13T15:48:00\",\"2011-05-15T13:45:00\",\"2011-05-16T09:10:00\",\"2011-05-16T12:04:00\",\"2011-05-17T09:28:00\",\"2011-05-18T09:09:00\",\"2011-05-18T10:34:00\",\"2011-05-18T12:18:00\",\"2011-05-19T12:10:00\",\"2011-05-19T12:29:00\",\"2011-05-20T11:34:00\",\"2011-05-22T13:01:00\",\"2011-05-22T14:33:00\",\"2011-05-23T09:48:00\",\"2011-05-24T09:25:00\",\"2011-05-25T10:08:00\",\"2011-05-25T12:44:00\",\"2011-05-25T12:54:00\",\"2011-05-26T14:53:00\",\"2011-05-26T17:16:00\",\"2011-05-27T13:49:00\"],\"xaxis\":\"x\",\"y\":[359.0,369.0,261.0,177.0,488.0,103.0,78.0,628.0,168.0,576.0,120.0,114.0,43.0,131.0,498.0,543.0,78.0,440.0,263.0,383.0,211.0,491.0,120.0,84.0,59.0,406.0,102.0,1617.0,202.0,197.0,159.0,206.0,611.0,214.0,298.0,452.0,96.0,772.0,114.0,748.0,15.0,256.0,77.0,264.0,96.0,70.0,213.0,310.0,72.0,54.0,245.0,329.0,314.0,24.0,123.0,323.0,183.0,184.0,314.0,97.0,62.0,422.0,85.0,5.0,198.0,136.0,713.0,242.0,130.0,261.0,59.0,842.0,946.0,132.0,2271.0,88.0,240.0,293.0,236.0,284.0,375.0,25.0,196.0,23.0,275.0,84.0,146.0,368.0,350.0,6.0,120.0,192.0,98.0,773.0,162.0,332.0,458.0,859.0,734.0,105.0,202.0,33.0,267.0,140.0,220.0,58.0,476.0,103.0,152.0,72.0,434.0,126.0,464.0,229.0,62.0,304.0,208.0,180.0,180.0,374.0,86.0,424.0,155.0],\"yaxis\":\"y\",\"type\":\"scatter\"},{\"hovertemplate\":\"variable=Revenue\\u003cbr\\u003eInvoiceDate=%{x}\\u003cbr\\u003evalue=%{y}\\u003cextra\\u003e\\u003c\\u002fextra\\u003e\",\"legendgroup\":\"Revenue\",\"line\":{\"color\":\"#EF553B\",\"dash\":\"solid\"},\"marker\":{\"symbol\":\"circle\"},\"mode\":\"lines\",\"name\":\"Revenue\",\"orientation\":\"v\",\"showlegend\":true,\"x\":[\"2011-01-05T12:42:00\",\"2011-01-05T14:48:00\",\"2011-01-06T14:26:00\",\"2011-01-06T16:12:00\",\"2011-01-07T12:07:00\",\"2011-01-07T13:13:00\",\"2011-01-09T12:46:00\",\"2011-01-10T13:22:00\",\"2011-01-11T07:57:00\",\"2011-01-11T11:48:00\",\"2011-01-11T13:31:00\",\"2011-01-11T15:00:00\",\"2011-01-12T09:43:00\",\"2011-01-12T14:13:00\",\"2011-01-12T15:00:00\",\"2011-01-14T09:13:00\",\"2011-01-14T09:20:00\",\"2011-01-14T10:42:00\",\"2011-01-17T15:17:00\",\"2011-01-19T11:51:00\",\"2011-01-20T10:47:00\",\"2011-01-20T10:48:00\",\"2011-01-23T15:17:00\",\"2011-01-24T15:32:00\",\"2011-01-28T09:20:00\",\"2011-01-28T10:45:00\",\"2011-01-28T13:37:00\",\"2011-01-31T09:57:00\",\"2011-01-31T15:36:00\",\"2011-02-01T14:58:00\",\"2011-02-02T09:06:00\",\"2011-02-02T15:22:00\",\"2011-02-04T11:45:00\",\"2011-02-08T13:28:00\",\"2011-02-09T10:11:00\",\"2011-02-10T15:38:00\",\"2011-02-15T14:17:00\",\"2011-02-16T11:45:00\",\"2011-02-17T10:08:00\",\"2011-02-18T10:53:00\",\"2011-02-18T15:23:00\",\"2011-02-21T08:38:00\",\"2011-02-21T14:58:00\",\"2011-02-23T16:44:00\",\"2011-02-23T16:45:00\",\"2011-02-27T11:58:00\",\"2011-02-28T11:43:00\",\"2011-02-28T11:58:00\",\"2011-02-28T14:42:00\",\"2011-02-28T14:45:00\",\"2011-03-01T10:31:00\",\"2011-03-01T12:26:00\",\"2011-03-03T12:06:00\",\"2011-03-03T12:20:00\",\"2011-03-04T09:08:00\",\"2011-03-11T12:00:00\",\"2011-03-13T14:55:00\",\"2011-03-14T11:38:00\",\"2011-03-15T16:39:00\",\"2011-03-16T14:37:00\",\"2011-03-16T15:17:00\",\"2011-03-20T15:58:00\",\"2011-03-21T12:42:00\",\"2011-03-21T12:44:00\",\"2011-03-22T11:28:00\",\"2011-03-23T12:06:00\",\"2011-03-23T13:33:00\",\"2011-03-23T13:39:00\",\"2011-03-23T14:55:00\",\"2011-03-25T10:19:00\",\"2011-03-27T13:07:00\",\"2011-03-28T10:15:00\",\"2011-03-31T10:27:00\",\"2011-03-31T10:29:00\",\"2011-03-31T13:40:00\",\"2011-04-01T09:19:00\",\"2011-04-01T11:10:00\",\"2011-04-04T11:18:00\",\"2011-04-07T13:07:00\",\"2011-04-14T14:15:00\",\"2011-04-17T11:21:00\",\"2011-04-17T15:33:00\",\"2011-04-20T09:20:00\",\"2011-04-21T08:54:00\",\"2011-04-21T10:16:00\",\"2011-04-26T15:52:00\",\"2011-04-28T11:45:00\",\"2011-05-03T08:40:00\",\"2011-05-03T09:33:00\",\"2011-05-03T09:34:00\",\"2011-05-03T12:02:00\",\"2011-05-03T12:03:00\",\"2011-05-05T09:29:00\",\"2011-05-08T16:10:00\",\"2011-05-09T09:47:00\",\"2011-05-09T15:12:00\",\"2011-05-10T12:55:00\",\"2011-05-11T13:20:00\",\"2011-05-11T15:07:00\",\"2011-05-12T11:50:00\",\"2011-05-13T09:24:00\",\"2011-05-13T13:15:00\",\"2011-05-13T15:48:00\",\"2011-05-15T13:45:00\",\"2011-05-16T09:10:00\",\"2011-05-16T12:04:00\",\"2011-05-17T09:28:00\",\"2011-05-18T09:09:00\",\"2011-05-18T10:34:00\",\"2011-05-18T12:18:00\",\"2011-05-19T12:10:00\",\"2011-05-19T12:29:00\",\"2011-05-20T11:34:00\",\"2011-05-22T13:01:00\",\"2011-05-22T14:33:00\",\"2011-05-23T09:48:00\",\"2011-05-24T09:25:00\",\"2011-05-25T10:08:00\",\"2011-05-25T12:44:00\",\"2011-05-25T12:54:00\",\"2011-05-26T14:53:00\",\"2011-05-26T17:16:00\",\"2011-05-27T13:49:00\"],\"xaxis\":\"x\",\"y\":[502.07,763.11,283.77,425.25,676.16,298.93,114.0,1112.06,144.0,835.1999999999999,216.54,136.9,102.94999999999999,338.7,793.98,774.22,225.9,592.31,642.14,698.75,581.55,827.13,406.5,190.2,182.45,365.58,405.8,3174.43,363.54,456.84999999999997,454.89,132.5,1128.73,165.85999999999999,401.02,285.56,219.6,829.66,214.0,878.3,6.3,603.42,125.4,308.0,95.76,92.6,335.43,612.86,182.72,158.5,316.2,722.06,480.76000000000005,20.4,281.25,676.8499999999999,307.28999999999996,425.40000000000003,511.53999999999996,129.70999999999998,115.09,298.02,201.24,4.63,469.98,160.5,733.88,378.0,402.9,303.91,128.05,1028.3,1937.06,413.4,3243.13,138.75,252.0,513.55,312.2,615.2,509.57,84.65,469.20000000000005,73.5,579.05,160.54000000000002,191.10000000000002,528.88,620.84,24.9,162.48000000000002,336.24,200.0,984.4300000000001,295.5,205.4,453.09999999999997,1637.43,1381.3,278.53000000000003,459.98,89.25,397.28000000000003,133.4,550.74,121.88,739.62,335.01,332.20000000000005,76.32000000000001,561.66,316.85,956.4,615.21,169.5,385.96,357.34,231.12,390.96,514.74,196.5,362.0,367.09],\"yaxis\":\"y\",\"type\":\"scatter\"}],                        {\"template\":{\"data\":{\"histogram2dcontour\":[{\"type\":\"histogram2dcontour\",\"colorbar\":{\"outlinewidth\":0,\"ticks\":\"\"},\"colorscale\":[[0.0,\"#0d0887\"],[0.1111111111111111,\"#46039f\"],[0.2222222222222222,\"#7201a8\"],[0.3333333333333333,\"#9c179e\"],[0.4444444444444444,\"#bd3786\"],[0.5555555555555556,\"#d8576b\"],[0.6666666666666666,\"#ed7953\"],[0.7777777777777778,\"#fb9f3a\"],[0.8888888888888888,\"#fdca26\"],[1.0,\"#f0f921\"]]}],\"choropleth\":[{\"type\":\"choropleth\",\"colorbar\":{\"outlinewidth\":0,\"ticks\":\"\"}}],\"histogram2d\":[{\"type\":\"histogram2d\",\"colorbar\":{\"outlinewidth\":0,\"ticks\":\"\"},\"colorscale\":[[0.0,\"#0d0887\"],[0.1111111111111111,\"#46039f\"],[0.2222222222222222,\"#7201a8\"],[0.3333333333333333,\"#9c179e\"],[0.4444444444444444,\"#bd3786\"],[0.5555555555555556,\"#d8576b\"],[0.6666666666666666,\"#ed7953\"],[0.7777777777777778,\"#fb9f3a\"],[0.8888888888888888,\"#fdca26\"],[1.0,\"#f0f921\"]]}],\"heatmap\":[{\"type\":\"heatmap\",\"colorbar\":{\"outlinewidth\":0,\"ticks\":\"\"},\"colorscale\":[[0.0,\"#0d0887\"],[0.1111111111111111,\"#46039f\"],[0.2222222222222222,\"#7201a8\"],[0.3333333333333333,\"#9c179e\"],[0.4444444444444444,\"#bd3786\"],[0.5555555555555556,\"#d8576b\"],[0.6666666666666666,\"#ed7953\"],[0.7777777777777778,\"#fb9f3a\"],[0.8888888888888888,\"#fdca26\"],[1.0,\"#f0f921\"]]}],\"heatmapgl\":[{\"type\":\"heatmapgl\",\"colorbar\":{\"outlinewidth\":0,\"ticks\":\"\"},\"colorscale\":[[0.0,\"#0d0887\"],[0.1111111111111111,\"#46039f\"],[0.2222222222222222,\"#7201a8\"],[0.3333333333333333,\"#9c179e\"],[0.4444444444444444,\"#bd3786\"],[0.5555555555555556,\"#d8576b\"],[0.6666666666666666,\"#ed7953\"],[0.7777777777777778,\"#fb9f3a\"],[0.8888888888888888,\"#fdca26\"],[1.0,\"#f0f921\"]]}],\"contourcarpet\":[{\"type\":\"contourcarpet\",\"colorbar\":{\"outlinewidth\":0,\"ticks\":\"\"}}],\"contour\":[{\"type\":\"contour\",\"colorbar\":{\"outlinewidth\":0,\"ticks\":\"\"},\"colorscale\":[[0.0,\"#0d0887\"],[0.1111111111111111,\"#46039f\"],[0.2222222222222222,\"#7201a8\"],[0.3333333333333333,\"#9c179e\"],[0.4444444444444444,\"#bd3786\"],[0.5555555555555556,\"#d8576b\"],[0.6666666666666666,\"#ed7953\"],[0.7777777777777778,\"#fb9f3a\"],[0.8888888888888888,\"#fdca26\"],[1.0,\"#f0f921\"]]}],\"surface\":[{\"type\":\"surface\",\"colorbar\":{\"outlinewidth\":0,\"ticks\":\"\"},\"colorscale\":[[0.0,\"#0d0887\"],[0.1111111111111111,\"#46039f\"],[0.2222222222222222,\"#7201a8\"],[0.3333333333333333,\"#9c179e\"],[0.4444444444444444,\"#bd3786\"],[0.5555555555555556,\"#d8576b\"],[0.6666666666666666,\"#ed7953\"],[0.7777777777777778,\"#fb9f3a\"],[0.8888888888888888,\"#fdca26\"],[1.0,\"#f0f921\"]]}],\"mesh3d\":[{\"type\":\"mesh3d\",\"colorbar\":{\"outlinewidth\":0,\"ticks\":\"\"}}],\"scatter\":[{\"fillpattern\":{\"fillmode\":\"overlay\",\"size\":10,\"solidity\":0.2},\"type\":\"scatter\"}],\"parcoords\":[{\"type\":\"parcoords\",\"line\":{\"colorbar\":{\"outlinewidth\":0,\"ticks\":\"\"}}}],\"scatterpolargl\":[{\"type\":\"scatterpolargl\",\"marker\":{\"colorbar\":{\"outlinewidth\":0,\"ticks\":\"\"}}}],\"bar\":[{\"error_x\":{\"color\":\"#2a3f5f\"},\"error_y\":{\"color\":\"#2a3f5f\"},\"marker\":{\"line\":{\"color\":\"#E5ECF6\",\"width\":0.5},\"pattern\":{\"fillmode\":\"overlay\",\"size\":10,\"solidity\":0.2}},\"type\":\"bar\"}],\"scattergeo\":[{\"type\":\"scattergeo\",\"marker\":{\"colorbar\":{\"outlinewidth\":0,\"ticks\":\"\"}}}],\"scatterpolar\":[{\"type\":\"scatterpolar\",\"marker\":{\"colorbar\":{\"outlinewidth\":0,\"ticks\":\"\"}}}],\"histogram\":[{\"marker\":{\"pattern\":{\"fillmode\":\"overlay\",\"size\":10,\"solidity\":0.2}},\"type\":\"histogram\"}],\"scattergl\":[{\"type\":\"scattergl\",\"marker\":{\"colorbar\":{\"outlinewidth\":0,\"ticks\":\"\"}}}],\"scatter3d\":[{\"type\":\"scatter3d\",\"line\":{\"colorbar\":{\"outlinewidth\":0,\"ticks\":\"\"}},\"marker\":{\"colorbar\":{\"outlinewidth\":0,\"ticks\":\"\"}}}],\"scattermapbox\":[{\"type\":\"scattermapbox\",\"marker\":{\"colorbar\":{\"outlinewidth\":0,\"ticks\":\"\"}}}],\"scatterternary\":[{\"type\":\"scatterternary\",\"marker\":{\"colorbar\":{\"outlinewidth\":0,\"ticks\":\"\"}}}],\"scattercarpet\":[{\"type\":\"scattercarpet\",\"marker\":{\"colorbar\":{\"outlinewidth\":0,\"ticks\":\"\"}}}],\"carpet\":[{\"aaxis\":{\"endlinecolor\":\"#2a3f5f\",\"gridcolor\":\"white\",\"linecolor\":\"white\",\"minorgridcolor\":\"white\",\"startlinecolor\":\"#2a3f5f\"},\"baxis\":{\"endlinecolor\":\"#2a3f5f\",\"gridcolor\":\"white\",\"linecolor\":\"white\",\"minorgridcolor\":\"white\",\"startlinecolor\":\"#2a3f5f\"},\"type\":\"carpet\"}],\"table\":[{\"cells\":{\"fill\":{\"color\":\"#EBF0F8\"},\"line\":{\"color\":\"white\"}},\"header\":{\"fill\":{\"color\":\"#C8D4E3\"},\"line\":{\"color\":\"white\"}},\"type\":\"table\"}],\"barpolar\":[{\"marker\":{\"line\":{\"color\":\"#E5ECF6\",\"width\":0.5},\"pattern\":{\"fillmode\":\"overlay\",\"size\":10,\"solidity\":0.2}},\"type\":\"barpolar\"}],\"pie\":[{\"automargin\":true,\"type\":\"pie\"}]},\"layout\":{\"autotypenumbers\":\"strict\",\"colorway\":[\"#636efa\",\"#EF553B\",\"#00cc96\",\"#ab63fa\",\"#FFA15A\",\"#19d3f3\",\"#FF6692\",\"#B6E880\",\"#FF97FF\",\"#FECB52\"],\"font\":{\"color\":\"#2a3f5f\"},\"hovermode\":\"closest\",\"hoverlabel\":{\"align\":\"left\"},\"paper_bgcolor\":\"white\",\"plot_bgcolor\":\"#E5ECF6\",\"polar\":{\"bgcolor\":\"#E5ECF6\",\"angularaxis\":{\"gridcolor\":\"white\",\"linecolor\":\"white\",\"ticks\":\"\"},\"radialaxis\":{\"gridcolor\":\"white\",\"linecolor\":\"white\",\"ticks\":\"\"}},\"ternary\":{\"bgcolor\":\"#E5ECF6\",\"aaxis\":{\"gridcolor\":\"white\",\"linecolor\":\"white\",\"ticks\":\"\"},\"baxis\":{\"gridcolor\":\"white\",\"linecolor\":\"white\",\"ticks\":\"\"},\"caxis\":{\"gridcolor\":\"white\",\"linecolor\":\"white\",\"ticks\":\"\"}},\"coloraxis\":{\"colorbar\":{\"outlinewidth\":0,\"ticks\":\"\"}},\"colorscale\":{\"sequential\":[[0.0,\"#0d0887\"],[0.1111111111111111,\"#46039f\"],[0.2222222222222222,\"#7201a8\"],[0.3333333333333333,\"#9c179e\"],[0.4444444444444444,\"#bd3786\"],[0.5555555555555556,\"#d8576b\"],[0.6666666666666666,\"#ed7953\"],[0.7777777777777778,\"#fb9f3a\"],[0.8888888888888888,\"#fdca26\"],[1.0,\"#f0f921\"]],\"sequentialminus\":[[0.0,\"#0d0887\"],[0.1111111111111111,\"#46039f\"],[0.2222222222222222,\"#7201a8\"],[0.3333333333333333,\"#9c179e\"],[0.4444444444444444,\"#bd3786\"],[0.5555555555555556,\"#d8576b\"],[0.6666666666666666,\"#ed7953\"],[0.7777777777777778,\"#fb9f3a\"],[0.8888888888888888,\"#fdca26\"],[1.0,\"#f0f921\"]],\"diverging\":[[0,\"#8e0152\"],[0.1,\"#c51b7d\"],[0.2,\"#de77ae\"],[0.3,\"#f1b6da\"],[0.4,\"#fde0ef\"],[0.5,\"#f7f7f7\"],[0.6,\"#e6f5d0\"],[0.7,\"#b8e186\"],[0.8,\"#7fbc41\"],[0.9,\"#4d9221\"],[1,\"#276419\"]]},\"xaxis\":{\"gridcolor\":\"white\",\"linecolor\":\"white\",\"ticks\":\"\",\"title\":{\"standoff\":15},\"zerolinecolor\":\"white\",\"automargin\":true,\"zerolinewidth\":2},\"yaxis\":{\"gridcolor\":\"white\",\"linecolor\":\"white\",\"ticks\":\"\",\"title\":{\"standoff\":15},\"zerolinecolor\":\"white\",\"automargin\":true,\"zerolinewidth\":2},\"scene\":{\"xaxis\":{\"backgroundcolor\":\"#E5ECF6\",\"gridcolor\":\"white\",\"linecolor\":\"white\",\"showbackground\":true,\"ticks\":\"\",\"zerolinecolor\":\"white\",\"gridwidth\":2},\"yaxis\":{\"backgroundcolor\":\"#E5ECF6\",\"gridcolor\":\"white\",\"linecolor\":\"white\",\"showbackground\":true,\"ticks\":\"\",\"zerolinecolor\":\"white\",\"gridwidth\":2},\"zaxis\":{\"backgroundcolor\":\"#E5ECF6\",\"gridcolor\":\"white\",\"linecolor\":\"white\",\"showbackground\":true,\"ticks\":\"\",\"zerolinecolor\":\"white\",\"gridwidth\":2}},\"shapedefaults\":{\"line\":{\"color\":\"#2a3f5f\"}},\"annotationdefaults\":{\"arrowcolor\":\"#2a3f5f\",\"arrowhead\":0,\"arrowwidth\":1},\"geo\":{\"bgcolor\":\"white\",\"landcolor\":\"#E5ECF6\",\"subunitcolor\":\"white\",\"showland\":true,\"showlakes\":true,\"lakecolor\":\"white\"},\"title\":{\"x\":0.05},\"mapbox\":{\"style\":\"light\"}}},\"xaxis\":{\"anchor\":\"y\",\"domain\":[0.0,1.0],\"title\":{\"text\":\"InvoiceDate\"}},\"yaxis\":{\"anchor\":\"x\",\"domain\":[0.0,1.0],\"title\":{\"text\":\"value\"}},\"legend\":{\"title\":{\"text\":\"variable\"},\"tracegroupgap\":0},\"margin\":{\"t\":60}},                        {\"responsive\": true}                    ).then(function(){\n",
       "                            \n",
       "var gd = document.getElementById('0733f2cc-7487-4074-b3aa-5a2d60b51e1e');\n",
       "var x = new MutationObserver(function (mutations, observer) {{\n",
       "        var display = window.getComputedStyle(gd).display;\n",
       "        if (!display || display === 'none') {{\n",
       "            console.log([gd, 'removed!']);\n",
       "            Plotly.purge(gd);\n",
       "            observer.disconnect();\n",
       "        }}\n",
       "}});\n",
       "\n",
       "// Listen for the removal of the full notebook cells\n",
       "var notebookContainer = gd.closest('#notebook-container');\n",
       "if (notebookContainer) {{\n",
       "    x.observe(notebookContainer, {childList: true});\n",
       "}}\n",
       "\n",
       "// Listen for the clearing of the current output cell\n",
       "var outputEl = gd.closest('.output');\n",
       "if (outputEl) {{\n",
       "    x.observe(outputEl, {childList: true});\n",
       "}}\n",
       "\n",
       "                        })                };                });            </script>        </div>"
      ]
     },
     "metadata": {},
     "output_type": "display_data"
    }
   ],
   "source": [
    "data = df.loc[(df.InvoiceDate >= '2011-1-1') & (df.InvoiceDate <= '2011-5-31') & (df.Country=='France')]\n",
    "\n",
    "data = data.groupby('InvoiceDate')[['Quantity', 'Revenue']].sum()\n",
    "\n",
    "px.line(data, x=data.index, y=['Quantity', 'Revenue'], title='')\n"
   ]
  },
  {
   "cell_type": "markdown",
   "metadata": {},
   "source": [
    "## 3. Create an interactive scatter plot showing the relationship between average quantity (x-axis) and average unit price (y-axis) for the product PARTY BUNTING with the plot points color-coded by country (categories)."
   ]
  },
  {
   "cell_type": "code",
   "execution_count": null,
   "metadata": {},
   "outputs": [],
   "source": []
  },
  {
   "cell_type": "code",
   "execution_count": null,
   "metadata": {},
   "outputs": [],
   "source": []
  },
  {
   "cell_type": "markdown",
   "metadata": {},
   "source": [
    "## 4. Create a set of interactive histograms showing the distributions of quantity per invoice for the following countries: EIRE, Germany, France, and Netherlands."
   ]
  },
  {
   "cell_type": "code",
   "execution_count": null,
   "metadata": {},
   "outputs": [],
   "source": []
  },
  {
   "cell_type": "code",
   "execution_count": null,
   "metadata": {},
   "outputs": [],
   "source": []
  },
  {
   "cell_type": "code",
   "execution_count": null,
   "metadata": {},
   "outputs": [],
   "source": []
  },
  {
   "cell_type": "code",
   "execution_count": null,
   "metadata": {},
   "outputs": [],
   "source": []
  },
  {
   "cell_type": "markdown",
   "metadata": {},
   "source": [
    "## 5. Create an interactive side-by-side bar chart showing the revenue by country listed below (bars) for each of the products listed below."
   ]
  },
  {
   "cell_type": "code",
   "execution_count": null,
   "metadata": {},
   "outputs": [],
   "source": []
  },
  {
   "cell_type": "code",
   "execution_count": null,
   "metadata": {},
   "outputs": [],
   "source": []
  },
  {
   "cell_type": "markdown",
   "metadata": {},
   "source": [
    "## 6. Create an interactive line chart showing quantity sold by day for the United Kingdom. Add drop-down boxes for Year and Month that allow you to filter the date range that appears in the chart."
   ]
  },
  {
   "cell_type": "code",
   "execution_count": null,
   "metadata": {},
   "outputs": [],
   "source": []
  },
  {
   "cell_type": "code",
   "execution_count": null,
   "metadata": {},
   "outputs": [],
   "source": []
  },
  {
   "cell_type": "code",
   "execution_count": null,
   "metadata": {},
   "outputs": [],
   "source": []
  },
  {
   "cell_type": "markdown",
   "metadata": {},
   "source": [
    "## 7. Create an interactive scatter plot that plots number of invoices (x-axis) vs. number of customers (y-axis) and the plot points represent individual products. Add two sliders that control the x and y axis ranges."
   ]
  },
  {
   "cell_type": "code",
   "execution_count": null,
   "metadata": {},
   "outputs": [],
   "source": []
  },
  {
   "cell_type": "code",
   "execution_count": null,
   "metadata": {},
   "outputs": [],
   "source": []
  },
  {
   "cell_type": "code",
   "execution_count": null,
   "metadata": {},
   "outputs": [],
   "source": []
  },
  {
   "cell_type": "markdown",
   "metadata": {},
   "source": [
    "## 8. Creat an interactive bar chart that shows revenue by product description. Add a text field widget that filters the results to show the product that contain the text entered in their description."
   ]
  },
  {
   "cell_type": "code",
   "execution_count": null,
   "metadata": {},
   "outputs": [],
   "source": []
  }
 ],
 "metadata": {
  "kernelspec": {
   "display_name": "Python 3 (ipykernel)",
   "language": "python",
   "name": "python3"
  },
  "language_info": {
   "codemirror_mode": {
    "name": "ipython",
    "version": 3
   },
   "file_extension": ".py",
   "mimetype": "text/x-python",
   "name": "python",
   "nbconvert_exporter": "python",
   "pygments_lexer": "ipython3",
   "version": "3.10.13"
  }
 },
 "nbformat": 4,
 "nbformat_minor": 2
}
