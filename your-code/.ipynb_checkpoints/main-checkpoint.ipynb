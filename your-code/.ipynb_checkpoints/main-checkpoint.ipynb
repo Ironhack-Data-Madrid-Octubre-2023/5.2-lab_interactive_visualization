{
 "cells": [
  {
   "cell_type": "markdown",
   "metadata": {},
   "source": [
    "# Interactive Visualization Lab\n",
    "\n",
    "Complete the following set of exercises to solidify your knowledge of interactive visualization using Plotly, Cufflinks, and IPyWidgets."
   ]
  },
  {
   "cell_type": "code",
   "execution_count": 2,
   "metadata": {},
   "outputs": [
    {
     "name": "stdout",
     "output_type": "stream",
     "text": [
      "Collecting chart-studio\n",
      "  Downloading chart_studio-1.1.0-py3-none-any.whl (64 kB)\n",
      "     ---------------------------------------- 0.0/64.4 kB ? eta -:--:--\n",
      "     ---------------------------------------- 64.4/64.4 kB 3.4 MB/s eta 0:00:00\n",
      "Requirement already satisfied: plotly in c:\\users\\ccior\\anaconda3\\lib\\site-packages (from chart-studio) (5.9.0)\n",
      "Requirement already satisfied: requests in c:\\users\\ccior\\anaconda3\\lib\\site-packages (from chart-studio) (2.31.0)\n",
      "Collecting retrying>=1.3.3 (from chart-studio)\n",
      "  Downloading retrying-1.3.4-py3-none-any.whl (11 kB)\n",
      "Requirement already satisfied: six in c:\\users\\ccior\\anaconda3\\lib\\site-packages (from chart-studio) (1.16.0)\n",
      "Requirement already satisfied: tenacity>=6.2.0 in c:\\users\\ccior\\anaconda3\\lib\\site-packages (from plotly->chart-studio) (8.2.2)\n",
      "Requirement already satisfied: charset-normalizer<4,>=2 in c:\\users\\ccior\\anaconda3\\lib\\site-packages (from requests->chart-studio) (2.0.4)\n",
      "Requirement already satisfied: idna<4,>=2.5 in c:\\users\\ccior\\anaconda3\\lib\\site-packages (from requests->chart-studio) (3.4)\n",
      "Requirement already satisfied: urllib3<3,>=1.21.1 in c:\\users\\ccior\\anaconda3\\lib\\site-packages (from requests->chart-studio) (1.26.16)\n",
      "Requirement already satisfied: certifi>=2017.4.17 in c:\\users\\ccior\\anaconda3\\lib\\site-packages (from requests->chart-studio) (2023.7.22)\n",
      "Installing collected packages: retrying, chart-studio\n",
      "Successfully installed chart-studio-1.1.0 retrying-1.3.4\n",
      "Note: you may need to restart the kernel to use updated packages.\n"
     ]
    }
   ],
   "source": [
    "pip install chart-studio"
   ]
  },
  {
   "cell_type": "code",
   "execution_count": 6,
   "metadata": {},
   "outputs": [
    {
     "name": "stdout",
     "output_type": "stream",
     "text": [
      "Collecting cufflinks\n",
      "  Downloading cufflinks-0.17.3.tar.gz (81 kB)\n",
      "     ---------------------------------------- 0.0/81.7 kB ? eta -:--:--\n",
      "     ---------------------------------------- 81.7/81.7 kB 4.5 MB/s eta 0:00:00\n",
      "  Preparing metadata (setup.py): started\n",
      "  Preparing metadata (setup.py): finished with status 'done'\n",
      "Requirement already satisfied: numpy>=1.9.2 in c:\\users\\ccior\\anaconda3\\lib\\site-packages (from cufflinks) (1.24.3)\n",
      "Requirement already satisfied: pandas>=0.19.2 in c:\\users\\ccior\\anaconda3\\lib\\site-packages (from cufflinks) (1.5.3)\n",
      "Requirement already satisfied: plotly>=4.1.1 in c:\\users\\ccior\\anaconda3\\lib\\site-packages (from cufflinks) (5.9.0)\n",
      "Requirement already satisfied: six>=1.9.0 in c:\\users\\ccior\\anaconda3\\lib\\site-packages (from cufflinks) (1.16.0)\n",
      "Collecting colorlover>=0.2.1 (from cufflinks)\n",
      "  Downloading colorlover-0.3.0-py3-none-any.whl (8.9 kB)\n",
      "Requirement already satisfied: setuptools>=34.4.1 in c:\\users\\ccior\\anaconda3\\lib\\site-packages (from cufflinks) (68.0.0)\n",
      "Requirement already satisfied: ipython>=5.3.0 in c:\\users\\ccior\\anaconda3\\lib\\site-packages (from cufflinks) (8.12.0)\n",
      "Requirement already satisfied: ipywidgets>=7.0.0 in c:\\users\\ccior\\anaconda3\\lib\\site-packages (from cufflinks) (8.0.4)\n",
      "Requirement already satisfied: backcall in c:\\users\\ccior\\anaconda3\\lib\\site-packages (from ipython>=5.3.0->cufflinks) (0.2.0)\n",
      "Requirement already satisfied: decorator in c:\\users\\ccior\\anaconda3\\lib\\site-packages (from ipython>=5.3.0->cufflinks) (5.1.1)\n",
      "Requirement already satisfied: jedi>=0.16 in c:\\users\\ccior\\anaconda3\\lib\\site-packages (from ipython>=5.3.0->cufflinks) (0.18.1)\n",
      "Requirement already satisfied: matplotlib-inline in c:\\users\\ccior\\anaconda3\\lib\\site-packages (from ipython>=5.3.0->cufflinks) (0.1.6)\n",
      "Requirement already satisfied: pickleshare in c:\\users\\ccior\\anaconda3\\lib\\site-packages (from ipython>=5.3.0->cufflinks) (0.7.5)\n",
      "Requirement already satisfied: prompt-toolkit!=3.0.37,<3.1.0,>=3.0.30 in c:\\users\\ccior\\anaconda3\\lib\\site-packages (from ipython>=5.3.0->cufflinks) (3.0.36)\n",
      "Requirement already satisfied: pygments>=2.4.0 in c:\\users\\ccior\\anaconda3\\lib\\site-packages (from ipython>=5.3.0->cufflinks) (2.15.1)\n",
      "Requirement already satisfied: stack-data in c:\\users\\ccior\\anaconda3\\lib\\site-packages (from ipython>=5.3.0->cufflinks) (0.2.0)\n",
      "Requirement already satisfied: traitlets>=5 in c:\\users\\ccior\\anaconda3\\lib\\site-packages (from ipython>=5.3.0->cufflinks) (5.7.1)\n",
      "Requirement already satisfied: colorama in c:\\users\\ccior\\anaconda3\\lib\\site-packages (from ipython>=5.3.0->cufflinks) (0.4.6)\n",
      "Requirement already satisfied: ipykernel>=4.5.1 in c:\\users\\ccior\\anaconda3\\lib\\site-packages (from ipywidgets>=7.0.0->cufflinks) (6.19.2)\n",
      "Requirement already satisfied: widgetsnbextension~=4.0 in c:\\users\\ccior\\anaconda3\\lib\\site-packages (from ipywidgets>=7.0.0->cufflinks) (4.0.5)\n",
      "Requirement already satisfied: jupyterlab-widgets~=3.0 in c:\\users\\ccior\\anaconda3\\lib\\site-packages (from ipywidgets>=7.0.0->cufflinks) (3.0.5)\n",
      "Requirement already satisfied: python-dateutil>=2.8.1 in c:\\users\\ccior\\anaconda3\\lib\\site-packages (from pandas>=0.19.2->cufflinks) (2.8.2)\n",
      "Requirement already satisfied: pytz>=2020.1 in c:\\users\\ccior\\anaconda3\\lib\\site-packages (from pandas>=0.19.2->cufflinks) (2022.7)\n",
      "Requirement already satisfied: tenacity>=6.2.0 in c:\\users\\ccior\\anaconda3\\lib\\site-packages (from plotly>=4.1.1->cufflinks) (8.2.2)\n",
      "Requirement already satisfied: comm>=0.1.1 in c:\\users\\ccior\\anaconda3\\lib\\site-packages (from ipykernel>=4.5.1->ipywidgets>=7.0.0->cufflinks) (0.1.2)\n",
      "Requirement already satisfied: debugpy>=1.0 in c:\\users\\ccior\\anaconda3\\lib\\site-packages (from ipykernel>=4.5.1->ipywidgets>=7.0.0->cufflinks) (1.6.7)\n",
      "Requirement already satisfied: jupyter-client>=6.1.12 in c:\\users\\ccior\\anaconda3\\lib\\site-packages (from ipykernel>=4.5.1->ipywidgets>=7.0.0->cufflinks) (7.4.9)\n",
      "Requirement already satisfied: nest-asyncio in c:\\users\\ccior\\anaconda3\\lib\\site-packages (from ipykernel>=4.5.1->ipywidgets>=7.0.0->cufflinks) (1.5.6)\n",
      "Requirement already satisfied: packaging in c:\\users\\ccior\\anaconda3\\lib\\site-packages (from ipykernel>=4.5.1->ipywidgets>=7.0.0->cufflinks) (23.0)\n",
      "Requirement already satisfied: psutil in c:\\users\\ccior\\anaconda3\\lib\\site-packages (from ipykernel>=4.5.1->ipywidgets>=7.0.0->cufflinks) (5.9.0)\n",
      "Requirement already satisfied: pyzmq>=17 in c:\\users\\ccior\\anaconda3\\lib\\site-packages (from ipykernel>=4.5.1->ipywidgets>=7.0.0->cufflinks) (23.2.0)\n",
      "Requirement already satisfied: tornado>=6.1 in c:\\users\\ccior\\anaconda3\\lib\\site-packages (from ipykernel>=4.5.1->ipywidgets>=7.0.0->cufflinks) (6.3.2)\n",
      "Requirement already satisfied: parso<0.9.0,>=0.8.0 in c:\\users\\ccior\\anaconda3\\lib\\site-packages (from jedi>=0.16->ipython>=5.3.0->cufflinks) (0.8.3)\n",
      "Requirement already satisfied: wcwidth in c:\\users\\ccior\\anaconda3\\lib\\site-packages (from prompt-toolkit!=3.0.37,<3.1.0,>=3.0.30->ipython>=5.3.0->cufflinks) (0.2.5)\n",
      "Requirement already satisfied: executing in c:\\users\\ccior\\anaconda3\\lib\\site-packages (from stack-data->ipython>=5.3.0->cufflinks) (0.8.3)\n",
      "Requirement already satisfied: asttokens in c:\\users\\ccior\\anaconda3\\lib\\site-packages (from stack-data->ipython>=5.3.0->cufflinks) (2.0.5)\n",
      "Requirement already satisfied: pure-eval in c:\\users\\ccior\\anaconda3\\lib\\site-packages (from stack-data->ipython>=5.3.0->cufflinks) (0.2.2)\n",
      "Requirement already satisfied: entrypoints in c:\\users\\ccior\\anaconda3\\lib\\site-packages (from jupyter-client>=6.1.12->ipykernel>=4.5.1->ipywidgets>=7.0.0->cufflinks) (0.4)\n",
      "Requirement already satisfied: jupyter-core>=4.9.2 in c:\\users\\ccior\\anaconda3\\lib\\site-packages (from jupyter-client>=6.1.12->ipykernel>=4.5.1->ipywidgets>=7.0.0->cufflinks) (5.3.0)\n",
      "Requirement already satisfied: platformdirs>=2.5 in c:\\users\\ccior\\anaconda3\\lib\\site-packages (from jupyter-core>=4.9.2->jupyter-client>=6.1.12->ipykernel>=4.5.1->ipywidgets>=7.0.0->cufflinks) (2.5.2)\n",
      "Requirement already satisfied: pywin32>=300 in c:\\users\\ccior\\anaconda3\\lib\\site-packages (from jupyter-core>=4.9.2->jupyter-client>=6.1.12->ipykernel>=4.5.1->ipywidgets>=7.0.0->cufflinks) (305.1)\n",
      "Building wheels for collected packages: cufflinks\n",
      "  Building wheel for cufflinks (setup.py): started\n",
      "  Building wheel for cufflinks (setup.py): finished with status 'done'\n",
      "  Created wheel for cufflinks: filename=cufflinks-0.17.3-py3-none-any.whl size=68725 sha256=c83a7ca2f79fab530effe1c9f054899429811431814bec3b357a08a2fc6e0af1\n",
      "  Stored in directory: c:\\users\\ccior\\appdata\\local\\pip\\cache\\wheels\\c3\\bf\\8f\\afa0730b29e347e8c1071049f89748c1262e7a14a838820ae6\n",
      "Successfully built cufflinks\n",
      "Installing collected packages: colorlover, cufflinks\n",
      "Successfully installed colorlover-0.3.0 cufflinks-0.17.3\n",
      "Note: you may need to restart the kernel to use updated packages.\n"
     ]
    }
   ],
   "source": [
    "pip install cufflinks"
   ]
  },
  {
   "cell_type": "code",
   "execution_count": 3,
   "metadata": {},
   "outputs": [],
   "source": [
    "import warnings\n",
    "warnings.filterwarnings('ignore')"
   ]
  },
  {
   "cell_type": "code",
   "execution_count": 7,
   "metadata": {},
   "outputs": [
    {
     "data": {
      "text/html": [
       "        <script type=\"text/javascript\">\n",
       "        window.PlotlyConfig = {MathJaxConfig: 'local'};\n",
       "        if (window.MathJax && window.MathJax.Hub && window.MathJax.Hub.Config) {window.MathJax.Hub.Config({SVG: {font: \"STIX-Web\"}});}\n",
       "        if (typeof require !== 'undefined') {\n",
       "        require.undef(\"plotly\");\n",
       "        requirejs.config({\n",
       "            paths: {\n",
       "                'plotly': ['https://cdn.plot.ly/plotly-2.12.1.min']\n",
       "            }\n",
       "        });\n",
       "        require(['plotly'], function(Plotly) {\n",
       "            window._Plotly = Plotly;\n",
       "        });\n",
       "        }\n",
       "        </script>\n",
       "        "
      ]
     },
     "metadata": {},
     "output_type": "display_data"
    }
   ],
   "source": [
    "import pandas as pd\n",
    "import chart_studio.plotly as py\n",
    "import cufflinks as cf\n",
    "from ipywidgets import interact\n",
    "\n",
    "cf.go_offline()"
   ]
  },
  {
   "cell_type": "markdown",
   "metadata": {},
   "source": [
    "## 1. Create an interactive bar chart showing total quantity and revenue by country (excluding United Kingdom) for the month of April 2011."
   ]
  },
  {
   "cell_type": "code",
   "execution_count": 91,
   "metadata": {
    "scrolled": true
   },
   "outputs": [
    {
     "data": {
      "text/html": [
       "<div>\n",
       "<style scoped>\n",
       "    .dataframe tbody tr th:only-of-type {\n",
       "        vertical-align: middle;\n",
       "    }\n",
       "\n",
       "    .dataframe tbody tr th {\n",
       "        vertical-align: top;\n",
       "    }\n",
       "\n",
       "    .dataframe thead th {\n",
       "        text-align: right;\n",
       "    }\n",
       "</style>\n",
       "<table border=\"1\" class=\"dataframe\">\n",
       "  <thead>\n",
       "    <tr style=\"text-align: right;\">\n",
       "      <th></th>\n",
       "      <th>InvoiceNo</th>\n",
       "      <th>InvoiceDate</th>\n",
       "      <th>StockCode</th>\n",
       "      <th>Description</th>\n",
       "      <th>Quantity</th>\n",
       "      <th>UnitPrice</th>\n",
       "      <th>Revenue</th>\n",
       "      <th>CustomerID</th>\n",
       "      <th>Country</th>\n",
       "    </tr>\n",
       "  </thead>\n",
       "  <tbody>\n",
       "    <tr>\n",
       "      <th>0</th>\n",
       "      <td>536365</td>\n",
       "      <td>2010-12-01 08:26:00</td>\n",
       "      <td>85123A</td>\n",
       "      <td>CREAM HANGING HEART T-LIGHT HOLDER</td>\n",
       "      <td>6</td>\n",
       "      <td>2.55</td>\n",
       "      <td>15.3</td>\n",
       "      <td>17850</td>\n",
       "      <td>United Kingdom</td>\n",
       "    </tr>\n",
       "    <tr>\n",
       "      <th>1</th>\n",
       "      <td>536373</td>\n",
       "      <td>2010-12-01 09:02:00</td>\n",
       "      <td>85123A</td>\n",
       "      <td>CREAM HANGING HEART T-LIGHT HOLDER</td>\n",
       "      <td>6</td>\n",
       "      <td>2.55</td>\n",
       "      <td>15.3</td>\n",
       "      <td>17850</td>\n",
       "      <td>United Kingdom</td>\n",
       "    </tr>\n",
       "    <tr>\n",
       "      <th>2</th>\n",
       "      <td>536375</td>\n",
       "      <td>2010-12-01 09:32:00</td>\n",
       "      <td>85123A</td>\n",
       "      <td>CREAM HANGING HEART T-LIGHT HOLDER</td>\n",
       "      <td>6</td>\n",
       "      <td>2.55</td>\n",
       "      <td>15.3</td>\n",
       "      <td>17850</td>\n",
       "      <td>United Kingdom</td>\n",
       "    </tr>\n",
       "    <tr>\n",
       "      <th>3</th>\n",
       "      <td>536390</td>\n",
       "      <td>2010-12-01 10:19:00</td>\n",
       "      <td>85123A</td>\n",
       "      <td>CREAM HANGING HEART T-LIGHT HOLDER</td>\n",
       "      <td>64</td>\n",
       "      <td>2.55</td>\n",
       "      <td>163.2</td>\n",
       "      <td>17511</td>\n",
       "      <td>United Kingdom</td>\n",
       "    </tr>\n",
       "    <tr>\n",
       "      <th>4</th>\n",
       "      <td>536394</td>\n",
       "      <td>2010-12-01 10:39:00</td>\n",
       "      <td>85123A</td>\n",
       "      <td>CREAM HANGING HEART T-LIGHT HOLDER</td>\n",
       "      <td>32</td>\n",
       "      <td>2.55</td>\n",
       "      <td>81.6</td>\n",
       "      <td>13408</td>\n",
       "      <td>United Kingdom</td>\n",
       "    </tr>\n",
       "  </tbody>\n",
       "</table>\n",
       "</div>"
      ],
      "text/plain": [
       "   InvoiceNo         InvoiceDate StockCode  \\\n",
       "0     536365 2010-12-01 08:26:00    85123A   \n",
       "1     536373 2010-12-01 09:02:00    85123A   \n",
       "2     536375 2010-12-01 09:32:00    85123A   \n",
       "3     536390 2010-12-01 10:19:00    85123A   \n",
       "4     536394 2010-12-01 10:39:00    85123A   \n",
       "\n",
       "                          Description  Quantity  UnitPrice  Revenue  \\\n",
       "0  CREAM HANGING HEART T-LIGHT HOLDER         6       2.55     15.3   \n",
       "1  CREAM HANGING HEART T-LIGHT HOLDER         6       2.55     15.3   \n",
       "2  CREAM HANGING HEART T-LIGHT HOLDER         6       2.55     15.3   \n",
       "3  CREAM HANGING HEART T-LIGHT HOLDER        64       2.55    163.2   \n",
       "4  CREAM HANGING HEART T-LIGHT HOLDER        32       2.55     81.6   \n",
       "\n",
       "   CustomerID         Country  \n",
       "0       17850  United Kingdom  \n",
       "1       17850  United Kingdom  \n",
       "2       17850  United Kingdom  \n",
       "3       17511  United Kingdom  \n",
       "4       13408  United Kingdom  "
      ]
     },
     "execution_count": 91,
     "metadata": {},
     "output_type": "execute_result"
    }
   ],
   "source": [
    "df = pd.read_excel('../data/Online Retail.xlsx')\n",
    "\n",
    "df.head()"
   ]
  },
  {
   "cell_type": "code",
   "execution_count": 100,
   "metadata": {},
   "outputs": [
    {
     "data": {
      "text/html": [
       "<div>\n",
       "<style scoped>\n",
       "    .dataframe tbody tr th:only-of-type {\n",
       "        vertical-align: middle;\n",
       "    }\n",
       "\n",
       "    .dataframe tbody tr th {\n",
       "        vertical-align: top;\n",
       "    }\n",
       "\n",
       "    .dataframe thead th {\n",
       "        text-align: right;\n",
       "    }\n",
       "</style>\n",
       "<table border=\"1\" class=\"dataframe\">\n",
       "  <thead>\n",
       "    <tr style=\"text-align: right;\">\n",
       "      <th></th>\n",
       "      <th>InvoiceNo</th>\n",
       "      <th>InvoiceDate</th>\n",
       "      <th>StockCode</th>\n",
       "      <th>Description</th>\n",
       "      <th>Quantity</th>\n",
       "      <th>UnitPrice</th>\n",
       "      <th>Revenue</th>\n",
       "      <th>CustomerID</th>\n",
       "      <th>Country</th>\n",
       "    </tr>\n",
       "  </thead>\n",
       "  <tbody>\n",
       "    <tr>\n",
       "      <th>724</th>\n",
       "      <td>549667</td>\n",
       "      <td>2011-04-11 12:20:00</td>\n",
       "      <td>85123A</td>\n",
       "      <td>CREAM HANGING HEART T-LIGHT HOLDER</td>\n",
       "      <td>6</td>\n",
       "      <td>2.95</td>\n",
       "      <td>17.70</td>\n",
       "      <td>14911</td>\n",
       "      <td>EIRE</td>\n",
       "    </tr>\n",
       "    <tr>\n",
       "      <th>807</th>\n",
       "      <td>551163</td>\n",
       "      <td>2011-04-26 15:52:00</td>\n",
       "      <td>85123A</td>\n",
       "      <td>CREAM HANGING HEART T-LIGHT HOLDER</td>\n",
       "      <td>9</td>\n",
       "      <td>2.95</td>\n",
       "      <td>26.55</td>\n",
       "      <td>12573</td>\n",
       "      <td>France</td>\n",
       "    </tr>\n",
       "    <tr>\n",
       "      <th>3320</th>\n",
       "      <td>550899</td>\n",
       "      <td>2011-04-21 12:07:00</td>\n",
       "      <td>22752</td>\n",
       "      <td>SET 7 BABUSHKA NESTING BOXES</td>\n",
       "      <td>2</td>\n",
       "      <td>8.50</td>\n",
       "      <td>17.00</td>\n",
       "      <td>13505</td>\n",
       "      <td>Switzerland</td>\n",
       "    </tr>\n",
       "    <tr>\n",
       "      <th>4880</th>\n",
       "      <td>550527</td>\n",
       "      <td>2011-04-19 10:48:00</td>\n",
       "      <td>84879</td>\n",
       "      <td>ASSORTED COLOUR BIRD ORNAMENT</td>\n",
       "      <td>40</td>\n",
       "      <td>1.69</td>\n",
       "      <td>67.60</td>\n",
       "      <td>12476</td>\n",
       "      <td>Germany</td>\n",
       "    </tr>\n",
       "    <tr>\n",
       "      <th>4882</th>\n",
       "      <td>550620</td>\n",
       "      <td>2011-04-19 13:39:00</td>\n",
       "      <td>84879</td>\n",
       "      <td>ASSORTED COLOUR BIRD ORNAMENT</td>\n",
       "      <td>32</td>\n",
       "      <td>1.69</td>\n",
       "      <td>54.08</td>\n",
       "      <td>12585</td>\n",
       "      <td>Germany</td>\n",
       "    </tr>\n",
       "  </tbody>\n",
       "</table>\n",
       "</div>"
      ],
      "text/plain": [
       "      InvoiceNo         InvoiceDate StockCode  \\\n",
       "724      549667 2011-04-11 12:20:00    85123A   \n",
       "807      551163 2011-04-26 15:52:00    85123A   \n",
       "3320     550899 2011-04-21 12:07:00     22752   \n",
       "4880     550527 2011-04-19 10:48:00     84879   \n",
       "4882     550620 2011-04-19 13:39:00     84879   \n",
       "\n",
       "                             Description  Quantity  UnitPrice  Revenue  \\\n",
       "724   CREAM HANGING HEART T-LIGHT HOLDER         6       2.95    17.70   \n",
       "807   CREAM HANGING HEART T-LIGHT HOLDER         9       2.95    26.55   \n",
       "3320        SET 7 BABUSHKA NESTING BOXES         2       8.50    17.00   \n",
       "4880       ASSORTED COLOUR BIRD ORNAMENT        40       1.69    67.60   \n",
       "4882       ASSORTED COLOUR BIRD ORNAMENT        32       1.69    54.08   \n",
       "\n",
       "      CustomerID      Country  \n",
       "724        14911         EIRE  \n",
       "807        12573       France  \n",
       "3320       13505  Switzerland  \n",
       "4880       12476      Germany  \n",
       "4882       12585      Germany  "
      ]
     },
     "execution_count": 100,
     "metadata": {},
     "output_type": "execute_result"
    }
   ],
   "source": [
    "#Filtro con las condiciones\n",
    "df_wo_uk = df[(df['Country'] != 'United Kingdom') & (df['InvoiceDate'] >= '2011-04-01') &  (df['InvoiceDate'] < '2011-05-01')]\n",
    "df_wo_uk.head()"
   ]
  },
  {
   "cell_type": "code",
   "execution_count": 101,
   "metadata": {},
   "outputs": [],
   "source": [
    "df_wo_uk = df_wo_uk.groupby('Country')[['Quantity', 'Revenue']].sum().head()"
   ]
  },
  {
   "cell_type": "code",
   "execution_count": 106,
   "metadata": {},
   "outputs": [],
   "source": [
    "# otra manera\n",
    "# df_wo_uk = df_wo_uk.groupby('Country').agg({'Quantity': 'sum', 'Revenue': 'sum'}).head() "
   ]
  },
  {
   "cell_type": "code",
   "execution_count": 102,
   "metadata": {},
   "outputs": [
    {
     "data": {
      "application/vnd.plotly.v1+json": {
       "config": {
        "linkText": "Export to plot.ly",
        "plotlyServerURL": "https://plot.ly",
        "showLink": true
       },
       "data": [
        {
         "marker": {
          "color": "rgba(255, 153, 51, 0.6)",
          "line": {
           "color": "rgba(255, 153, 51, 1.0)",
           "width": 1
          }
         },
         "name": "Quantity",
         "orientation": "v",
         "text": "",
         "type": "bar",
         "x": [
          "Australia",
          "Austria",
          "Belgium",
          "Brazil",
          "Channel Islands"
         ],
         "y": [
          224,
          308,
          1170,
          356,
          96
         ]
        },
        {
         "marker": {
          "color": "rgba(55, 128, 191, 0.6)",
          "line": {
           "color": "rgba(55, 128, 191, 1.0)",
           "width": 1
          }
         },
         "name": "Revenue",
         "orientation": "v",
         "text": "",
         "type": "bar",
         "x": [
          "Australia",
          "Austria",
          "Belgium",
          "Brazil",
          "Channel Islands"
         ],
         "y": [
          421.6,
          584.78,
          1788.48,
          1143.6,
          243
         ]
        }
       ],
       "layout": {
        "legend": {
         "bgcolor": "#F5F6F9",
         "font": {
          "color": "#4D5663"
         }
        },
        "paper_bgcolor": "#F5F6F9",
        "plot_bgcolor": "#F5F6F9",
        "template": {
         "data": {
          "bar": [
           {
            "error_x": {
             "color": "#2a3f5f"
            },
            "error_y": {
             "color": "#2a3f5f"
            },
            "marker": {
             "line": {
              "color": "#E5ECF6",
              "width": 0.5
             },
             "pattern": {
              "fillmode": "overlay",
              "size": 10,
              "solidity": 0.2
             }
            },
            "type": "bar"
           }
          ],
          "barpolar": [
           {
            "marker": {
             "line": {
              "color": "#E5ECF6",
              "width": 0.5
             },
             "pattern": {
              "fillmode": "overlay",
              "size": 10,
              "solidity": 0.2
             }
            },
            "type": "barpolar"
           }
          ],
          "carpet": [
           {
            "aaxis": {
             "endlinecolor": "#2a3f5f",
             "gridcolor": "white",
             "linecolor": "white",
             "minorgridcolor": "white",
             "startlinecolor": "#2a3f5f"
            },
            "baxis": {
             "endlinecolor": "#2a3f5f",
             "gridcolor": "white",
             "linecolor": "white",
             "minorgridcolor": "white",
             "startlinecolor": "#2a3f5f"
            },
            "type": "carpet"
           }
          ],
          "choropleth": [
           {
            "colorbar": {
             "outlinewidth": 0,
             "ticks": ""
            },
            "type": "choropleth"
           }
          ],
          "contour": [
           {
            "colorbar": {
             "outlinewidth": 0,
             "ticks": ""
            },
            "colorscale": [
             [
              0,
              "#0d0887"
             ],
             [
              0.1111111111111111,
              "#46039f"
             ],
             [
              0.2222222222222222,
              "#7201a8"
             ],
             [
              0.3333333333333333,
              "#9c179e"
             ],
             [
              0.4444444444444444,
              "#bd3786"
             ],
             [
              0.5555555555555556,
              "#d8576b"
             ],
             [
              0.6666666666666666,
              "#ed7953"
             ],
             [
              0.7777777777777778,
              "#fb9f3a"
             ],
             [
              0.8888888888888888,
              "#fdca26"
             ],
             [
              1,
              "#f0f921"
             ]
            ],
            "type": "contour"
           }
          ],
          "contourcarpet": [
           {
            "colorbar": {
             "outlinewidth": 0,
             "ticks": ""
            },
            "type": "contourcarpet"
           }
          ],
          "heatmap": [
           {
            "colorbar": {
             "outlinewidth": 0,
             "ticks": ""
            },
            "colorscale": [
             [
              0,
              "#0d0887"
             ],
             [
              0.1111111111111111,
              "#46039f"
             ],
             [
              0.2222222222222222,
              "#7201a8"
             ],
             [
              0.3333333333333333,
              "#9c179e"
             ],
             [
              0.4444444444444444,
              "#bd3786"
             ],
             [
              0.5555555555555556,
              "#d8576b"
             ],
             [
              0.6666666666666666,
              "#ed7953"
             ],
             [
              0.7777777777777778,
              "#fb9f3a"
             ],
             [
              0.8888888888888888,
              "#fdca26"
             ],
             [
              1,
              "#f0f921"
             ]
            ],
            "type": "heatmap"
           }
          ],
          "heatmapgl": [
           {
            "colorbar": {
             "outlinewidth": 0,
             "ticks": ""
            },
            "colorscale": [
             [
              0,
              "#0d0887"
             ],
             [
              0.1111111111111111,
              "#46039f"
             ],
             [
              0.2222222222222222,
              "#7201a8"
             ],
             [
              0.3333333333333333,
              "#9c179e"
             ],
             [
              0.4444444444444444,
              "#bd3786"
             ],
             [
              0.5555555555555556,
              "#d8576b"
             ],
             [
              0.6666666666666666,
              "#ed7953"
             ],
             [
              0.7777777777777778,
              "#fb9f3a"
             ],
             [
              0.8888888888888888,
              "#fdca26"
             ],
             [
              1,
              "#f0f921"
             ]
            ],
            "type": "heatmapgl"
           }
          ],
          "histogram": [
           {
            "marker": {
             "pattern": {
              "fillmode": "overlay",
              "size": 10,
              "solidity": 0.2
             }
            },
            "type": "histogram"
           }
          ],
          "histogram2d": [
           {
            "colorbar": {
             "outlinewidth": 0,
             "ticks": ""
            },
            "colorscale": [
             [
              0,
              "#0d0887"
             ],
             [
              0.1111111111111111,
              "#46039f"
             ],
             [
              0.2222222222222222,
              "#7201a8"
             ],
             [
              0.3333333333333333,
              "#9c179e"
             ],
             [
              0.4444444444444444,
              "#bd3786"
             ],
             [
              0.5555555555555556,
              "#d8576b"
             ],
             [
              0.6666666666666666,
              "#ed7953"
             ],
             [
              0.7777777777777778,
              "#fb9f3a"
             ],
             [
              0.8888888888888888,
              "#fdca26"
             ],
             [
              1,
              "#f0f921"
             ]
            ],
            "type": "histogram2d"
           }
          ],
          "histogram2dcontour": [
           {
            "colorbar": {
             "outlinewidth": 0,
             "ticks": ""
            },
            "colorscale": [
             [
              0,
              "#0d0887"
             ],
             [
              0.1111111111111111,
              "#46039f"
             ],
             [
              0.2222222222222222,
              "#7201a8"
             ],
             [
              0.3333333333333333,
              "#9c179e"
             ],
             [
              0.4444444444444444,
              "#bd3786"
             ],
             [
              0.5555555555555556,
              "#d8576b"
             ],
             [
              0.6666666666666666,
              "#ed7953"
             ],
             [
              0.7777777777777778,
              "#fb9f3a"
             ],
             [
              0.8888888888888888,
              "#fdca26"
             ],
             [
              1,
              "#f0f921"
             ]
            ],
            "type": "histogram2dcontour"
           }
          ],
          "mesh3d": [
           {
            "colorbar": {
             "outlinewidth": 0,
             "ticks": ""
            },
            "type": "mesh3d"
           }
          ],
          "parcoords": [
           {
            "line": {
             "colorbar": {
              "outlinewidth": 0,
              "ticks": ""
             }
            },
            "type": "parcoords"
           }
          ],
          "pie": [
           {
            "automargin": true,
            "type": "pie"
           }
          ],
          "scatter": [
           {
            "fillpattern": {
             "fillmode": "overlay",
             "size": 10,
             "solidity": 0.2
            },
            "type": "scatter"
           }
          ],
          "scatter3d": [
           {
            "line": {
             "colorbar": {
              "outlinewidth": 0,
              "ticks": ""
             }
            },
            "marker": {
             "colorbar": {
              "outlinewidth": 0,
              "ticks": ""
             }
            },
            "type": "scatter3d"
           }
          ],
          "scattercarpet": [
           {
            "marker": {
             "colorbar": {
              "outlinewidth": 0,
              "ticks": ""
             }
            },
            "type": "scattercarpet"
           }
          ],
          "scattergeo": [
           {
            "marker": {
             "colorbar": {
              "outlinewidth": 0,
              "ticks": ""
             }
            },
            "type": "scattergeo"
           }
          ],
          "scattergl": [
           {
            "marker": {
             "colorbar": {
              "outlinewidth": 0,
              "ticks": ""
             }
            },
            "type": "scattergl"
           }
          ],
          "scattermapbox": [
           {
            "marker": {
             "colorbar": {
              "outlinewidth": 0,
              "ticks": ""
             }
            },
            "type": "scattermapbox"
           }
          ],
          "scatterpolar": [
           {
            "marker": {
             "colorbar": {
              "outlinewidth": 0,
              "ticks": ""
             }
            },
            "type": "scatterpolar"
           }
          ],
          "scatterpolargl": [
           {
            "marker": {
             "colorbar": {
              "outlinewidth": 0,
              "ticks": ""
             }
            },
            "type": "scatterpolargl"
           }
          ],
          "scatterternary": [
           {
            "marker": {
             "colorbar": {
              "outlinewidth": 0,
              "ticks": ""
             }
            },
            "type": "scatterternary"
           }
          ],
          "surface": [
           {
            "colorbar": {
             "outlinewidth": 0,
             "ticks": ""
            },
            "colorscale": [
             [
              0,
              "#0d0887"
             ],
             [
              0.1111111111111111,
              "#46039f"
             ],
             [
              0.2222222222222222,
              "#7201a8"
             ],
             [
              0.3333333333333333,
              "#9c179e"
             ],
             [
              0.4444444444444444,
              "#bd3786"
             ],
             [
              0.5555555555555556,
              "#d8576b"
             ],
             [
              0.6666666666666666,
              "#ed7953"
             ],
             [
              0.7777777777777778,
              "#fb9f3a"
             ],
             [
              0.8888888888888888,
              "#fdca26"
             ],
             [
              1,
              "#f0f921"
             ]
            ],
            "type": "surface"
           }
          ],
          "table": [
           {
            "cells": {
             "fill": {
              "color": "#EBF0F8"
             },
             "line": {
              "color": "white"
             }
            },
            "header": {
             "fill": {
              "color": "#C8D4E3"
             },
             "line": {
              "color": "white"
             }
            },
            "type": "table"
           }
          ]
         },
         "layout": {
          "annotationdefaults": {
           "arrowcolor": "#2a3f5f",
           "arrowhead": 0,
           "arrowwidth": 1
          },
          "autotypenumbers": "strict",
          "coloraxis": {
           "colorbar": {
            "outlinewidth": 0,
            "ticks": ""
           }
          },
          "colorscale": {
           "diverging": [
            [
             0,
             "#8e0152"
            ],
            [
             0.1,
             "#c51b7d"
            ],
            [
             0.2,
             "#de77ae"
            ],
            [
             0.3,
             "#f1b6da"
            ],
            [
             0.4,
             "#fde0ef"
            ],
            [
             0.5,
             "#f7f7f7"
            ],
            [
             0.6,
             "#e6f5d0"
            ],
            [
             0.7,
             "#b8e186"
            ],
            [
             0.8,
             "#7fbc41"
            ],
            [
             0.9,
             "#4d9221"
            ],
            [
             1,
             "#276419"
            ]
           ],
           "sequential": [
            [
             0,
             "#0d0887"
            ],
            [
             0.1111111111111111,
             "#46039f"
            ],
            [
             0.2222222222222222,
             "#7201a8"
            ],
            [
             0.3333333333333333,
             "#9c179e"
            ],
            [
             0.4444444444444444,
             "#bd3786"
            ],
            [
             0.5555555555555556,
             "#d8576b"
            ],
            [
             0.6666666666666666,
             "#ed7953"
            ],
            [
             0.7777777777777778,
             "#fb9f3a"
            ],
            [
             0.8888888888888888,
             "#fdca26"
            ],
            [
             1,
             "#f0f921"
            ]
           ],
           "sequentialminus": [
            [
             0,
             "#0d0887"
            ],
            [
             0.1111111111111111,
             "#46039f"
            ],
            [
             0.2222222222222222,
             "#7201a8"
            ],
            [
             0.3333333333333333,
             "#9c179e"
            ],
            [
             0.4444444444444444,
             "#bd3786"
            ],
            [
             0.5555555555555556,
             "#d8576b"
            ],
            [
             0.6666666666666666,
             "#ed7953"
            ],
            [
             0.7777777777777778,
             "#fb9f3a"
            ],
            [
             0.8888888888888888,
             "#fdca26"
            ],
            [
             1,
             "#f0f921"
            ]
           ]
          },
          "colorway": [
           "#636efa",
           "#EF553B",
           "#00cc96",
           "#ab63fa",
           "#FFA15A",
           "#19d3f3",
           "#FF6692",
           "#B6E880",
           "#FF97FF",
           "#FECB52"
          ],
          "font": {
           "color": "#2a3f5f"
          },
          "geo": {
           "bgcolor": "white",
           "lakecolor": "white",
           "landcolor": "#E5ECF6",
           "showlakes": true,
           "showland": true,
           "subunitcolor": "white"
          },
          "hoverlabel": {
           "align": "left"
          },
          "hovermode": "closest",
          "mapbox": {
           "style": "light"
          },
          "paper_bgcolor": "white",
          "plot_bgcolor": "#E5ECF6",
          "polar": {
           "angularaxis": {
            "gridcolor": "white",
            "linecolor": "white",
            "ticks": ""
           },
           "bgcolor": "#E5ECF6",
           "radialaxis": {
            "gridcolor": "white",
            "linecolor": "white",
            "ticks": ""
           }
          },
          "scene": {
           "xaxis": {
            "backgroundcolor": "#E5ECF6",
            "gridcolor": "white",
            "gridwidth": 2,
            "linecolor": "white",
            "showbackground": true,
            "ticks": "",
            "zerolinecolor": "white"
           },
           "yaxis": {
            "backgroundcolor": "#E5ECF6",
            "gridcolor": "white",
            "gridwidth": 2,
            "linecolor": "white",
            "showbackground": true,
            "ticks": "",
            "zerolinecolor": "white"
           },
           "zaxis": {
            "backgroundcolor": "#E5ECF6",
            "gridcolor": "white",
            "gridwidth": 2,
            "linecolor": "white",
            "showbackground": true,
            "ticks": "",
            "zerolinecolor": "white"
           }
          },
          "shapedefaults": {
           "line": {
            "color": "#2a3f5f"
           }
          },
          "ternary": {
           "aaxis": {
            "gridcolor": "white",
            "linecolor": "white",
            "ticks": ""
           },
           "baxis": {
            "gridcolor": "white",
            "linecolor": "white",
            "ticks": ""
           },
           "bgcolor": "#E5ECF6",
           "caxis": {
            "gridcolor": "white",
            "linecolor": "white",
            "ticks": ""
           }
          },
          "title": {
           "x": 0.05
          },
          "xaxis": {
           "automargin": true,
           "gridcolor": "white",
           "linecolor": "white",
           "ticks": "",
           "title": {
            "standoff": 15
           },
           "zerolinecolor": "white",
           "zerolinewidth": 2
          },
          "yaxis": {
           "automargin": true,
           "gridcolor": "white",
           "linecolor": "white",
           "ticks": "",
           "title": {
            "standoff": 15
           },
           "zerolinecolor": "white",
           "zerolinewidth": 2
          }
         }
        },
        "title": {
         "font": {
          "color": "#4D5663"
         },
         "text": "Total quantities and revenues by country, except UK"
        },
        "xaxis": {
         "gridcolor": "#E1E5ED",
         "showgrid": true,
         "tickfont": {
          "color": "#4D5663"
         },
         "title": {
          "font": {
           "color": "#4D5663"
          },
          "text": "Country"
         },
         "zerolinecolor": "#E1E5ED"
        },
        "yaxis": {
         "gridcolor": "#E1E5ED",
         "showgrid": true,
         "tickfont": {
          "color": "#4D5663"
         },
         "title": {
          "font": {
           "color": "#4D5663"
          },
          "text": ""
         },
         "zerolinecolor": "#E1E5ED"
        }
       }
      },
      "text/html": [
       "<div>                            <div id=\"01d3ca4a-359d-4a77-a567-1dfeef06c4c9\" class=\"plotly-graph-div\" style=\"height:525px; width:100%;\"></div>            <script type=\"text/javascript\">                require([\"plotly\"], function(Plotly) {                    window.PLOTLYENV=window.PLOTLYENV || {};\n",
       "                    window.PLOTLYENV.BASE_URL='https://plot.ly';                                    if (document.getElementById(\"01d3ca4a-359d-4a77-a567-1dfeef06c4c9\")) {                    Plotly.newPlot(                        \"01d3ca4a-359d-4a77-a567-1dfeef06c4c9\",                        [{\"marker\":{\"color\":\"rgba(255, 153, 51, 0.6)\",\"line\":{\"color\":\"rgba(255, 153, 51, 1.0)\",\"width\":1}},\"name\":\"Quantity\",\"orientation\":\"v\",\"text\":\"\",\"x\":[\"Australia\",\"Austria\",\"Belgium\",\"Brazil\",\"Channel Islands\"],\"y\":[224,308,1170,356,96],\"type\":\"bar\"},{\"marker\":{\"color\":\"rgba(55, 128, 191, 0.6)\",\"line\":{\"color\":\"rgba(55, 128, 191, 1.0)\",\"width\":1}},\"name\":\"Revenue\",\"orientation\":\"v\",\"text\":\"\",\"x\":[\"Australia\",\"Austria\",\"Belgium\",\"Brazil\",\"Channel Islands\"],\"y\":[421.6,584.78,1788.48,1143.6,243.0],\"type\":\"bar\"}],                        {\"legend\":{\"bgcolor\":\"#F5F6F9\",\"font\":{\"color\":\"#4D5663\"}},\"paper_bgcolor\":\"#F5F6F9\",\"plot_bgcolor\":\"#F5F6F9\",\"template\":{\"data\":{\"barpolar\":[{\"marker\":{\"line\":{\"color\":\"#E5ECF6\",\"width\":0.5},\"pattern\":{\"fillmode\":\"overlay\",\"size\":10,\"solidity\":0.2}},\"type\":\"barpolar\"}],\"bar\":[{\"error_x\":{\"color\":\"#2a3f5f\"},\"error_y\":{\"color\":\"#2a3f5f\"},\"marker\":{\"line\":{\"color\":\"#E5ECF6\",\"width\":0.5},\"pattern\":{\"fillmode\":\"overlay\",\"size\":10,\"solidity\":0.2}},\"type\":\"bar\"}],\"carpet\":[{\"aaxis\":{\"endlinecolor\":\"#2a3f5f\",\"gridcolor\":\"white\",\"linecolor\":\"white\",\"minorgridcolor\":\"white\",\"startlinecolor\":\"#2a3f5f\"},\"baxis\":{\"endlinecolor\":\"#2a3f5f\",\"gridcolor\":\"white\",\"linecolor\":\"white\",\"minorgridcolor\":\"white\",\"startlinecolor\":\"#2a3f5f\"},\"type\":\"carpet\"}],\"choropleth\":[{\"colorbar\":{\"outlinewidth\":0,\"ticks\":\"\"},\"type\":\"choropleth\"}],\"contourcarpet\":[{\"colorbar\":{\"outlinewidth\":0,\"ticks\":\"\"},\"type\":\"contourcarpet\"}],\"contour\":[{\"colorbar\":{\"outlinewidth\":0,\"ticks\":\"\"},\"colorscale\":[[0.0,\"#0d0887\"],[0.1111111111111111,\"#46039f\"],[0.2222222222222222,\"#7201a8\"],[0.3333333333333333,\"#9c179e\"],[0.4444444444444444,\"#bd3786\"],[0.5555555555555556,\"#d8576b\"],[0.6666666666666666,\"#ed7953\"],[0.7777777777777778,\"#fb9f3a\"],[0.8888888888888888,\"#fdca26\"],[1.0,\"#f0f921\"]],\"type\":\"contour\"}],\"heatmapgl\":[{\"colorbar\":{\"outlinewidth\":0,\"ticks\":\"\"},\"colorscale\":[[0.0,\"#0d0887\"],[0.1111111111111111,\"#46039f\"],[0.2222222222222222,\"#7201a8\"],[0.3333333333333333,\"#9c179e\"],[0.4444444444444444,\"#bd3786\"],[0.5555555555555556,\"#d8576b\"],[0.6666666666666666,\"#ed7953\"],[0.7777777777777778,\"#fb9f3a\"],[0.8888888888888888,\"#fdca26\"],[1.0,\"#f0f921\"]],\"type\":\"heatmapgl\"}],\"heatmap\":[{\"colorbar\":{\"outlinewidth\":0,\"ticks\":\"\"},\"colorscale\":[[0.0,\"#0d0887\"],[0.1111111111111111,\"#46039f\"],[0.2222222222222222,\"#7201a8\"],[0.3333333333333333,\"#9c179e\"],[0.4444444444444444,\"#bd3786\"],[0.5555555555555556,\"#d8576b\"],[0.6666666666666666,\"#ed7953\"],[0.7777777777777778,\"#fb9f3a\"],[0.8888888888888888,\"#fdca26\"],[1.0,\"#f0f921\"]],\"type\":\"heatmap\"}],\"histogram2dcontour\":[{\"colorbar\":{\"outlinewidth\":0,\"ticks\":\"\"},\"colorscale\":[[0.0,\"#0d0887\"],[0.1111111111111111,\"#46039f\"],[0.2222222222222222,\"#7201a8\"],[0.3333333333333333,\"#9c179e\"],[0.4444444444444444,\"#bd3786\"],[0.5555555555555556,\"#d8576b\"],[0.6666666666666666,\"#ed7953\"],[0.7777777777777778,\"#fb9f3a\"],[0.8888888888888888,\"#fdca26\"],[1.0,\"#f0f921\"]],\"type\":\"histogram2dcontour\"}],\"histogram2d\":[{\"colorbar\":{\"outlinewidth\":0,\"ticks\":\"\"},\"colorscale\":[[0.0,\"#0d0887\"],[0.1111111111111111,\"#46039f\"],[0.2222222222222222,\"#7201a8\"],[0.3333333333333333,\"#9c179e\"],[0.4444444444444444,\"#bd3786\"],[0.5555555555555556,\"#d8576b\"],[0.6666666666666666,\"#ed7953\"],[0.7777777777777778,\"#fb9f3a\"],[0.8888888888888888,\"#fdca26\"],[1.0,\"#f0f921\"]],\"type\":\"histogram2d\"}],\"histogram\":[{\"marker\":{\"pattern\":{\"fillmode\":\"overlay\",\"size\":10,\"solidity\":0.2}},\"type\":\"histogram\"}],\"mesh3d\":[{\"colorbar\":{\"outlinewidth\":0,\"ticks\":\"\"},\"type\":\"mesh3d\"}],\"parcoords\":[{\"line\":{\"colorbar\":{\"outlinewidth\":0,\"ticks\":\"\"}},\"type\":\"parcoords\"}],\"pie\":[{\"automargin\":true,\"type\":\"pie\"}],\"scatter3d\":[{\"line\":{\"colorbar\":{\"outlinewidth\":0,\"ticks\":\"\"}},\"marker\":{\"colorbar\":{\"outlinewidth\":0,\"ticks\":\"\"}},\"type\":\"scatter3d\"}],\"scattercarpet\":[{\"marker\":{\"colorbar\":{\"outlinewidth\":0,\"ticks\":\"\"}},\"type\":\"scattercarpet\"}],\"scattergeo\":[{\"marker\":{\"colorbar\":{\"outlinewidth\":0,\"ticks\":\"\"}},\"type\":\"scattergeo\"}],\"scattergl\":[{\"marker\":{\"colorbar\":{\"outlinewidth\":0,\"ticks\":\"\"}},\"type\":\"scattergl\"}],\"scattermapbox\":[{\"marker\":{\"colorbar\":{\"outlinewidth\":0,\"ticks\":\"\"}},\"type\":\"scattermapbox\"}],\"scatterpolargl\":[{\"marker\":{\"colorbar\":{\"outlinewidth\":0,\"ticks\":\"\"}},\"type\":\"scatterpolargl\"}],\"scatterpolar\":[{\"marker\":{\"colorbar\":{\"outlinewidth\":0,\"ticks\":\"\"}},\"type\":\"scatterpolar\"}],\"scatter\":[{\"fillpattern\":{\"fillmode\":\"overlay\",\"size\":10,\"solidity\":0.2},\"type\":\"scatter\"}],\"scatterternary\":[{\"marker\":{\"colorbar\":{\"outlinewidth\":0,\"ticks\":\"\"}},\"type\":\"scatterternary\"}],\"surface\":[{\"colorbar\":{\"outlinewidth\":0,\"ticks\":\"\"},\"colorscale\":[[0.0,\"#0d0887\"],[0.1111111111111111,\"#46039f\"],[0.2222222222222222,\"#7201a8\"],[0.3333333333333333,\"#9c179e\"],[0.4444444444444444,\"#bd3786\"],[0.5555555555555556,\"#d8576b\"],[0.6666666666666666,\"#ed7953\"],[0.7777777777777778,\"#fb9f3a\"],[0.8888888888888888,\"#fdca26\"],[1.0,\"#f0f921\"]],\"type\":\"surface\"}],\"table\":[{\"cells\":{\"fill\":{\"color\":\"#EBF0F8\"},\"line\":{\"color\":\"white\"}},\"header\":{\"fill\":{\"color\":\"#C8D4E3\"},\"line\":{\"color\":\"white\"}},\"type\":\"table\"}]},\"layout\":{\"annotationdefaults\":{\"arrowcolor\":\"#2a3f5f\",\"arrowhead\":0,\"arrowwidth\":1},\"autotypenumbers\":\"strict\",\"coloraxis\":{\"colorbar\":{\"outlinewidth\":0,\"ticks\":\"\"}},\"colorscale\":{\"diverging\":[[0,\"#8e0152\"],[0.1,\"#c51b7d\"],[0.2,\"#de77ae\"],[0.3,\"#f1b6da\"],[0.4,\"#fde0ef\"],[0.5,\"#f7f7f7\"],[0.6,\"#e6f5d0\"],[0.7,\"#b8e186\"],[0.8,\"#7fbc41\"],[0.9,\"#4d9221\"],[1,\"#276419\"]],\"sequential\":[[0.0,\"#0d0887\"],[0.1111111111111111,\"#46039f\"],[0.2222222222222222,\"#7201a8\"],[0.3333333333333333,\"#9c179e\"],[0.4444444444444444,\"#bd3786\"],[0.5555555555555556,\"#d8576b\"],[0.6666666666666666,\"#ed7953\"],[0.7777777777777778,\"#fb9f3a\"],[0.8888888888888888,\"#fdca26\"],[1.0,\"#f0f921\"]],\"sequentialminus\":[[0.0,\"#0d0887\"],[0.1111111111111111,\"#46039f\"],[0.2222222222222222,\"#7201a8\"],[0.3333333333333333,\"#9c179e\"],[0.4444444444444444,\"#bd3786\"],[0.5555555555555556,\"#d8576b\"],[0.6666666666666666,\"#ed7953\"],[0.7777777777777778,\"#fb9f3a\"],[0.8888888888888888,\"#fdca26\"],[1.0,\"#f0f921\"]]},\"colorway\":[\"#636efa\",\"#EF553B\",\"#00cc96\",\"#ab63fa\",\"#FFA15A\",\"#19d3f3\",\"#FF6692\",\"#B6E880\",\"#FF97FF\",\"#FECB52\"],\"font\":{\"color\":\"#2a3f5f\"},\"geo\":{\"bgcolor\":\"white\",\"lakecolor\":\"white\",\"landcolor\":\"#E5ECF6\",\"showlakes\":true,\"showland\":true,\"subunitcolor\":\"white\"},\"hoverlabel\":{\"align\":\"left\"},\"hovermode\":\"closest\",\"mapbox\":{\"style\":\"light\"},\"paper_bgcolor\":\"white\",\"plot_bgcolor\":\"#E5ECF6\",\"polar\":{\"angularaxis\":{\"gridcolor\":\"white\",\"linecolor\":\"white\",\"ticks\":\"\"},\"bgcolor\":\"#E5ECF6\",\"radialaxis\":{\"gridcolor\":\"white\",\"linecolor\":\"white\",\"ticks\":\"\"}},\"scene\":{\"xaxis\":{\"backgroundcolor\":\"#E5ECF6\",\"gridcolor\":\"white\",\"gridwidth\":2,\"linecolor\":\"white\",\"showbackground\":true,\"ticks\":\"\",\"zerolinecolor\":\"white\"},\"yaxis\":{\"backgroundcolor\":\"#E5ECF6\",\"gridcolor\":\"white\",\"gridwidth\":2,\"linecolor\":\"white\",\"showbackground\":true,\"ticks\":\"\",\"zerolinecolor\":\"white\"},\"zaxis\":{\"backgroundcolor\":\"#E5ECF6\",\"gridcolor\":\"white\",\"gridwidth\":2,\"linecolor\":\"white\",\"showbackground\":true,\"ticks\":\"\",\"zerolinecolor\":\"white\"}},\"shapedefaults\":{\"line\":{\"color\":\"#2a3f5f\"}},\"ternary\":{\"aaxis\":{\"gridcolor\":\"white\",\"linecolor\":\"white\",\"ticks\":\"\"},\"baxis\":{\"gridcolor\":\"white\",\"linecolor\":\"white\",\"ticks\":\"\"},\"bgcolor\":\"#E5ECF6\",\"caxis\":{\"gridcolor\":\"white\",\"linecolor\":\"white\",\"ticks\":\"\"}},\"title\":{\"x\":0.05},\"xaxis\":{\"automargin\":true,\"gridcolor\":\"white\",\"linecolor\":\"white\",\"ticks\":\"\",\"title\":{\"standoff\":15},\"zerolinecolor\":\"white\",\"zerolinewidth\":2},\"yaxis\":{\"automargin\":true,\"gridcolor\":\"white\",\"linecolor\":\"white\",\"ticks\":\"\",\"title\":{\"standoff\":15},\"zerolinecolor\":\"white\",\"zerolinewidth\":2}}},\"title\":{\"font\":{\"color\":\"#4D5663\"},\"text\":\"Total quantities and revenues by country, except UK\"},\"xaxis\":{\"gridcolor\":\"#E1E5ED\",\"showgrid\":true,\"tickfont\":{\"color\":\"#4D5663\"},\"title\":{\"font\":{\"color\":\"#4D5663\"},\"text\":\"Country\"},\"zerolinecolor\":\"#E1E5ED\"},\"yaxis\":{\"gridcolor\":\"#E1E5ED\",\"showgrid\":true,\"tickfont\":{\"color\":\"#4D5663\"},\"title\":{\"font\":{\"color\":\"#4D5663\"},\"text\":\"\"},\"zerolinecolor\":\"#E1E5ED\"}},                        {\"showLink\": true, \"linkText\": \"Export to plot.ly\", \"plotlyServerURL\": \"https://plot.ly\", \"responsive\": true}                    ).then(function(){\n",
       "                            \n",
       "var gd = document.getElementById('01d3ca4a-359d-4a77-a567-1dfeef06c4c9');\n",
       "var x = new MutationObserver(function (mutations, observer) {{\n",
       "        var display = window.getComputedStyle(gd).display;\n",
       "        if (!display || display === 'none') {{\n",
       "            console.log([gd, 'removed!']);\n",
       "            Plotly.purge(gd);\n",
       "            observer.disconnect();\n",
       "        }}\n",
       "}});\n",
       "\n",
       "// Listen for the removal of the full notebook cells\n",
       "var notebookContainer = gd.closest('#notebook-container');\n",
       "if (notebookContainer) {{\n",
       "    x.observe(notebookContainer, {childList: true});\n",
       "}}\n",
       "\n",
       "// Listen for the clearing of the current output cell\n",
       "var outputEl = gd.closest('.output');\n",
       "if (outputEl) {{\n",
       "    x.observe(outputEl, {childList: true});\n",
       "}}\n",
       "\n",
       "                        })                };                });            </script>        </div>"
      ]
     },
     "metadata": {},
     "output_type": "display_data"
    }
   ],
   "source": [
    "df_wo_uk.iplot(kind='bar', xTitle='Country', title='Total quantities and revenues by country, except UK')"
   ]
  },
  {
   "cell_type": "markdown",
   "metadata": {},
   "source": [
    "## 2. Create an interactive line chart showing quantity and revenue sold to France between January 1st and May 31st 2011."
   ]
  },
  {
   "cell_type": "code",
   "execution_count": 107,
   "metadata": {},
   "outputs": [
    {
     "data": {
      "text/html": [
       "<div>\n",
       "<style scoped>\n",
       "    .dataframe tbody tr th:only-of-type {\n",
       "        vertical-align: middle;\n",
       "    }\n",
       "\n",
       "    .dataframe tbody tr th {\n",
       "        vertical-align: top;\n",
       "    }\n",
       "\n",
       "    .dataframe thead th {\n",
       "        text-align: right;\n",
       "    }\n",
       "</style>\n",
       "<table border=\"1\" class=\"dataframe\">\n",
       "  <thead>\n",
       "    <tr style=\"text-align: right;\">\n",
       "      <th></th>\n",
       "      <th>InvoiceNo</th>\n",
       "      <th>InvoiceDate</th>\n",
       "      <th>StockCode</th>\n",
       "      <th>Description</th>\n",
       "      <th>Quantity</th>\n",
       "      <th>UnitPrice</th>\n",
       "      <th>Revenue</th>\n",
       "      <th>CustomerID</th>\n",
       "      <th>Country</th>\n",
       "    </tr>\n",
       "  </thead>\n",
       "  <tbody>\n",
       "    <tr>\n",
       "      <th>807</th>\n",
       "      <td>551163</td>\n",
       "      <td>2011-04-26 15:52:00</td>\n",
       "      <td>85123A</td>\n",
       "      <td>CREAM HANGING HEART T-LIGHT HOLDER</td>\n",
       "      <td>9</td>\n",
       "      <td>2.95</td>\n",
       "      <td>26.55</td>\n",
       "      <td>12573</td>\n",
       "      <td>France</td>\n",
       "    </tr>\n",
       "    <tr>\n",
       "      <th>2645</th>\n",
       "      <td>540976</td>\n",
       "      <td>2011-01-12 15:00:00</td>\n",
       "      <td>84029G</td>\n",
       "      <td>KNITTED UNION FLAG HOT WATER BOTTLE</td>\n",
       "      <td>4</td>\n",
       "      <td>3.75</td>\n",
       "      <td>15.00</td>\n",
       "      <td>12652</td>\n",
       "      <td>France</td>\n",
       "    </tr>\n",
       "    <tr>\n",
       "      <th>3290</th>\n",
       "      <td>545181</td>\n",
       "      <td>2011-02-28 14:45:00</td>\n",
       "      <td>22752</td>\n",
       "      <td>SET 7 BABUSHKA NESTING BOXES</td>\n",
       "      <td>4</td>\n",
       "      <td>8.50</td>\n",
       "      <td>34.00</td>\n",
       "      <td>12509</td>\n",
       "      <td>France</td>\n",
       "    </tr>\n",
       "    <tr>\n",
       "      <th>4614</th>\n",
       "      <td>542629</td>\n",
       "      <td>2011-01-31 09:57:00</td>\n",
       "      <td>84879</td>\n",
       "      <td>ASSORTED COLOUR BIRD ORNAMENT</td>\n",
       "      <td>160</td>\n",
       "      <td>1.45</td>\n",
       "      <td>232.00</td>\n",
       "      <td>12731</td>\n",
       "      <td>France</td>\n",
       "    </tr>\n",
       "    <tr>\n",
       "      <th>4795</th>\n",
       "      <td>548409</td>\n",
       "      <td>2011-03-31 10:27:00</td>\n",
       "      <td>84879</td>\n",
       "      <td>ASSORTED COLOUR BIRD ORNAMENT</td>\n",
       "      <td>160</td>\n",
       "      <td>1.45</td>\n",
       "      <td>232.00</td>\n",
       "      <td>12731</td>\n",
       "      <td>France</td>\n",
       "    </tr>\n",
       "  </tbody>\n",
       "</table>\n",
       "</div>"
      ],
      "text/plain": [
       "      InvoiceNo         InvoiceDate StockCode  \\\n",
       "807      551163 2011-04-26 15:52:00    85123A   \n",
       "2645     540976 2011-01-12 15:00:00    84029G   \n",
       "3290     545181 2011-02-28 14:45:00     22752   \n",
       "4614     542629 2011-01-31 09:57:00     84879   \n",
       "4795     548409 2011-03-31 10:27:00     84879   \n",
       "\n",
       "                              Description  Quantity  UnitPrice  Revenue  \\\n",
       "807    CREAM HANGING HEART T-LIGHT HOLDER         9       2.95    26.55   \n",
       "2645  KNITTED UNION FLAG HOT WATER BOTTLE         4       3.75    15.00   \n",
       "3290         SET 7 BABUSHKA NESTING BOXES         4       8.50    34.00   \n",
       "4614        ASSORTED COLOUR BIRD ORNAMENT       160       1.45   232.00   \n",
       "4795        ASSORTED COLOUR BIRD ORNAMENT       160       1.45   232.00   \n",
       "\n",
       "      CustomerID Country  \n",
       "807        12573  France  \n",
       "2645       12652  France  \n",
       "3290       12509  France  \n",
       "4614       12731  France  \n",
       "4795       12731  France  "
      ]
     },
     "execution_count": 107,
     "metadata": {},
     "output_type": "execute_result"
    }
   ],
   "source": [
    "df_france_2011 = df[(df['Country'] == 'France') & (df['InvoiceDate'] >= '2011-01-01') &  (df['InvoiceDate'] < '2011-06-01')]\n",
    "df_france_2011.head()"
   ]
  },
  {
   "cell_type": "code",
   "execution_count": 121,
   "metadata": {},
   "outputs": [
    {
     "data": {
      "text/html": [
       "<div>\n",
       "<style scoped>\n",
       "    .dataframe tbody tr th:only-of-type {\n",
       "        vertical-align: middle;\n",
       "    }\n",
       "\n",
       "    .dataframe tbody tr th {\n",
       "        vertical-align: top;\n",
       "    }\n",
       "\n",
       "    .dataframe thead th {\n",
       "        text-align: right;\n",
       "    }\n",
       "</style>\n",
       "<table border=\"1\" class=\"dataframe\">\n",
       "  <thead>\n",
       "    <tr style=\"text-align: right;\">\n",
       "      <th></th>\n",
       "      <th>Quantity</th>\n",
       "      <th>Revenue</th>\n",
       "    </tr>\n",
       "    <tr>\n",
       "      <th>InvoiceDate</th>\n",
       "      <th></th>\n",
       "      <th></th>\n",
       "    </tr>\n",
       "  </thead>\n",
       "  <tbody>\n",
       "    <tr>\n",
       "      <th>2011-01-05 12:42:00</th>\n",
       "      <td>359</td>\n",
       "      <td>502.07</td>\n",
       "    </tr>\n",
       "    <tr>\n",
       "      <th>2011-01-05 14:48:00</th>\n",
       "      <td>369</td>\n",
       "      <td>763.11</td>\n",
       "    </tr>\n",
       "    <tr>\n",
       "      <th>2011-01-06 14:26:00</th>\n",
       "      <td>261</td>\n",
       "      <td>283.77</td>\n",
       "    </tr>\n",
       "    <tr>\n",
       "      <th>2011-01-06 16:12:00</th>\n",
       "      <td>177</td>\n",
       "      <td>425.25</td>\n",
       "    </tr>\n",
       "    <tr>\n",
       "      <th>2011-01-07 12:07:00</th>\n",
       "      <td>488</td>\n",
       "      <td>676.16</td>\n",
       "    </tr>\n",
       "    <tr>\n",
       "      <th>...</th>\n",
       "      <td>...</td>\n",
       "      <td>...</td>\n",
       "    </tr>\n",
       "    <tr>\n",
       "      <th>2011-05-25 12:54:00</th>\n",
       "      <td>374</td>\n",
       "      <td>514.74</td>\n",
       "    </tr>\n",
       "    <tr>\n",
       "      <th>2011-05-26 14:53:00</th>\n",
       "      <td>86</td>\n",
       "      <td>196.50</td>\n",
       "    </tr>\n",
       "    <tr>\n",
       "      <th>2011-05-26 17:16:00</th>\n",
       "      <td>424</td>\n",
       "      <td>362.00</td>\n",
       "    </tr>\n",
       "    <tr>\n",
       "      <th>2011-05-27 13:49:00</th>\n",
       "      <td>155</td>\n",
       "      <td>367.09</td>\n",
       "    </tr>\n",
       "    <tr>\n",
       "      <th>2011-05-31 13:32:00</th>\n",
       "      <td>200</td>\n",
       "      <td>404.84</td>\n",
       "    </tr>\n",
       "  </tbody>\n",
       "</table>\n",
       "<p>124 rows × 2 columns</p>\n",
       "</div>"
      ],
      "text/plain": [
       "                     Quantity  Revenue\n",
       "InvoiceDate                           \n",
       "2011-01-05 12:42:00       359   502.07\n",
       "2011-01-05 14:48:00       369   763.11\n",
       "2011-01-06 14:26:00       261   283.77\n",
       "2011-01-06 16:12:00       177   425.25\n",
       "2011-01-07 12:07:00       488   676.16\n",
       "...                       ...      ...\n",
       "2011-05-25 12:54:00       374   514.74\n",
       "2011-05-26 14:53:00        86   196.50\n",
       "2011-05-26 17:16:00       424   362.00\n",
       "2011-05-27 13:49:00       155   367.09\n",
       "2011-05-31 13:32:00       200   404.84\n",
       "\n",
       "[124 rows x 2 columns]"
      ]
     },
     "execution_count": 121,
     "metadata": {},
     "output_type": "execute_result"
    }
   ],
   "source": [
    "dfrance = df_france_2011.groupby('InvoiceDate')[['Quantity','Revenue']].sum()\n",
    "dfrance"
   ]
  },
  {
   "cell_type": "code",
   "execution_count": 122,
   "metadata": {
    "scrolled": true
   },
   "outputs": [
    {
     "data": {
      "application/vnd.plotly.v1+json": {
       "config": {
        "linkText": "Export to plot.ly",
        "plotlyServerURL": "https://plot.ly",
        "showLink": true
       },
       "data": [
        {
         "line": {
          "color": "rgba(255, 153, 51, 1.0)",
          "dash": "solid",
          "shape": "linear",
          "width": 1.3
         },
         "mode": "lines",
         "name": "Quantity",
         "text": "",
         "type": "scatter",
         "x": [
          "2011-01-05 12:42:00",
          "2011-01-05 14:48:00",
          "2011-01-06 14:26:00",
          "2011-01-06 16:12:00",
          "2011-01-07 12:07:00",
          "2011-01-07 13:13:00",
          "2011-01-09 12:46:00",
          "2011-01-10 13:22:00",
          "2011-01-11 07:57:00",
          "2011-01-11 11:48:00",
          "2011-01-11 13:31:00",
          "2011-01-11 15:00:00",
          "2011-01-12 09:43:00",
          "2011-01-12 14:13:00",
          "2011-01-12 15:00:00",
          "2011-01-14 09:13:00",
          "2011-01-14 09:20:00",
          "2011-01-14 10:42:00",
          "2011-01-17 15:17:00",
          "2011-01-19 11:51:00",
          "2011-01-20 10:47:00",
          "2011-01-20 10:48:00",
          "2011-01-23 15:17:00",
          "2011-01-24 15:32:00",
          "2011-01-28 09:20:00",
          "2011-01-28 10:45:00",
          "2011-01-28 13:37:00",
          "2011-01-31 09:57:00",
          "2011-01-31 15:36:00",
          "2011-02-01 14:58:00",
          "2011-02-02 09:06:00",
          "2011-02-02 15:22:00",
          "2011-02-04 11:45:00",
          "2011-02-08 13:28:00",
          "2011-02-09 10:11:00",
          "2011-02-10 15:38:00",
          "2011-02-15 14:17:00",
          "2011-02-16 11:45:00",
          "2011-02-17 10:08:00",
          "2011-02-18 10:53:00",
          "2011-02-18 15:23:00",
          "2011-02-21 08:38:00",
          "2011-02-21 14:58:00",
          "2011-02-23 16:44:00",
          "2011-02-23 16:45:00",
          "2011-02-27 11:58:00",
          "2011-02-28 11:43:00",
          "2011-02-28 11:58:00",
          "2011-02-28 14:42:00",
          "2011-02-28 14:45:00",
          "2011-03-01 10:31:00",
          "2011-03-01 12:26:00",
          "2011-03-03 12:06:00",
          "2011-03-03 12:20:00",
          "2011-03-04 09:08:00",
          "2011-03-11 12:00:00",
          "2011-03-13 14:55:00",
          "2011-03-14 11:38:00",
          "2011-03-15 16:39:00",
          "2011-03-16 14:37:00",
          "2011-03-16 15:17:00",
          "2011-03-20 15:58:00",
          "2011-03-21 12:42:00",
          "2011-03-21 12:44:00",
          "2011-03-22 11:28:00",
          "2011-03-23 12:06:00",
          "2011-03-23 13:33:00",
          "2011-03-23 13:39:00",
          "2011-03-23 14:55:00",
          "2011-03-25 10:19:00",
          "2011-03-27 13:07:00",
          "2011-03-28 10:15:00",
          "2011-03-31 10:27:00",
          "2011-03-31 10:29:00",
          "2011-03-31 13:40:00",
          "2011-04-01 09:19:00",
          "2011-04-01 11:10:00",
          "2011-04-04 11:18:00",
          "2011-04-07 13:07:00",
          "2011-04-14 14:15:00",
          "2011-04-17 11:21:00",
          "2011-04-17 15:33:00",
          "2011-04-20 09:20:00",
          "2011-04-21 08:54:00",
          "2011-04-21 10:16:00",
          "2011-04-26 15:52:00",
          "2011-04-28 11:45:00",
          "2011-05-03 08:40:00",
          "2011-05-03 09:33:00",
          "2011-05-03 09:34:00",
          "2011-05-03 12:02:00",
          "2011-05-03 12:03:00",
          "2011-05-05 09:29:00",
          "2011-05-08 16:10:00",
          "2011-05-09 09:47:00",
          "2011-05-09 15:12:00",
          "2011-05-10 12:55:00",
          "2011-05-11 13:20:00",
          "2011-05-11 15:07:00",
          "2011-05-12 11:50:00",
          "2011-05-13 09:24:00",
          "2011-05-13 13:15:00",
          "2011-05-13 15:48:00",
          "2011-05-15 13:45:00",
          "2011-05-16 09:10:00",
          "2011-05-16 12:04:00",
          "2011-05-17 09:28:00",
          "2011-05-18 09:09:00",
          "2011-05-18 10:34:00",
          "2011-05-18 12:18:00",
          "2011-05-19 12:10:00",
          "2011-05-19 12:29:00",
          "2011-05-20 11:34:00",
          "2011-05-22 13:01:00",
          "2011-05-22 14:33:00",
          "2011-05-23 09:48:00",
          "2011-05-24 09:25:00",
          "2011-05-25 10:08:00",
          "2011-05-25 12:44:00",
          "2011-05-25 12:54:00",
          "2011-05-26 14:53:00",
          "2011-05-26 17:16:00",
          "2011-05-27 13:49:00",
          "2011-05-31 13:32:00"
         ],
         "y": [
          359,
          369,
          261,
          177,
          488,
          103,
          78,
          628,
          168,
          576,
          120,
          114,
          43,
          131,
          498,
          543,
          78,
          440,
          263,
          383,
          211,
          491,
          120,
          84,
          59,
          406,
          102,
          1617,
          202,
          197,
          159,
          206,
          611,
          214,
          298,
          452,
          96,
          772,
          114,
          748,
          15,
          256,
          77,
          264,
          96,
          70,
          213,
          310,
          72,
          54,
          245,
          329,
          314,
          24,
          123,
          323,
          183,
          184,
          314,
          97,
          62,
          422,
          85,
          5,
          198,
          136,
          713,
          242,
          130,
          261,
          59,
          842,
          946,
          132,
          2271,
          88,
          240,
          293,
          236,
          284,
          375,
          25,
          196,
          23,
          275,
          84,
          146,
          368,
          350,
          6,
          120,
          192,
          98,
          773,
          162,
          332,
          458,
          859,
          734,
          105,
          202,
          33,
          267,
          140,
          220,
          58,
          476,
          103,
          152,
          72,
          434,
          126,
          464,
          229,
          62,
          304,
          208,
          180,
          180,
          374,
          86,
          424,
          155,
          200
         ]
        },
        {
         "line": {
          "color": "rgba(55, 128, 191, 1.0)",
          "dash": "solid",
          "shape": "linear",
          "width": 1.3
         },
         "mode": "lines",
         "name": "Revenue",
         "text": "",
         "type": "scatter",
         "x": [
          "2011-01-05 12:42:00",
          "2011-01-05 14:48:00",
          "2011-01-06 14:26:00",
          "2011-01-06 16:12:00",
          "2011-01-07 12:07:00",
          "2011-01-07 13:13:00",
          "2011-01-09 12:46:00",
          "2011-01-10 13:22:00",
          "2011-01-11 07:57:00",
          "2011-01-11 11:48:00",
          "2011-01-11 13:31:00",
          "2011-01-11 15:00:00",
          "2011-01-12 09:43:00",
          "2011-01-12 14:13:00",
          "2011-01-12 15:00:00",
          "2011-01-14 09:13:00",
          "2011-01-14 09:20:00",
          "2011-01-14 10:42:00",
          "2011-01-17 15:17:00",
          "2011-01-19 11:51:00",
          "2011-01-20 10:47:00",
          "2011-01-20 10:48:00",
          "2011-01-23 15:17:00",
          "2011-01-24 15:32:00",
          "2011-01-28 09:20:00",
          "2011-01-28 10:45:00",
          "2011-01-28 13:37:00",
          "2011-01-31 09:57:00",
          "2011-01-31 15:36:00",
          "2011-02-01 14:58:00",
          "2011-02-02 09:06:00",
          "2011-02-02 15:22:00",
          "2011-02-04 11:45:00",
          "2011-02-08 13:28:00",
          "2011-02-09 10:11:00",
          "2011-02-10 15:38:00",
          "2011-02-15 14:17:00",
          "2011-02-16 11:45:00",
          "2011-02-17 10:08:00",
          "2011-02-18 10:53:00",
          "2011-02-18 15:23:00",
          "2011-02-21 08:38:00",
          "2011-02-21 14:58:00",
          "2011-02-23 16:44:00",
          "2011-02-23 16:45:00",
          "2011-02-27 11:58:00",
          "2011-02-28 11:43:00",
          "2011-02-28 11:58:00",
          "2011-02-28 14:42:00",
          "2011-02-28 14:45:00",
          "2011-03-01 10:31:00",
          "2011-03-01 12:26:00",
          "2011-03-03 12:06:00",
          "2011-03-03 12:20:00",
          "2011-03-04 09:08:00",
          "2011-03-11 12:00:00",
          "2011-03-13 14:55:00",
          "2011-03-14 11:38:00",
          "2011-03-15 16:39:00",
          "2011-03-16 14:37:00",
          "2011-03-16 15:17:00",
          "2011-03-20 15:58:00",
          "2011-03-21 12:42:00",
          "2011-03-21 12:44:00",
          "2011-03-22 11:28:00",
          "2011-03-23 12:06:00",
          "2011-03-23 13:33:00",
          "2011-03-23 13:39:00",
          "2011-03-23 14:55:00",
          "2011-03-25 10:19:00",
          "2011-03-27 13:07:00",
          "2011-03-28 10:15:00",
          "2011-03-31 10:27:00",
          "2011-03-31 10:29:00",
          "2011-03-31 13:40:00",
          "2011-04-01 09:19:00",
          "2011-04-01 11:10:00",
          "2011-04-04 11:18:00",
          "2011-04-07 13:07:00",
          "2011-04-14 14:15:00",
          "2011-04-17 11:21:00",
          "2011-04-17 15:33:00",
          "2011-04-20 09:20:00",
          "2011-04-21 08:54:00",
          "2011-04-21 10:16:00",
          "2011-04-26 15:52:00",
          "2011-04-28 11:45:00",
          "2011-05-03 08:40:00",
          "2011-05-03 09:33:00",
          "2011-05-03 09:34:00",
          "2011-05-03 12:02:00",
          "2011-05-03 12:03:00",
          "2011-05-05 09:29:00",
          "2011-05-08 16:10:00",
          "2011-05-09 09:47:00",
          "2011-05-09 15:12:00",
          "2011-05-10 12:55:00",
          "2011-05-11 13:20:00",
          "2011-05-11 15:07:00",
          "2011-05-12 11:50:00",
          "2011-05-13 09:24:00",
          "2011-05-13 13:15:00",
          "2011-05-13 15:48:00",
          "2011-05-15 13:45:00",
          "2011-05-16 09:10:00",
          "2011-05-16 12:04:00",
          "2011-05-17 09:28:00",
          "2011-05-18 09:09:00",
          "2011-05-18 10:34:00",
          "2011-05-18 12:18:00",
          "2011-05-19 12:10:00",
          "2011-05-19 12:29:00",
          "2011-05-20 11:34:00",
          "2011-05-22 13:01:00",
          "2011-05-22 14:33:00",
          "2011-05-23 09:48:00",
          "2011-05-24 09:25:00",
          "2011-05-25 10:08:00",
          "2011-05-25 12:44:00",
          "2011-05-25 12:54:00",
          "2011-05-26 14:53:00",
          "2011-05-26 17:16:00",
          "2011-05-27 13:49:00",
          "2011-05-31 13:32:00"
         ],
         "y": [
          502.07,
          763.11,
          283.77,
          425.25,
          676.16,
          298.93,
          114,
          1112.06,
          144,
          835.1999999999999,
          216.54,
          136.9,
          102.94999999999999,
          338.7,
          793.98,
          774.22,
          225.9,
          592.31,
          642.14,
          698.75,
          581.55,
          827.13,
          406.5,
          190.2,
          182.45,
          365.58,
          405.8,
          3174.43,
          363.54,
          456.84999999999997,
          454.89,
          132.5,
          1128.73,
          165.85999999999999,
          401.02,
          285.56,
          219.6,
          829.66,
          214,
          878.3,
          6.3,
          603.42,
          125.4,
          308,
          95.76,
          92.6,
          335.43,
          612.86,
          182.72,
          158.5,
          316.2,
          722.06,
          480.76000000000005,
          20.4,
          281.25,
          676.8499999999999,
          307.28999999999996,
          425.40000000000003,
          511.53999999999996,
          129.70999999999998,
          115.09,
          298.02,
          201.24,
          4.63,
          469.98,
          160.5,
          733.88,
          378,
          402.9,
          303.91,
          128.05,
          1028.3,
          1937.06,
          413.4,
          3243.13,
          138.75,
          252,
          513.55,
          312.2,
          615.2,
          509.57,
          84.65,
          469.20000000000005,
          73.5,
          579.05,
          160.54000000000002,
          191.10000000000002,
          528.88,
          620.84,
          24.9,
          162.48000000000002,
          336.24,
          200,
          984.4300000000001,
          295.5,
          205.4,
          453.09999999999997,
          1637.43,
          1381.3,
          278.53000000000003,
          459.98,
          89.25,
          397.28000000000003,
          133.4,
          550.74,
          121.88,
          739.62,
          335.01,
          332.20000000000005,
          76.32000000000001,
          561.66,
          316.85,
          956.4,
          615.21,
          169.5,
          385.96,
          357.34,
          231.12,
          390.96,
          514.74,
          196.5,
          362,
          367.09,
          404.84000000000003
         ]
        }
       ],
       "layout": {
        "legend": {
         "bgcolor": "#F5F6F9",
         "font": {
          "color": "#4D5663"
         }
        },
        "paper_bgcolor": "#F5F6F9",
        "plot_bgcolor": "#F5F6F9",
        "template": {
         "data": {
          "bar": [
           {
            "error_x": {
             "color": "#2a3f5f"
            },
            "error_y": {
             "color": "#2a3f5f"
            },
            "marker": {
             "line": {
              "color": "#E5ECF6",
              "width": 0.5
             },
             "pattern": {
              "fillmode": "overlay",
              "size": 10,
              "solidity": 0.2
             }
            },
            "type": "bar"
           }
          ],
          "barpolar": [
           {
            "marker": {
             "line": {
              "color": "#E5ECF6",
              "width": 0.5
             },
             "pattern": {
              "fillmode": "overlay",
              "size": 10,
              "solidity": 0.2
             }
            },
            "type": "barpolar"
           }
          ],
          "carpet": [
           {
            "aaxis": {
             "endlinecolor": "#2a3f5f",
             "gridcolor": "white",
             "linecolor": "white",
             "minorgridcolor": "white",
             "startlinecolor": "#2a3f5f"
            },
            "baxis": {
             "endlinecolor": "#2a3f5f",
             "gridcolor": "white",
             "linecolor": "white",
             "minorgridcolor": "white",
             "startlinecolor": "#2a3f5f"
            },
            "type": "carpet"
           }
          ],
          "choropleth": [
           {
            "colorbar": {
             "outlinewidth": 0,
             "ticks": ""
            },
            "type": "choropleth"
           }
          ],
          "contour": [
           {
            "colorbar": {
             "outlinewidth": 0,
             "ticks": ""
            },
            "colorscale": [
             [
              0,
              "#0d0887"
             ],
             [
              0.1111111111111111,
              "#46039f"
             ],
             [
              0.2222222222222222,
              "#7201a8"
             ],
             [
              0.3333333333333333,
              "#9c179e"
             ],
             [
              0.4444444444444444,
              "#bd3786"
             ],
             [
              0.5555555555555556,
              "#d8576b"
             ],
             [
              0.6666666666666666,
              "#ed7953"
             ],
             [
              0.7777777777777778,
              "#fb9f3a"
             ],
             [
              0.8888888888888888,
              "#fdca26"
             ],
             [
              1,
              "#f0f921"
             ]
            ],
            "type": "contour"
           }
          ],
          "contourcarpet": [
           {
            "colorbar": {
             "outlinewidth": 0,
             "ticks": ""
            },
            "type": "contourcarpet"
           }
          ],
          "heatmap": [
           {
            "colorbar": {
             "outlinewidth": 0,
             "ticks": ""
            },
            "colorscale": [
             [
              0,
              "#0d0887"
             ],
             [
              0.1111111111111111,
              "#46039f"
             ],
             [
              0.2222222222222222,
              "#7201a8"
             ],
             [
              0.3333333333333333,
              "#9c179e"
             ],
             [
              0.4444444444444444,
              "#bd3786"
             ],
             [
              0.5555555555555556,
              "#d8576b"
             ],
             [
              0.6666666666666666,
              "#ed7953"
             ],
             [
              0.7777777777777778,
              "#fb9f3a"
             ],
             [
              0.8888888888888888,
              "#fdca26"
             ],
             [
              1,
              "#f0f921"
             ]
            ],
            "type": "heatmap"
           }
          ],
          "heatmapgl": [
           {
            "colorbar": {
             "outlinewidth": 0,
             "ticks": ""
            },
            "colorscale": [
             [
              0,
              "#0d0887"
             ],
             [
              0.1111111111111111,
              "#46039f"
             ],
             [
              0.2222222222222222,
              "#7201a8"
             ],
             [
              0.3333333333333333,
              "#9c179e"
             ],
             [
              0.4444444444444444,
              "#bd3786"
             ],
             [
              0.5555555555555556,
              "#d8576b"
             ],
             [
              0.6666666666666666,
              "#ed7953"
             ],
             [
              0.7777777777777778,
              "#fb9f3a"
             ],
             [
              0.8888888888888888,
              "#fdca26"
             ],
             [
              1,
              "#f0f921"
             ]
            ],
            "type": "heatmapgl"
           }
          ],
          "histogram": [
           {
            "marker": {
             "pattern": {
              "fillmode": "overlay",
              "size": 10,
              "solidity": 0.2
             }
            },
            "type": "histogram"
           }
          ],
          "histogram2d": [
           {
            "colorbar": {
             "outlinewidth": 0,
             "ticks": ""
            },
            "colorscale": [
             [
              0,
              "#0d0887"
             ],
             [
              0.1111111111111111,
              "#46039f"
             ],
             [
              0.2222222222222222,
              "#7201a8"
             ],
             [
              0.3333333333333333,
              "#9c179e"
             ],
             [
              0.4444444444444444,
              "#bd3786"
             ],
             [
              0.5555555555555556,
              "#d8576b"
             ],
             [
              0.6666666666666666,
              "#ed7953"
             ],
             [
              0.7777777777777778,
              "#fb9f3a"
             ],
             [
              0.8888888888888888,
              "#fdca26"
             ],
             [
              1,
              "#f0f921"
             ]
            ],
            "type": "histogram2d"
           }
          ],
          "histogram2dcontour": [
           {
            "colorbar": {
             "outlinewidth": 0,
             "ticks": ""
            },
            "colorscale": [
             [
              0,
              "#0d0887"
             ],
             [
              0.1111111111111111,
              "#46039f"
             ],
             [
              0.2222222222222222,
              "#7201a8"
             ],
             [
              0.3333333333333333,
              "#9c179e"
             ],
             [
              0.4444444444444444,
              "#bd3786"
             ],
             [
              0.5555555555555556,
              "#d8576b"
             ],
             [
              0.6666666666666666,
              "#ed7953"
             ],
             [
              0.7777777777777778,
              "#fb9f3a"
             ],
             [
              0.8888888888888888,
              "#fdca26"
             ],
             [
              1,
              "#f0f921"
             ]
            ],
            "type": "histogram2dcontour"
           }
          ],
          "mesh3d": [
           {
            "colorbar": {
             "outlinewidth": 0,
             "ticks": ""
            },
            "type": "mesh3d"
           }
          ],
          "parcoords": [
           {
            "line": {
             "colorbar": {
              "outlinewidth": 0,
              "ticks": ""
             }
            },
            "type": "parcoords"
           }
          ],
          "pie": [
           {
            "automargin": true,
            "type": "pie"
           }
          ],
          "scatter": [
           {
            "fillpattern": {
             "fillmode": "overlay",
             "size": 10,
             "solidity": 0.2
            },
            "type": "scatter"
           }
          ],
          "scatter3d": [
           {
            "line": {
             "colorbar": {
              "outlinewidth": 0,
              "ticks": ""
             }
            },
            "marker": {
             "colorbar": {
              "outlinewidth": 0,
              "ticks": ""
             }
            },
            "type": "scatter3d"
           }
          ],
          "scattercarpet": [
           {
            "marker": {
             "colorbar": {
              "outlinewidth": 0,
              "ticks": ""
             }
            },
            "type": "scattercarpet"
           }
          ],
          "scattergeo": [
           {
            "marker": {
             "colorbar": {
              "outlinewidth": 0,
              "ticks": ""
             }
            },
            "type": "scattergeo"
           }
          ],
          "scattergl": [
           {
            "marker": {
             "colorbar": {
              "outlinewidth": 0,
              "ticks": ""
             }
            },
            "type": "scattergl"
           }
          ],
          "scattermapbox": [
           {
            "marker": {
             "colorbar": {
              "outlinewidth": 0,
              "ticks": ""
             }
            },
            "type": "scattermapbox"
           }
          ],
          "scatterpolar": [
           {
            "marker": {
             "colorbar": {
              "outlinewidth": 0,
              "ticks": ""
             }
            },
            "type": "scatterpolar"
           }
          ],
          "scatterpolargl": [
           {
            "marker": {
             "colorbar": {
              "outlinewidth": 0,
              "ticks": ""
             }
            },
            "type": "scatterpolargl"
           }
          ],
          "scatterternary": [
           {
            "marker": {
             "colorbar": {
              "outlinewidth": 0,
              "ticks": ""
             }
            },
            "type": "scatterternary"
           }
          ],
          "surface": [
           {
            "colorbar": {
             "outlinewidth": 0,
             "ticks": ""
            },
            "colorscale": [
             [
              0,
              "#0d0887"
             ],
             [
              0.1111111111111111,
              "#46039f"
             ],
             [
              0.2222222222222222,
              "#7201a8"
             ],
             [
              0.3333333333333333,
              "#9c179e"
             ],
             [
              0.4444444444444444,
              "#bd3786"
             ],
             [
              0.5555555555555556,
              "#d8576b"
             ],
             [
              0.6666666666666666,
              "#ed7953"
             ],
             [
              0.7777777777777778,
              "#fb9f3a"
             ],
             [
              0.8888888888888888,
              "#fdca26"
             ],
             [
              1,
              "#f0f921"
             ]
            ],
            "type": "surface"
           }
          ],
          "table": [
           {
            "cells": {
             "fill": {
              "color": "#EBF0F8"
             },
             "line": {
              "color": "white"
             }
            },
            "header": {
             "fill": {
              "color": "#C8D4E3"
             },
             "line": {
              "color": "white"
             }
            },
            "type": "table"
           }
          ]
         },
         "layout": {
          "annotationdefaults": {
           "arrowcolor": "#2a3f5f",
           "arrowhead": 0,
           "arrowwidth": 1
          },
          "autotypenumbers": "strict",
          "coloraxis": {
           "colorbar": {
            "outlinewidth": 0,
            "ticks": ""
           }
          },
          "colorscale": {
           "diverging": [
            [
             0,
             "#8e0152"
            ],
            [
             0.1,
             "#c51b7d"
            ],
            [
             0.2,
             "#de77ae"
            ],
            [
             0.3,
             "#f1b6da"
            ],
            [
             0.4,
             "#fde0ef"
            ],
            [
             0.5,
             "#f7f7f7"
            ],
            [
             0.6,
             "#e6f5d0"
            ],
            [
             0.7,
             "#b8e186"
            ],
            [
             0.8,
             "#7fbc41"
            ],
            [
             0.9,
             "#4d9221"
            ],
            [
             1,
             "#276419"
            ]
           ],
           "sequential": [
            [
             0,
             "#0d0887"
            ],
            [
             0.1111111111111111,
             "#46039f"
            ],
            [
             0.2222222222222222,
             "#7201a8"
            ],
            [
             0.3333333333333333,
             "#9c179e"
            ],
            [
             0.4444444444444444,
             "#bd3786"
            ],
            [
             0.5555555555555556,
             "#d8576b"
            ],
            [
             0.6666666666666666,
             "#ed7953"
            ],
            [
             0.7777777777777778,
             "#fb9f3a"
            ],
            [
             0.8888888888888888,
             "#fdca26"
            ],
            [
             1,
             "#f0f921"
            ]
           ],
           "sequentialminus": [
            [
             0,
             "#0d0887"
            ],
            [
             0.1111111111111111,
             "#46039f"
            ],
            [
             0.2222222222222222,
             "#7201a8"
            ],
            [
             0.3333333333333333,
             "#9c179e"
            ],
            [
             0.4444444444444444,
             "#bd3786"
            ],
            [
             0.5555555555555556,
             "#d8576b"
            ],
            [
             0.6666666666666666,
             "#ed7953"
            ],
            [
             0.7777777777777778,
             "#fb9f3a"
            ],
            [
             0.8888888888888888,
             "#fdca26"
            ],
            [
             1,
             "#f0f921"
            ]
           ]
          },
          "colorway": [
           "#636efa",
           "#EF553B",
           "#00cc96",
           "#ab63fa",
           "#FFA15A",
           "#19d3f3",
           "#FF6692",
           "#B6E880",
           "#FF97FF",
           "#FECB52"
          ],
          "font": {
           "color": "#2a3f5f"
          },
          "geo": {
           "bgcolor": "white",
           "lakecolor": "white",
           "landcolor": "#E5ECF6",
           "showlakes": true,
           "showland": true,
           "subunitcolor": "white"
          },
          "hoverlabel": {
           "align": "left"
          },
          "hovermode": "closest",
          "mapbox": {
           "style": "light"
          },
          "paper_bgcolor": "white",
          "plot_bgcolor": "#E5ECF6",
          "polar": {
           "angularaxis": {
            "gridcolor": "white",
            "linecolor": "white",
            "ticks": ""
           },
           "bgcolor": "#E5ECF6",
           "radialaxis": {
            "gridcolor": "white",
            "linecolor": "white",
            "ticks": ""
           }
          },
          "scene": {
           "xaxis": {
            "backgroundcolor": "#E5ECF6",
            "gridcolor": "white",
            "gridwidth": 2,
            "linecolor": "white",
            "showbackground": true,
            "ticks": "",
            "zerolinecolor": "white"
           },
           "yaxis": {
            "backgroundcolor": "#E5ECF6",
            "gridcolor": "white",
            "gridwidth": 2,
            "linecolor": "white",
            "showbackground": true,
            "ticks": "",
            "zerolinecolor": "white"
           },
           "zaxis": {
            "backgroundcolor": "#E5ECF6",
            "gridcolor": "white",
            "gridwidth": 2,
            "linecolor": "white",
            "showbackground": true,
            "ticks": "",
            "zerolinecolor": "white"
           }
          },
          "shapedefaults": {
           "line": {
            "color": "#2a3f5f"
           }
          },
          "ternary": {
           "aaxis": {
            "gridcolor": "white",
            "linecolor": "white",
            "ticks": ""
           },
           "baxis": {
            "gridcolor": "white",
            "linecolor": "white",
            "ticks": ""
           },
           "bgcolor": "#E5ECF6",
           "caxis": {
            "gridcolor": "white",
            "linecolor": "white",
            "ticks": ""
           }
          },
          "title": {
           "x": 0.05
          },
          "xaxis": {
           "automargin": true,
           "gridcolor": "white",
           "linecolor": "white",
           "ticks": "",
           "title": {
            "standoff": 15
           },
           "zerolinecolor": "white",
           "zerolinewidth": 2
          },
          "yaxis": {
           "automargin": true,
           "gridcolor": "white",
           "linecolor": "white",
           "ticks": "",
           "title": {
            "standoff": 15
           },
           "zerolinecolor": "white",
           "zerolinewidth": 2
          }
         }
        },
        "title": {
         "font": {
          "color": "#4D5663"
         },
         "text": "Total revenues"
        },
        "xaxis": {
         "gridcolor": "#E1E5ED",
         "showgrid": true,
         "tickfont": {
          "color": "#4D5663"
         },
         "title": {
          "font": {
           "color": "#4D5663"
          },
          "text": "France"
         },
         "zerolinecolor": "#E1E5ED"
        },
        "yaxis": {
         "gridcolor": "#E1E5ED",
         "showgrid": true,
         "tickfont": {
          "color": "#4D5663"
         },
         "title": {
          "font": {
           "color": "#4D5663"
          },
          "text": ""
         },
         "zerolinecolor": "#E1E5ED"
        }
       }
      },
      "text/html": [
       "<div>                            <div id=\"d67913ed-0d35-4a1a-b8e1-b170517572f4\" class=\"plotly-graph-div\" style=\"height:525px; width:100%;\"></div>            <script type=\"text/javascript\">                require([\"plotly\"], function(Plotly) {                    window.PLOTLYENV=window.PLOTLYENV || {};\n",
       "                    window.PLOTLYENV.BASE_URL='https://plot.ly';                                    if (document.getElementById(\"d67913ed-0d35-4a1a-b8e1-b170517572f4\")) {                    Plotly.newPlot(                        \"d67913ed-0d35-4a1a-b8e1-b170517572f4\",                        [{\"line\":{\"color\":\"rgba(255, 153, 51, 1.0)\",\"dash\":\"solid\",\"shape\":\"linear\",\"width\":1.3},\"mode\":\"lines\",\"name\":\"Quantity\",\"text\":\"\",\"x\":[\"2011-01-05 12:42:00\",\"2011-01-05 14:48:00\",\"2011-01-06 14:26:00\",\"2011-01-06 16:12:00\",\"2011-01-07 12:07:00\",\"2011-01-07 13:13:00\",\"2011-01-09 12:46:00\",\"2011-01-10 13:22:00\",\"2011-01-11 07:57:00\",\"2011-01-11 11:48:00\",\"2011-01-11 13:31:00\",\"2011-01-11 15:00:00\",\"2011-01-12 09:43:00\",\"2011-01-12 14:13:00\",\"2011-01-12 15:00:00\",\"2011-01-14 09:13:00\",\"2011-01-14 09:20:00\",\"2011-01-14 10:42:00\",\"2011-01-17 15:17:00\",\"2011-01-19 11:51:00\",\"2011-01-20 10:47:00\",\"2011-01-20 10:48:00\",\"2011-01-23 15:17:00\",\"2011-01-24 15:32:00\",\"2011-01-28 09:20:00\",\"2011-01-28 10:45:00\",\"2011-01-28 13:37:00\",\"2011-01-31 09:57:00\",\"2011-01-31 15:36:00\",\"2011-02-01 14:58:00\",\"2011-02-02 09:06:00\",\"2011-02-02 15:22:00\",\"2011-02-04 11:45:00\",\"2011-02-08 13:28:00\",\"2011-02-09 10:11:00\",\"2011-02-10 15:38:00\",\"2011-02-15 14:17:00\",\"2011-02-16 11:45:00\",\"2011-02-17 10:08:00\",\"2011-02-18 10:53:00\",\"2011-02-18 15:23:00\",\"2011-02-21 08:38:00\",\"2011-02-21 14:58:00\",\"2011-02-23 16:44:00\",\"2011-02-23 16:45:00\",\"2011-02-27 11:58:00\",\"2011-02-28 11:43:00\",\"2011-02-28 11:58:00\",\"2011-02-28 14:42:00\",\"2011-02-28 14:45:00\",\"2011-03-01 10:31:00\",\"2011-03-01 12:26:00\",\"2011-03-03 12:06:00\",\"2011-03-03 12:20:00\",\"2011-03-04 09:08:00\",\"2011-03-11 12:00:00\",\"2011-03-13 14:55:00\",\"2011-03-14 11:38:00\",\"2011-03-15 16:39:00\",\"2011-03-16 14:37:00\",\"2011-03-16 15:17:00\",\"2011-03-20 15:58:00\",\"2011-03-21 12:42:00\",\"2011-03-21 12:44:00\",\"2011-03-22 11:28:00\",\"2011-03-23 12:06:00\",\"2011-03-23 13:33:00\",\"2011-03-23 13:39:00\",\"2011-03-23 14:55:00\",\"2011-03-25 10:19:00\",\"2011-03-27 13:07:00\",\"2011-03-28 10:15:00\",\"2011-03-31 10:27:00\",\"2011-03-31 10:29:00\",\"2011-03-31 13:40:00\",\"2011-04-01 09:19:00\",\"2011-04-01 11:10:00\",\"2011-04-04 11:18:00\",\"2011-04-07 13:07:00\",\"2011-04-14 14:15:00\",\"2011-04-17 11:21:00\",\"2011-04-17 15:33:00\",\"2011-04-20 09:20:00\",\"2011-04-21 08:54:00\",\"2011-04-21 10:16:00\",\"2011-04-26 15:52:00\",\"2011-04-28 11:45:00\",\"2011-05-03 08:40:00\",\"2011-05-03 09:33:00\",\"2011-05-03 09:34:00\",\"2011-05-03 12:02:00\",\"2011-05-03 12:03:00\",\"2011-05-05 09:29:00\",\"2011-05-08 16:10:00\",\"2011-05-09 09:47:00\",\"2011-05-09 15:12:00\",\"2011-05-10 12:55:00\",\"2011-05-11 13:20:00\",\"2011-05-11 15:07:00\",\"2011-05-12 11:50:00\",\"2011-05-13 09:24:00\",\"2011-05-13 13:15:00\",\"2011-05-13 15:48:00\",\"2011-05-15 13:45:00\",\"2011-05-16 09:10:00\",\"2011-05-16 12:04:00\",\"2011-05-17 09:28:00\",\"2011-05-18 09:09:00\",\"2011-05-18 10:34:00\",\"2011-05-18 12:18:00\",\"2011-05-19 12:10:00\",\"2011-05-19 12:29:00\",\"2011-05-20 11:34:00\",\"2011-05-22 13:01:00\",\"2011-05-22 14:33:00\",\"2011-05-23 09:48:00\",\"2011-05-24 09:25:00\",\"2011-05-25 10:08:00\",\"2011-05-25 12:44:00\",\"2011-05-25 12:54:00\",\"2011-05-26 14:53:00\",\"2011-05-26 17:16:00\",\"2011-05-27 13:49:00\",\"2011-05-31 13:32:00\"],\"y\":[359,369,261,177,488,103,78,628,168,576,120,114,43,131,498,543,78,440,263,383,211,491,120,84,59,406,102,1617,202,197,159,206,611,214,298,452,96,772,114,748,15,256,77,264,96,70,213,310,72,54,245,329,314,24,123,323,183,184,314,97,62,422,85,5,198,136,713,242,130,261,59,842,946,132,2271,88,240,293,236,284,375,25,196,23,275,84,146,368,350,6,120,192,98,773,162,332,458,859,734,105,202,33,267,140,220,58,476,103,152,72,434,126,464,229,62,304,208,180,180,374,86,424,155,200],\"type\":\"scatter\"},{\"line\":{\"color\":\"rgba(55, 128, 191, 1.0)\",\"dash\":\"solid\",\"shape\":\"linear\",\"width\":1.3},\"mode\":\"lines\",\"name\":\"Revenue\",\"text\":\"\",\"x\":[\"2011-01-05 12:42:00\",\"2011-01-05 14:48:00\",\"2011-01-06 14:26:00\",\"2011-01-06 16:12:00\",\"2011-01-07 12:07:00\",\"2011-01-07 13:13:00\",\"2011-01-09 12:46:00\",\"2011-01-10 13:22:00\",\"2011-01-11 07:57:00\",\"2011-01-11 11:48:00\",\"2011-01-11 13:31:00\",\"2011-01-11 15:00:00\",\"2011-01-12 09:43:00\",\"2011-01-12 14:13:00\",\"2011-01-12 15:00:00\",\"2011-01-14 09:13:00\",\"2011-01-14 09:20:00\",\"2011-01-14 10:42:00\",\"2011-01-17 15:17:00\",\"2011-01-19 11:51:00\",\"2011-01-20 10:47:00\",\"2011-01-20 10:48:00\",\"2011-01-23 15:17:00\",\"2011-01-24 15:32:00\",\"2011-01-28 09:20:00\",\"2011-01-28 10:45:00\",\"2011-01-28 13:37:00\",\"2011-01-31 09:57:00\",\"2011-01-31 15:36:00\",\"2011-02-01 14:58:00\",\"2011-02-02 09:06:00\",\"2011-02-02 15:22:00\",\"2011-02-04 11:45:00\",\"2011-02-08 13:28:00\",\"2011-02-09 10:11:00\",\"2011-02-10 15:38:00\",\"2011-02-15 14:17:00\",\"2011-02-16 11:45:00\",\"2011-02-17 10:08:00\",\"2011-02-18 10:53:00\",\"2011-02-18 15:23:00\",\"2011-02-21 08:38:00\",\"2011-02-21 14:58:00\",\"2011-02-23 16:44:00\",\"2011-02-23 16:45:00\",\"2011-02-27 11:58:00\",\"2011-02-28 11:43:00\",\"2011-02-28 11:58:00\",\"2011-02-28 14:42:00\",\"2011-02-28 14:45:00\",\"2011-03-01 10:31:00\",\"2011-03-01 12:26:00\",\"2011-03-03 12:06:00\",\"2011-03-03 12:20:00\",\"2011-03-04 09:08:00\",\"2011-03-11 12:00:00\",\"2011-03-13 14:55:00\",\"2011-03-14 11:38:00\",\"2011-03-15 16:39:00\",\"2011-03-16 14:37:00\",\"2011-03-16 15:17:00\",\"2011-03-20 15:58:00\",\"2011-03-21 12:42:00\",\"2011-03-21 12:44:00\",\"2011-03-22 11:28:00\",\"2011-03-23 12:06:00\",\"2011-03-23 13:33:00\",\"2011-03-23 13:39:00\",\"2011-03-23 14:55:00\",\"2011-03-25 10:19:00\",\"2011-03-27 13:07:00\",\"2011-03-28 10:15:00\",\"2011-03-31 10:27:00\",\"2011-03-31 10:29:00\",\"2011-03-31 13:40:00\",\"2011-04-01 09:19:00\",\"2011-04-01 11:10:00\",\"2011-04-04 11:18:00\",\"2011-04-07 13:07:00\",\"2011-04-14 14:15:00\",\"2011-04-17 11:21:00\",\"2011-04-17 15:33:00\",\"2011-04-20 09:20:00\",\"2011-04-21 08:54:00\",\"2011-04-21 10:16:00\",\"2011-04-26 15:52:00\",\"2011-04-28 11:45:00\",\"2011-05-03 08:40:00\",\"2011-05-03 09:33:00\",\"2011-05-03 09:34:00\",\"2011-05-03 12:02:00\",\"2011-05-03 12:03:00\",\"2011-05-05 09:29:00\",\"2011-05-08 16:10:00\",\"2011-05-09 09:47:00\",\"2011-05-09 15:12:00\",\"2011-05-10 12:55:00\",\"2011-05-11 13:20:00\",\"2011-05-11 15:07:00\",\"2011-05-12 11:50:00\",\"2011-05-13 09:24:00\",\"2011-05-13 13:15:00\",\"2011-05-13 15:48:00\",\"2011-05-15 13:45:00\",\"2011-05-16 09:10:00\",\"2011-05-16 12:04:00\",\"2011-05-17 09:28:00\",\"2011-05-18 09:09:00\",\"2011-05-18 10:34:00\",\"2011-05-18 12:18:00\",\"2011-05-19 12:10:00\",\"2011-05-19 12:29:00\",\"2011-05-20 11:34:00\",\"2011-05-22 13:01:00\",\"2011-05-22 14:33:00\",\"2011-05-23 09:48:00\",\"2011-05-24 09:25:00\",\"2011-05-25 10:08:00\",\"2011-05-25 12:44:00\",\"2011-05-25 12:54:00\",\"2011-05-26 14:53:00\",\"2011-05-26 17:16:00\",\"2011-05-27 13:49:00\",\"2011-05-31 13:32:00\"],\"y\":[502.07,763.11,283.77,425.25,676.16,298.93,114.0,1112.06,144.0,835.1999999999999,216.54,136.9,102.94999999999999,338.7,793.98,774.22,225.9,592.31,642.14,698.75,581.55,827.13,406.5,190.2,182.45,365.58,405.8,3174.43,363.54,456.84999999999997,454.89,132.5,1128.73,165.85999999999999,401.02,285.56,219.6,829.66,214.0,878.3,6.3,603.42,125.4,308.0,95.76,92.6,335.43,612.86,182.72,158.5,316.2,722.06,480.76000000000005,20.4,281.25,676.8499999999999,307.28999999999996,425.40000000000003,511.53999999999996,129.70999999999998,115.09,298.02,201.24,4.63,469.98,160.5,733.88,378.0,402.9,303.91,128.05,1028.3,1937.06,413.4,3243.13,138.75,252.0,513.55,312.2,615.2,509.57,84.65,469.20000000000005,73.5,579.05,160.54000000000002,191.10000000000002,528.88,620.84,24.9,162.48000000000002,336.24,200.0,984.4300000000001,295.5,205.4,453.09999999999997,1637.43,1381.3,278.53000000000003,459.98,89.25,397.28000000000003,133.4,550.74,121.88,739.62,335.01,332.20000000000005,76.32000000000001,561.66,316.85,956.4,615.21,169.5,385.96,357.34,231.12,390.96,514.74,196.5,362.0,367.09,404.84000000000003],\"type\":\"scatter\"}],                        {\"legend\":{\"bgcolor\":\"#F5F6F9\",\"font\":{\"color\":\"#4D5663\"}},\"paper_bgcolor\":\"#F5F6F9\",\"plot_bgcolor\":\"#F5F6F9\",\"template\":{\"data\":{\"barpolar\":[{\"marker\":{\"line\":{\"color\":\"#E5ECF6\",\"width\":0.5},\"pattern\":{\"fillmode\":\"overlay\",\"size\":10,\"solidity\":0.2}},\"type\":\"barpolar\"}],\"bar\":[{\"error_x\":{\"color\":\"#2a3f5f\"},\"error_y\":{\"color\":\"#2a3f5f\"},\"marker\":{\"line\":{\"color\":\"#E5ECF6\",\"width\":0.5},\"pattern\":{\"fillmode\":\"overlay\",\"size\":10,\"solidity\":0.2}},\"type\":\"bar\"}],\"carpet\":[{\"aaxis\":{\"endlinecolor\":\"#2a3f5f\",\"gridcolor\":\"white\",\"linecolor\":\"white\",\"minorgridcolor\":\"white\",\"startlinecolor\":\"#2a3f5f\"},\"baxis\":{\"endlinecolor\":\"#2a3f5f\",\"gridcolor\":\"white\",\"linecolor\":\"white\",\"minorgridcolor\":\"white\",\"startlinecolor\":\"#2a3f5f\"},\"type\":\"carpet\"}],\"choropleth\":[{\"colorbar\":{\"outlinewidth\":0,\"ticks\":\"\"},\"type\":\"choropleth\"}],\"contourcarpet\":[{\"colorbar\":{\"outlinewidth\":0,\"ticks\":\"\"},\"type\":\"contourcarpet\"}],\"contour\":[{\"colorbar\":{\"outlinewidth\":0,\"ticks\":\"\"},\"colorscale\":[[0.0,\"#0d0887\"],[0.1111111111111111,\"#46039f\"],[0.2222222222222222,\"#7201a8\"],[0.3333333333333333,\"#9c179e\"],[0.4444444444444444,\"#bd3786\"],[0.5555555555555556,\"#d8576b\"],[0.6666666666666666,\"#ed7953\"],[0.7777777777777778,\"#fb9f3a\"],[0.8888888888888888,\"#fdca26\"],[1.0,\"#f0f921\"]],\"type\":\"contour\"}],\"heatmapgl\":[{\"colorbar\":{\"outlinewidth\":0,\"ticks\":\"\"},\"colorscale\":[[0.0,\"#0d0887\"],[0.1111111111111111,\"#46039f\"],[0.2222222222222222,\"#7201a8\"],[0.3333333333333333,\"#9c179e\"],[0.4444444444444444,\"#bd3786\"],[0.5555555555555556,\"#d8576b\"],[0.6666666666666666,\"#ed7953\"],[0.7777777777777778,\"#fb9f3a\"],[0.8888888888888888,\"#fdca26\"],[1.0,\"#f0f921\"]],\"type\":\"heatmapgl\"}],\"heatmap\":[{\"colorbar\":{\"outlinewidth\":0,\"ticks\":\"\"},\"colorscale\":[[0.0,\"#0d0887\"],[0.1111111111111111,\"#46039f\"],[0.2222222222222222,\"#7201a8\"],[0.3333333333333333,\"#9c179e\"],[0.4444444444444444,\"#bd3786\"],[0.5555555555555556,\"#d8576b\"],[0.6666666666666666,\"#ed7953\"],[0.7777777777777778,\"#fb9f3a\"],[0.8888888888888888,\"#fdca26\"],[1.0,\"#f0f921\"]],\"type\":\"heatmap\"}],\"histogram2dcontour\":[{\"colorbar\":{\"outlinewidth\":0,\"ticks\":\"\"},\"colorscale\":[[0.0,\"#0d0887\"],[0.1111111111111111,\"#46039f\"],[0.2222222222222222,\"#7201a8\"],[0.3333333333333333,\"#9c179e\"],[0.4444444444444444,\"#bd3786\"],[0.5555555555555556,\"#d8576b\"],[0.6666666666666666,\"#ed7953\"],[0.7777777777777778,\"#fb9f3a\"],[0.8888888888888888,\"#fdca26\"],[1.0,\"#f0f921\"]],\"type\":\"histogram2dcontour\"}],\"histogram2d\":[{\"colorbar\":{\"outlinewidth\":0,\"ticks\":\"\"},\"colorscale\":[[0.0,\"#0d0887\"],[0.1111111111111111,\"#46039f\"],[0.2222222222222222,\"#7201a8\"],[0.3333333333333333,\"#9c179e\"],[0.4444444444444444,\"#bd3786\"],[0.5555555555555556,\"#d8576b\"],[0.6666666666666666,\"#ed7953\"],[0.7777777777777778,\"#fb9f3a\"],[0.8888888888888888,\"#fdca26\"],[1.0,\"#f0f921\"]],\"type\":\"histogram2d\"}],\"histogram\":[{\"marker\":{\"pattern\":{\"fillmode\":\"overlay\",\"size\":10,\"solidity\":0.2}},\"type\":\"histogram\"}],\"mesh3d\":[{\"colorbar\":{\"outlinewidth\":0,\"ticks\":\"\"},\"type\":\"mesh3d\"}],\"parcoords\":[{\"line\":{\"colorbar\":{\"outlinewidth\":0,\"ticks\":\"\"}},\"type\":\"parcoords\"}],\"pie\":[{\"automargin\":true,\"type\":\"pie\"}],\"scatter3d\":[{\"line\":{\"colorbar\":{\"outlinewidth\":0,\"ticks\":\"\"}},\"marker\":{\"colorbar\":{\"outlinewidth\":0,\"ticks\":\"\"}},\"type\":\"scatter3d\"}],\"scattercarpet\":[{\"marker\":{\"colorbar\":{\"outlinewidth\":0,\"ticks\":\"\"}},\"type\":\"scattercarpet\"}],\"scattergeo\":[{\"marker\":{\"colorbar\":{\"outlinewidth\":0,\"ticks\":\"\"}},\"type\":\"scattergeo\"}],\"scattergl\":[{\"marker\":{\"colorbar\":{\"outlinewidth\":0,\"ticks\":\"\"}},\"type\":\"scattergl\"}],\"scattermapbox\":[{\"marker\":{\"colorbar\":{\"outlinewidth\":0,\"ticks\":\"\"}},\"type\":\"scattermapbox\"}],\"scatterpolargl\":[{\"marker\":{\"colorbar\":{\"outlinewidth\":0,\"ticks\":\"\"}},\"type\":\"scatterpolargl\"}],\"scatterpolar\":[{\"marker\":{\"colorbar\":{\"outlinewidth\":0,\"ticks\":\"\"}},\"type\":\"scatterpolar\"}],\"scatter\":[{\"fillpattern\":{\"fillmode\":\"overlay\",\"size\":10,\"solidity\":0.2},\"type\":\"scatter\"}],\"scatterternary\":[{\"marker\":{\"colorbar\":{\"outlinewidth\":0,\"ticks\":\"\"}},\"type\":\"scatterternary\"}],\"surface\":[{\"colorbar\":{\"outlinewidth\":0,\"ticks\":\"\"},\"colorscale\":[[0.0,\"#0d0887\"],[0.1111111111111111,\"#46039f\"],[0.2222222222222222,\"#7201a8\"],[0.3333333333333333,\"#9c179e\"],[0.4444444444444444,\"#bd3786\"],[0.5555555555555556,\"#d8576b\"],[0.6666666666666666,\"#ed7953\"],[0.7777777777777778,\"#fb9f3a\"],[0.8888888888888888,\"#fdca26\"],[1.0,\"#f0f921\"]],\"type\":\"surface\"}],\"table\":[{\"cells\":{\"fill\":{\"color\":\"#EBF0F8\"},\"line\":{\"color\":\"white\"}},\"header\":{\"fill\":{\"color\":\"#C8D4E3\"},\"line\":{\"color\":\"white\"}},\"type\":\"table\"}]},\"layout\":{\"annotationdefaults\":{\"arrowcolor\":\"#2a3f5f\",\"arrowhead\":0,\"arrowwidth\":1},\"autotypenumbers\":\"strict\",\"coloraxis\":{\"colorbar\":{\"outlinewidth\":0,\"ticks\":\"\"}},\"colorscale\":{\"diverging\":[[0,\"#8e0152\"],[0.1,\"#c51b7d\"],[0.2,\"#de77ae\"],[0.3,\"#f1b6da\"],[0.4,\"#fde0ef\"],[0.5,\"#f7f7f7\"],[0.6,\"#e6f5d0\"],[0.7,\"#b8e186\"],[0.8,\"#7fbc41\"],[0.9,\"#4d9221\"],[1,\"#276419\"]],\"sequential\":[[0.0,\"#0d0887\"],[0.1111111111111111,\"#46039f\"],[0.2222222222222222,\"#7201a8\"],[0.3333333333333333,\"#9c179e\"],[0.4444444444444444,\"#bd3786\"],[0.5555555555555556,\"#d8576b\"],[0.6666666666666666,\"#ed7953\"],[0.7777777777777778,\"#fb9f3a\"],[0.8888888888888888,\"#fdca26\"],[1.0,\"#f0f921\"]],\"sequentialminus\":[[0.0,\"#0d0887\"],[0.1111111111111111,\"#46039f\"],[0.2222222222222222,\"#7201a8\"],[0.3333333333333333,\"#9c179e\"],[0.4444444444444444,\"#bd3786\"],[0.5555555555555556,\"#d8576b\"],[0.6666666666666666,\"#ed7953\"],[0.7777777777777778,\"#fb9f3a\"],[0.8888888888888888,\"#fdca26\"],[1.0,\"#f0f921\"]]},\"colorway\":[\"#636efa\",\"#EF553B\",\"#00cc96\",\"#ab63fa\",\"#FFA15A\",\"#19d3f3\",\"#FF6692\",\"#B6E880\",\"#FF97FF\",\"#FECB52\"],\"font\":{\"color\":\"#2a3f5f\"},\"geo\":{\"bgcolor\":\"white\",\"lakecolor\":\"white\",\"landcolor\":\"#E5ECF6\",\"showlakes\":true,\"showland\":true,\"subunitcolor\":\"white\"},\"hoverlabel\":{\"align\":\"left\"},\"hovermode\":\"closest\",\"mapbox\":{\"style\":\"light\"},\"paper_bgcolor\":\"white\",\"plot_bgcolor\":\"#E5ECF6\",\"polar\":{\"angularaxis\":{\"gridcolor\":\"white\",\"linecolor\":\"white\",\"ticks\":\"\"},\"bgcolor\":\"#E5ECF6\",\"radialaxis\":{\"gridcolor\":\"white\",\"linecolor\":\"white\",\"ticks\":\"\"}},\"scene\":{\"xaxis\":{\"backgroundcolor\":\"#E5ECF6\",\"gridcolor\":\"white\",\"gridwidth\":2,\"linecolor\":\"white\",\"showbackground\":true,\"ticks\":\"\",\"zerolinecolor\":\"white\"},\"yaxis\":{\"backgroundcolor\":\"#E5ECF6\",\"gridcolor\":\"white\",\"gridwidth\":2,\"linecolor\":\"white\",\"showbackground\":true,\"ticks\":\"\",\"zerolinecolor\":\"white\"},\"zaxis\":{\"backgroundcolor\":\"#E5ECF6\",\"gridcolor\":\"white\",\"gridwidth\":2,\"linecolor\":\"white\",\"showbackground\":true,\"ticks\":\"\",\"zerolinecolor\":\"white\"}},\"shapedefaults\":{\"line\":{\"color\":\"#2a3f5f\"}},\"ternary\":{\"aaxis\":{\"gridcolor\":\"white\",\"linecolor\":\"white\",\"ticks\":\"\"},\"baxis\":{\"gridcolor\":\"white\",\"linecolor\":\"white\",\"ticks\":\"\"},\"bgcolor\":\"#E5ECF6\",\"caxis\":{\"gridcolor\":\"white\",\"linecolor\":\"white\",\"ticks\":\"\"}},\"title\":{\"x\":0.05},\"xaxis\":{\"automargin\":true,\"gridcolor\":\"white\",\"linecolor\":\"white\",\"ticks\":\"\",\"title\":{\"standoff\":15},\"zerolinecolor\":\"white\",\"zerolinewidth\":2},\"yaxis\":{\"automargin\":true,\"gridcolor\":\"white\",\"linecolor\":\"white\",\"ticks\":\"\",\"title\":{\"standoff\":15},\"zerolinecolor\":\"white\",\"zerolinewidth\":2}}},\"title\":{\"font\":{\"color\":\"#4D5663\"},\"text\":\"Total revenues\"},\"xaxis\":{\"gridcolor\":\"#E1E5ED\",\"showgrid\":true,\"tickfont\":{\"color\":\"#4D5663\"},\"title\":{\"font\":{\"color\":\"#4D5663\"},\"text\":\"France\"},\"zerolinecolor\":\"#E1E5ED\"},\"yaxis\":{\"gridcolor\":\"#E1E5ED\",\"showgrid\":true,\"tickfont\":{\"color\":\"#4D5663\"},\"title\":{\"font\":{\"color\":\"#4D5663\"},\"text\":\"\"},\"zerolinecolor\":\"#E1E5ED\"}},                        {\"showLink\": true, \"linkText\": \"Export to plot.ly\", \"plotlyServerURL\": \"https://plot.ly\", \"responsive\": true}                    ).then(function(){\n",
       "                            \n",
       "var gd = document.getElementById('d67913ed-0d35-4a1a-b8e1-b170517572f4');\n",
       "var x = new MutationObserver(function (mutations, observer) {{\n",
       "        var display = window.getComputedStyle(gd).display;\n",
       "        if (!display || display === 'none') {{\n",
       "            console.log([gd, 'removed!']);\n",
       "            Plotly.purge(gd);\n",
       "            observer.disconnect();\n",
       "        }}\n",
       "}});\n",
       "\n",
       "// Listen for the removal of the full notebook cells\n",
       "var notebookContainer = gd.closest('#notebook-container');\n",
       "if (notebookContainer) {{\n",
       "    x.observe(notebookContainer, {childList: true});\n",
       "}}\n",
       "\n",
       "// Listen for the clearing of the current output cell\n",
       "var outputEl = gd.closest('.output');\n",
       "if (outputEl) {{\n",
       "    x.observe(outputEl, {childList: true});\n",
       "}}\n",
       "\n",
       "                        })                };                });            </script>        </div>"
      ]
     },
     "metadata": {},
     "output_type": "display_data"
    }
   ],
   "source": [
    "dfrance.iplot(kind='line', xTitle='France', title='Total quantities & revenues in France')"
   ]
  },
  {
   "cell_type": "markdown",
   "metadata": {},
   "source": [
    "## 3. Create an interactive scatter plot showing the relationship between average quantity (x-axis) and average unit price (y-axis) for the product PARTY BUNTING with the plot points color-coded by country (categories)."
   ]
  },
  {
   "cell_type": "code",
   "execution_count": 123,
   "metadata": {},
   "outputs": [
    {
     "data": {
      "text/html": [
       "<div>\n",
       "<style scoped>\n",
       "    .dataframe tbody tr th:only-of-type {\n",
       "        vertical-align: middle;\n",
       "    }\n",
       "\n",
       "    .dataframe tbody tr th {\n",
       "        vertical-align: top;\n",
       "    }\n",
       "\n",
       "    .dataframe thead th {\n",
       "        text-align: right;\n",
       "    }\n",
       "</style>\n",
       "<table border=\"1\" class=\"dataframe\">\n",
       "  <thead>\n",
       "    <tr style=\"text-align: right;\">\n",
       "      <th></th>\n",
       "      <th>InvoiceNo</th>\n",
       "      <th>InvoiceDate</th>\n",
       "      <th>StockCode</th>\n",
       "      <th>Description</th>\n",
       "      <th>Quantity</th>\n",
       "      <th>UnitPrice</th>\n",
       "      <th>Revenue</th>\n",
       "      <th>CustomerID</th>\n",
       "      <th>Country</th>\n",
       "    </tr>\n",
       "  </thead>\n",
       "  <tbody>\n",
       "    <tr>\n",
       "      <th>0</th>\n",
       "      <td>536365</td>\n",
       "      <td>2010-12-01 08:26:00</td>\n",
       "      <td>85123A</td>\n",
       "      <td>CREAM HANGING HEART T-LIGHT HOLDER</td>\n",
       "      <td>6</td>\n",
       "      <td>2.55</td>\n",
       "      <td>15.3</td>\n",
       "      <td>17850</td>\n",
       "      <td>United Kingdom</td>\n",
       "    </tr>\n",
       "    <tr>\n",
       "      <th>1</th>\n",
       "      <td>536373</td>\n",
       "      <td>2010-12-01 09:02:00</td>\n",
       "      <td>85123A</td>\n",
       "      <td>CREAM HANGING HEART T-LIGHT HOLDER</td>\n",
       "      <td>6</td>\n",
       "      <td>2.55</td>\n",
       "      <td>15.3</td>\n",
       "      <td>17850</td>\n",
       "      <td>United Kingdom</td>\n",
       "    </tr>\n",
       "    <tr>\n",
       "      <th>2</th>\n",
       "      <td>536375</td>\n",
       "      <td>2010-12-01 09:32:00</td>\n",
       "      <td>85123A</td>\n",
       "      <td>CREAM HANGING HEART T-LIGHT HOLDER</td>\n",
       "      <td>6</td>\n",
       "      <td>2.55</td>\n",
       "      <td>15.3</td>\n",
       "      <td>17850</td>\n",
       "      <td>United Kingdom</td>\n",
       "    </tr>\n",
       "    <tr>\n",
       "      <th>3</th>\n",
       "      <td>536390</td>\n",
       "      <td>2010-12-01 10:19:00</td>\n",
       "      <td>85123A</td>\n",
       "      <td>CREAM HANGING HEART T-LIGHT HOLDER</td>\n",
       "      <td>64</td>\n",
       "      <td>2.55</td>\n",
       "      <td>163.2</td>\n",
       "      <td>17511</td>\n",
       "      <td>United Kingdom</td>\n",
       "    </tr>\n",
       "    <tr>\n",
       "      <th>4</th>\n",
       "      <td>536394</td>\n",
       "      <td>2010-12-01 10:39:00</td>\n",
       "      <td>85123A</td>\n",
       "      <td>CREAM HANGING HEART T-LIGHT HOLDER</td>\n",
       "      <td>32</td>\n",
       "      <td>2.55</td>\n",
       "      <td>81.6</td>\n",
       "      <td>13408</td>\n",
       "      <td>United Kingdom</td>\n",
       "    </tr>\n",
       "  </tbody>\n",
       "</table>\n",
       "</div>"
      ],
      "text/plain": [
       "   InvoiceNo         InvoiceDate StockCode  \\\n",
       "0     536365 2010-12-01 08:26:00    85123A   \n",
       "1     536373 2010-12-01 09:02:00    85123A   \n",
       "2     536375 2010-12-01 09:32:00    85123A   \n",
       "3     536390 2010-12-01 10:19:00    85123A   \n",
       "4     536394 2010-12-01 10:39:00    85123A   \n",
       "\n",
       "                          Description  Quantity  UnitPrice  Revenue  \\\n",
       "0  CREAM HANGING HEART T-LIGHT HOLDER         6       2.55     15.3   \n",
       "1  CREAM HANGING HEART T-LIGHT HOLDER         6       2.55     15.3   \n",
       "2  CREAM HANGING HEART T-LIGHT HOLDER         6       2.55     15.3   \n",
       "3  CREAM HANGING HEART T-LIGHT HOLDER        64       2.55    163.2   \n",
       "4  CREAM HANGING HEART T-LIGHT HOLDER        32       2.55     81.6   \n",
       "\n",
       "   CustomerID         Country  \n",
       "0       17850  United Kingdom  \n",
       "1       17850  United Kingdom  \n",
       "2       17850  United Kingdom  \n",
       "3       17511  United Kingdom  \n",
       "4       13408  United Kingdom  "
      ]
     },
     "execution_count": 123,
     "metadata": {},
     "output_type": "execute_result"
    }
   ],
   "source": [
    "df.head()"
   ]
  },
  {
   "cell_type": "code",
   "execution_count": 136,
   "metadata": {
    "scrolled": true
   },
   "outputs": [
    {
     "data": {
      "text/html": [
       "<div>\n",
       "<style scoped>\n",
       "    .dataframe tbody tr th:only-of-type {\n",
       "        vertical-align: middle;\n",
       "    }\n",
       "\n",
       "    .dataframe tbody tr th {\n",
       "        vertical-align: top;\n",
       "    }\n",
       "\n",
       "    .dataframe thead th {\n",
       "        text-align: right;\n",
       "    }\n",
       "</style>\n",
       "<table border=\"1\" class=\"dataframe\">\n",
       "  <thead>\n",
       "    <tr style=\"text-align: right;\">\n",
       "      <th></th>\n",
       "      <th>InvoiceNo</th>\n",
       "      <th>InvoiceDate</th>\n",
       "      <th>StockCode</th>\n",
       "      <th>Description</th>\n",
       "      <th>Quantity</th>\n",
       "      <th>UnitPrice</th>\n",
       "      <th>Revenue</th>\n",
       "      <th>CustomerID</th>\n",
       "      <th>Country</th>\n",
       "    </tr>\n",
       "  </thead>\n",
       "  <tbody>\n",
       "    <tr>\n",
       "      <th>252864</th>\n",
       "      <td>536956</td>\n",
       "      <td>2010-12-03 12:43:00</td>\n",
       "      <td>47566</td>\n",
       "      <td>PARTY BUNTING</td>\n",
       "      <td>5</td>\n",
       "      <td>4.65</td>\n",
       "      <td>23.25</td>\n",
       "      <td>14210</td>\n",
       "      <td>United Kingdom</td>\n",
       "    </tr>\n",
       "    <tr>\n",
       "      <th>252865</th>\n",
       "      <td>537065</td>\n",
       "      <td>2010-12-05 11:57:00</td>\n",
       "      <td>47566</td>\n",
       "      <td>PARTY BUNTING</td>\n",
       "      <td>5</td>\n",
       "      <td>4.65</td>\n",
       "      <td>23.25</td>\n",
       "      <td>12567</td>\n",
       "      <td>France</td>\n",
       "    </tr>\n",
       "    <tr>\n",
       "      <th>252866</th>\n",
       "      <td>537128</td>\n",
       "      <td>2010-12-05 12:15:00</td>\n",
       "      <td>47566</td>\n",
       "      <td>PARTY BUNTING</td>\n",
       "      <td>2</td>\n",
       "      <td>4.65</td>\n",
       "      <td>9.30</td>\n",
       "      <td>12841</td>\n",
       "      <td>United Kingdom</td>\n",
       "    </tr>\n",
       "    <tr>\n",
       "      <th>252867</th>\n",
       "      <td>537142</td>\n",
       "      <td>2010-12-05 12:57:00</td>\n",
       "      <td>47566</td>\n",
       "      <td>PARTY BUNTING</td>\n",
       "      <td>1</td>\n",
       "      <td>4.65</td>\n",
       "      <td>4.65</td>\n",
       "      <td>12748</td>\n",
       "      <td>United Kingdom</td>\n",
       "    </tr>\n",
       "    <tr>\n",
       "      <th>252868</th>\n",
       "      <td>537420</td>\n",
       "      <td>2010-12-06 15:18:00</td>\n",
       "      <td>47566</td>\n",
       "      <td>PARTY BUNTING</td>\n",
       "      <td>5</td>\n",
       "      <td>4.65</td>\n",
       "      <td>23.25</td>\n",
       "      <td>17519</td>\n",
       "      <td>United Kingdom</td>\n",
       "    </tr>\n",
       "  </tbody>\n",
       "</table>\n",
       "</div>"
      ],
      "text/plain": [
       "        InvoiceNo         InvoiceDate StockCode    Description  Quantity  \\\n",
       "252864     536956 2010-12-03 12:43:00     47566  PARTY BUNTING         5   \n",
       "252865     537065 2010-12-05 11:57:00     47566  PARTY BUNTING         5   \n",
       "252866     537128 2010-12-05 12:15:00     47566  PARTY BUNTING         2   \n",
       "252867     537142 2010-12-05 12:57:00     47566  PARTY BUNTING         1   \n",
       "252868     537420 2010-12-06 15:18:00     47566  PARTY BUNTING         5   \n",
       "\n",
       "        UnitPrice  Revenue  CustomerID         Country  \n",
       "252864       4.65    23.25       14210  United Kingdom  \n",
       "252865       4.65    23.25       12567          France  \n",
       "252866       4.65     9.30       12841  United Kingdom  \n",
       "252867       4.65     4.65       12748  United Kingdom  \n",
       "252868       4.65    23.25       17519  United Kingdom  "
      ]
     },
     "execution_count": 136,
     "metadata": {},
     "output_type": "execute_result"
    }
   ],
   "source": [
    "pb = df.query('Description == \"PARTY BUNTING\"')\n",
    "pb.head()"
   ]
  },
  {
   "cell_type": "code",
   "execution_count": 130,
   "metadata": {},
   "outputs": [
    {
     "data": {
      "text/html": [
       "<div>\n",
       "<style scoped>\n",
       "    .dataframe tbody tr th:only-of-type {\n",
       "        vertical-align: middle;\n",
       "    }\n",
       "\n",
       "    .dataframe tbody tr th {\n",
       "        vertical-align: top;\n",
       "    }\n",
       "\n",
       "    .dataframe thead th {\n",
       "        text-align: right;\n",
       "    }\n",
       "</style>\n",
       "<table border=\"1\" class=\"dataframe\">\n",
       "  <thead>\n",
       "    <tr style=\"text-align: right;\">\n",
       "      <th></th>\n",
       "      <th>InvoiceNo</th>\n",
       "      <th>InvoiceDate</th>\n",
       "      <th>StockCode</th>\n",
       "      <th>Description</th>\n",
       "      <th>Quantity</th>\n",
       "      <th>UnitPrice</th>\n",
       "      <th>Revenue</th>\n",
       "      <th>CustomerID</th>\n",
       "      <th>Country</th>\n",
       "    </tr>\n",
       "  </thead>\n",
       "  <tbody>\n",
       "    <tr>\n",
       "      <th>252864</th>\n",
       "      <td>536956</td>\n",
       "      <td>2010-12-03 12:43:00</td>\n",
       "      <td>47566</td>\n",
       "      <td>PARTY BUNTING</td>\n",
       "      <td>5</td>\n",
       "      <td>4.65</td>\n",
       "      <td>23.25</td>\n",
       "      <td>14210</td>\n",
       "      <td>United Kingdom</td>\n",
       "    </tr>\n",
       "    <tr>\n",
       "      <th>252865</th>\n",
       "      <td>537065</td>\n",
       "      <td>2010-12-05 11:57:00</td>\n",
       "      <td>47566</td>\n",
       "      <td>PARTY BUNTING</td>\n",
       "      <td>5</td>\n",
       "      <td>4.65</td>\n",
       "      <td>23.25</td>\n",
       "      <td>12567</td>\n",
       "      <td>France</td>\n",
       "    </tr>\n",
       "    <tr>\n",
       "      <th>252866</th>\n",
       "      <td>537128</td>\n",
       "      <td>2010-12-05 12:15:00</td>\n",
       "      <td>47566</td>\n",
       "      <td>PARTY BUNTING</td>\n",
       "      <td>2</td>\n",
       "      <td>4.65</td>\n",
       "      <td>9.30</td>\n",
       "      <td>12841</td>\n",
       "      <td>United Kingdom</td>\n",
       "    </tr>\n",
       "    <tr>\n",
       "      <th>252867</th>\n",
       "      <td>537142</td>\n",
       "      <td>2010-12-05 12:57:00</td>\n",
       "      <td>47566</td>\n",
       "      <td>PARTY BUNTING</td>\n",
       "      <td>1</td>\n",
       "      <td>4.65</td>\n",
       "      <td>4.65</td>\n",
       "      <td>12748</td>\n",
       "      <td>United Kingdom</td>\n",
       "    </tr>\n",
       "    <tr>\n",
       "      <th>252868</th>\n",
       "      <td>537420</td>\n",
       "      <td>2010-12-06 15:18:00</td>\n",
       "      <td>47566</td>\n",
       "      <td>PARTY BUNTING</td>\n",
       "      <td>5</td>\n",
       "      <td>4.65</td>\n",
       "      <td>23.25</td>\n",
       "      <td>17519</td>\n",
       "      <td>United Kingdom</td>\n",
       "    </tr>\n",
       "    <tr>\n",
       "      <th>...</th>\n",
       "      <td>...</td>\n",
       "      <td>...</td>\n",
       "      <td>...</td>\n",
       "      <td>...</td>\n",
       "      <td>...</td>\n",
       "      <td>...</td>\n",
       "      <td>...</td>\n",
       "      <td>...</td>\n",
       "      <td>...</td>\n",
       "    </tr>\n",
       "    <tr>\n",
       "      <th>254255</th>\n",
       "      <td>580937</td>\n",
       "      <td>2011-12-06 14:13:00</td>\n",
       "      <td>47566</td>\n",
       "      <td>PARTY BUNTING</td>\n",
       "      <td>4</td>\n",
       "      <td>4.95</td>\n",
       "      <td>19.80</td>\n",
       "      <td>16143</td>\n",
       "      <td>United Kingdom</td>\n",
       "    </tr>\n",
       "    <tr>\n",
       "      <th>254256</th>\n",
       "      <td>581142</td>\n",
       "      <td>2011-12-07 13:38:00</td>\n",
       "      <td>47566</td>\n",
       "      <td>PARTY BUNTING</td>\n",
       "      <td>3</td>\n",
       "      <td>4.95</td>\n",
       "      <td>14.85</td>\n",
       "      <td>14204</td>\n",
       "      <td>United Kingdom</td>\n",
       "    </tr>\n",
       "    <tr>\n",
       "      <th>254257</th>\n",
       "      <td>581345</td>\n",
       "      <td>2011-12-08 12:15:00</td>\n",
       "      <td>47566</td>\n",
       "      <td>PARTY BUNTING</td>\n",
       "      <td>5</td>\n",
       "      <td>4.95</td>\n",
       "      <td>24.75</td>\n",
       "      <td>17315</td>\n",
       "      <td>United Kingdom</td>\n",
       "    </tr>\n",
       "    <tr>\n",
       "      <th>254258</th>\n",
       "      <td>581417</td>\n",
       "      <td>2011-12-08 15:01:00</td>\n",
       "      <td>47566</td>\n",
       "      <td>PARTY BUNTING</td>\n",
       "      <td>8</td>\n",
       "      <td>4.95</td>\n",
       "      <td>39.60</td>\n",
       "      <td>13013</td>\n",
       "      <td>United Kingdom</td>\n",
       "    </tr>\n",
       "    <tr>\n",
       "      <th>254259</th>\n",
       "      <td>581426</td>\n",
       "      <td>2011-12-08 15:31:00</td>\n",
       "      <td>47566</td>\n",
       "      <td>PARTY BUNTING</td>\n",
       "      <td>1</td>\n",
       "      <td>4.95</td>\n",
       "      <td>4.95</td>\n",
       "      <td>17757</td>\n",
       "      <td>United Kingdom</td>\n",
       "    </tr>\n",
       "  </tbody>\n",
       "</table>\n",
       "<p>1396 rows × 9 columns</p>\n",
       "</div>"
      ],
      "text/plain": [
       "        InvoiceNo         InvoiceDate StockCode    Description  Quantity  \\\n",
       "252864     536956 2010-12-03 12:43:00     47566  PARTY BUNTING         5   \n",
       "252865     537065 2010-12-05 11:57:00     47566  PARTY BUNTING         5   \n",
       "252866     537128 2010-12-05 12:15:00     47566  PARTY BUNTING         2   \n",
       "252867     537142 2010-12-05 12:57:00     47566  PARTY BUNTING         1   \n",
       "252868     537420 2010-12-06 15:18:00     47566  PARTY BUNTING         5   \n",
       "...           ...                 ...       ...            ...       ...   \n",
       "254255     580937 2011-12-06 14:13:00     47566  PARTY BUNTING         4   \n",
       "254256     581142 2011-12-07 13:38:00     47566  PARTY BUNTING         3   \n",
       "254257     581345 2011-12-08 12:15:00     47566  PARTY BUNTING         5   \n",
       "254258     581417 2011-12-08 15:01:00     47566  PARTY BUNTING         8   \n",
       "254259     581426 2011-12-08 15:31:00     47566  PARTY BUNTING         1   \n",
       "\n",
       "        UnitPrice  Revenue  CustomerID         Country  \n",
       "252864       4.65    23.25       14210  United Kingdom  \n",
       "252865       4.65    23.25       12567          France  \n",
       "252866       4.65     9.30       12841  United Kingdom  \n",
       "252867       4.65     4.65       12748  United Kingdom  \n",
       "252868       4.65    23.25       17519  United Kingdom  \n",
       "...           ...      ...         ...             ...  \n",
       "254255       4.95    19.80       16143  United Kingdom  \n",
       "254256       4.95    14.85       14204  United Kingdom  \n",
       "254257       4.95    24.75       17315  United Kingdom  \n",
       "254258       4.95    39.60       13013  United Kingdom  \n",
       "254259       4.95     4.95       17757  United Kingdom  \n",
       "\n",
       "[1396 rows x 9 columns]"
      ]
     },
     "execution_count": 130,
     "metadata": {},
     "output_type": "execute_result"
    }
   ],
   "source": [
    "df[df[\"Description\"] == \"PARTY BUNTING\"] #otra manera"
   ]
  },
  {
   "cell_type": "code",
   "execution_count": 132,
   "metadata": {},
   "outputs": [
    {
     "data": {
      "text/html": [
       "<div>\n",
       "<style scoped>\n",
       "    .dataframe tbody tr th:only-of-type {\n",
       "        vertical-align: middle;\n",
       "    }\n",
       "\n",
       "    .dataframe tbody tr th {\n",
       "        vertical-align: top;\n",
       "    }\n",
       "\n",
       "    .dataframe thead th {\n",
       "        text-align: right;\n",
       "    }\n",
       "</style>\n",
       "<table border=\"1\" class=\"dataframe\">\n",
       "  <thead>\n",
       "    <tr style=\"text-align: right;\">\n",
       "      <th></th>\n",
       "      <th>InvoiceNo</th>\n",
       "      <th>Quantity</th>\n",
       "      <th>UnitPrice</th>\n",
       "      <th>Revenue</th>\n",
       "      <th>CustomerID</th>\n",
       "    </tr>\n",
       "    <tr>\n",
       "      <th>Country</th>\n",
       "      <th></th>\n",
       "      <th></th>\n",
       "      <th></th>\n",
       "      <th></th>\n",
       "      <th></th>\n",
       "    </tr>\n",
       "  </thead>\n",
       "  <tbody>\n",
       "    <tr>\n",
       "      <th>Australia</th>\n",
       "      <td>554329.625000</td>\n",
       "      <td>33.125000</td>\n",
       "      <td>4.7125</td>\n",
       "      <td>143.78125</td>\n",
       "      <td>12399.250000</td>\n",
       "    </tr>\n",
       "    <tr>\n",
       "      <th>Austria</th>\n",
       "      <td>552202.000000</td>\n",
       "      <td>8.000000</td>\n",
       "      <td>4.9500</td>\n",
       "      <td>39.60000</td>\n",
       "      <td>12414.000000</td>\n",
       "    </tr>\n",
       "    <tr>\n",
       "      <th>Belgium</th>\n",
       "      <td>557600.000000</td>\n",
       "      <td>4.000000</td>\n",
       "      <td>4.9500</td>\n",
       "      <td>19.80000</td>\n",
       "      <td>12363.000000</td>\n",
       "    </tr>\n",
       "    <tr>\n",
       "      <th>Channel Islands</th>\n",
       "      <td>561821.666667</td>\n",
       "      <td>13.333333</td>\n",
       "      <td>4.9500</td>\n",
       "      <td>66.00000</td>\n",
       "      <td>14934.000000</td>\n",
       "    </tr>\n",
       "    <tr>\n",
       "      <th>Cyprus</th>\n",
       "      <td>553141.333333</td>\n",
       "      <td>2.333333</td>\n",
       "      <td>4.7500</td>\n",
       "      <td>10.95000</td>\n",
       "      <td>12373.333333</td>\n",
       "    </tr>\n",
       "  </tbody>\n",
       "</table>\n",
       "</div>"
      ],
      "text/plain": [
       "                     InvoiceNo   Quantity  UnitPrice    Revenue    CustomerID\n",
       "Country                                                                      \n",
       "Australia        554329.625000  33.125000     4.7125  143.78125  12399.250000\n",
       "Austria          552202.000000   8.000000     4.9500   39.60000  12414.000000\n",
       "Belgium          557600.000000   4.000000     4.9500   19.80000  12363.000000\n",
       "Channel Islands  561821.666667  13.333333     4.9500   66.00000  14934.000000\n",
       "Cyprus           553141.333333   2.333333     4.7500   10.95000  12373.333333"
      ]
     },
     "execution_count": 132,
     "metadata": {},
     "output_type": "execute_result"
    }
   ],
   "source": [
    "pb = pb.groupby('Country').mean(numeric_only=True)\n",
    "pbpb.head()"
   ]
  },
  {
   "cell_type": "code",
   "execution_count": 135,
   "metadata": {},
   "outputs": [
    {
     "data": {
      "text/html": [
       "<div>\n",
       "<style scoped>\n",
       "    .dataframe tbody tr th:only-of-type {\n",
       "        vertical-align: middle;\n",
       "    }\n",
       "\n",
       "    .dataframe tbody tr th {\n",
       "        vertical-align: top;\n",
       "    }\n",
       "\n",
       "    .dataframe thead th {\n",
       "        text-align: right;\n",
       "    }\n",
       "</style>\n",
       "<table border=\"1\" class=\"dataframe\">\n",
       "  <thead>\n",
       "    <tr style=\"text-align: right;\">\n",
       "      <th></th>\n",
       "      <th>Quantity</th>\n",
       "      <th>Revenue</th>\n",
       "    </tr>\n",
       "    <tr>\n",
       "      <th>Country</th>\n",
       "      <th></th>\n",
       "      <th></th>\n",
       "    </tr>\n",
       "  </thead>\n",
       "  <tbody>\n",
       "    <tr>\n",
       "      <th>Australia</th>\n",
       "      <td>33.125000</td>\n",
       "      <td>143.781250</td>\n",
       "    </tr>\n",
       "    <tr>\n",
       "      <th>Austria</th>\n",
       "      <td>8.000000</td>\n",
       "      <td>39.600000</td>\n",
       "    </tr>\n",
       "    <tr>\n",
       "      <th>Belgium</th>\n",
       "      <td>4.000000</td>\n",
       "      <td>19.800000</td>\n",
       "    </tr>\n",
       "    <tr>\n",
       "      <th>Channel Islands</th>\n",
       "      <td>13.333333</td>\n",
       "      <td>66.000000</td>\n",
       "    </tr>\n",
       "    <tr>\n",
       "      <th>Cyprus</th>\n",
       "      <td>2.333333</td>\n",
       "      <td>10.950000</td>\n",
       "    </tr>\n",
       "    <tr>\n",
       "      <th>Denmark</th>\n",
       "      <td>12.000000</td>\n",
       "      <td>59.400000</td>\n",
       "    </tr>\n",
       "    <tr>\n",
       "      <th>EIRE</th>\n",
       "      <td>21.210526</td>\n",
       "      <td>90.676316</td>\n",
       "    </tr>\n",
       "    <tr>\n",
       "      <th>Finland</th>\n",
       "      <td>6.000000</td>\n",
       "      <td>29.700000</td>\n",
       "    </tr>\n",
       "    <tr>\n",
       "      <th>France</th>\n",
       "      <td>5.727273</td>\n",
       "      <td>28.213636</td>\n",
       "    </tr>\n",
       "    <tr>\n",
       "      <th>Germany</th>\n",
       "      <td>6.800000</td>\n",
       "      <td>33.060000</td>\n",
       "    </tr>\n",
       "    <tr>\n",
       "      <th>Israel</th>\n",
       "      <td>1.000000</td>\n",
       "      <td>4.950000</td>\n",
       "    </tr>\n",
       "    <tr>\n",
       "      <th>Japan</th>\n",
       "      <td>56.666667</td>\n",
       "      <td>225.166667</td>\n",
       "    </tr>\n",
       "    <tr>\n",
       "      <th>Lebanon</th>\n",
       "      <td>15.000000</td>\n",
       "      <td>69.750000</td>\n",
       "    </tr>\n",
       "    <tr>\n",
       "      <th>Netherlands</th>\n",
       "      <td>50.000000</td>\n",
       "      <td>207.500000</td>\n",
       "    </tr>\n",
       "    <tr>\n",
       "      <th>Norway</th>\n",
       "      <td>6.000000</td>\n",
       "      <td>29.700000</td>\n",
       "    </tr>\n",
       "    <tr>\n",
       "      <th>Singapore</th>\n",
       "      <td>8.000000</td>\n",
       "      <td>39.600000</td>\n",
       "    </tr>\n",
       "    <tr>\n",
       "      <th>South Africa</th>\n",
       "      <td>4.000000</td>\n",
       "      <td>19.800000</td>\n",
       "    </tr>\n",
       "    <tr>\n",
       "      <th>Spain</th>\n",
       "      <td>4.750000</td>\n",
       "      <td>23.100000</td>\n",
       "    </tr>\n",
       "    <tr>\n",
       "      <th>Switzerland</th>\n",
       "      <td>17.200000</td>\n",
       "      <td>77.140000</td>\n",
       "    </tr>\n",
       "    <tr>\n",
       "      <th>United Kingdom</th>\n",
       "      <td>10.705432</td>\n",
       "      <td>48.285677</td>\n",
       "    </tr>\n",
       "  </tbody>\n",
       "</table>\n",
       "</div>"
      ],
      "text/plain": [
       "                  Quantity     Revenue\n",
       "Country                               \n",
       "Australia        33.125000  143.781250\n",
       "Austria           8.000000   39.600000\n",
       "Belgium           4.000000   19.800000\n",
       "Channel Islands  13.333333   66.000000\n",
       "Cyprus            2.333333   10.950000\n",
       "Denmark          12.000000   59.400000\n",
       "EIRE             21.210526   90.676316\n",
       "Finland           6.000000   29.700000\n",
       "France            5.727273   28.213636\n",
       "Germany           6.800000   33.060000\n",
       "Israel            1.000000    4.950000\n",
       "Japan            56.666667  225.166667\n",
       "Lebanon          15.000000   69.750000\n",
       "Netherlands      50.000000  207.500000\n",
       "Norway            6.000000   29.700000\n",
       "Singapore         8.000000   39.600000\n",
       "South Africa      4.000000   19.800000\n",
       "Spain             4.750000   23.100000\n",
       "Switzerland      17.200000   77.140000\n",
       "United Kingdom   10.705432   48.285677"
      ]
     },
     "execution_count": 135,
     "metadata": {},
     "output_type": "execute_result"
    }
   ],
   "source": [
    "pb2 = pb[[\"Quantity\",\"Revenue\"]]\n",
    "pb2"
   ]
  },
  {
   "cell_type": "code",
   "execution_count": 137,
   "metadata": {},
   "outputs": [
    {
     "data": {
      "application/vnd.plotly.v1+json": {
       "config": {
        "linkText": "Export to plot.ly",
        "plotlyServerURL": "https://plot.ly",
        "showLink": true
       },
       "data": [
        {
         "marker": {
          "color": "rgba(55, 128, 191, 1.0)",
          "line": {
           "width": 1.3
          },
          "opacity": 0.8,
          "size": 12,
          "symbol": "circle"
         },
         "mode": "markers",
         "name": "United Kingdom",
         "textfont": {
          "color": "#4D5663"
         },
         "type": "scatter",
         "x": [
          5,
          2,
          1,
          5,
          1,
          5,
          50,
          5,
          1,
          50,
          5,
          5,
          3,
          5,
          5,
          10,
          1,
          1,
          3,
          60,
          5,
          50,
          3,
          15,
          5,
          4,
          1,
          6,
          3,
          6,
          15,
          3,
          5,
          5,
          4,
          5,
          10,
          1,
          4,
          5,
          5,
          10,
          11,
          2,
          5,
          5,
          5,
          6,
          1,
          50,
          1,
          1,
          3,
          50,
          5,
          5,
          5,
          2,
          10,
          100,
          2,
          5,
          5,
          6,
          4,
          50,
          1,
          6,
          12,
          1,
          5,
          1,
          6,
          2,
          3,
          4,
          4,
          30,
          5,
          2,
          100,
          8,
          3,
          1,
          4,
          5,
          1,
          4,
          20,
          1,
          100,
          4,
          12,
          5,
          2,
          8,
          5,
          4,
          6,
          4,
          50,
          4,
          4,
          4,
          4,
          4,
          12,
          4,
          8,
          1,
          20,
          5,
          2,
          4,
          4,
          4,
          4,
          4,
          5,
          5,
          4,
          12,
          5,
          50,
          16,
          4,
          4,
          2,
          1,
          2,
          6,
          4,
          4,
          1,
          8,
          2,
          8,
          2,
          3,
          4,
          2,
          4,
          12,
          4,
          4,
          4,
          4,
          50,
          1,
          2,
          4,
          4,
          1,
          50,
          8,
          12,
          1,
          1,
          4,
          8,
          4,
          24,
          4,
          12,
          4,
          20,
          5,
          2,
          12,
          2,
          4,
          2,
          150,
          4,
          2,
          4,
          4,
          8,
          4,
          4,
          50,
          4,
          6,
          60,
          2,
          50,
          4,
          4,
          4,
          6,
          6,
          4,
          4,
          24,
          4,
          24,
          3,
          1,
          1,
          1,
          2,
          10,
          100,
          8,
          4,
          4,
          8,
          2,
          1,
          2,
          4,
          6,
          2,
          5,
          1,
          36,
          8,
          4,
          12,
          1,
          4,
          4,
          8,
          4,
          50,
          12,
          8,
          2,
          4,
          4,
          50,
          2,
          5,
          50,
          4,
          1,
          12,
          2,
          2,
          1,
          6,
          6,
          4,
          12,
          12,
          1,
          2,
          2,
          2,
          2,
          8,
          4,
          2,
          5,
          8,
          1,
          1,
          12,
          3,
          8,
          4,
          4,
          7,
          3,
          4,
          50,
          50,
          4,
          2,
          8,
          4,
          4,
          4,
          4,
          4,
          4,
          16,
          100,
          16,
          5,
          3,
          5,
          8,
          3,
          2,
          2,
          4,
          4,
          12,
          4,
          4,
          50,
          4,
          4,
          8,
          4,
          50,
          4,
          1,
          4,
          50,
          2,
          4,
          4,
          4,
          12,
          2,
          4,
          4,
          4,
          4,
          12,
          4,
          16,
          4,
          4,
          15,
          12,
          8,
          50,
          8,
          4,
          7,
          5,
          4,
          4,
          4,
          12,
          3,
          4,
          12,
          4,
          8,
          50,
          6,
          2,
          4,
          3,
          2,
          4,
          9,
          1,
          4,
          4,
          4,
          5,
          60,
          8,
          8,
          4,
          60,
          4,
          4,
          50,
          12,
          8,
          4,
          4,
          12,
          1,
          4,
          4,
          50,
          4,
          100,
          8,
          4,
          6,
          4,
          4,
          4,
          5,
          4,
          4,
          18,
          10,
          4,
          4,
          3,
          4,
          1,
          2,
          4,
          1,
          3,
          2,
          12,
          8,
          50,
          8,
          4,
          8,
          4,
          4,
          3,
          6,
          6,
          4,
          4,
          50,
          4,
          50,
          8,
          12,
          8,
          3,
          3,
          8,
          1,
          8,
          100,
          6,
          60,
          3,
          1,
          1,
          4,
          10,
          20,
          4,
          100,
          12,
          2,
          4,
          4,
          2,
          1,
          8,
          4,
          24,
          4,
          50,
          25,
          4,
          12,
          8,
          2,
          150,
          12,
          4,
          5,
          3,
          1,
          4,
          4,
          1,
          8,
          4,
          50,
          8,
          4,
          50,
          12,
          4,
          16,
          4,
          4,
          1,
          3,
          12,
          5,
          50,
          150,
          2,
          1,
          1,
          1,
          16,
          8,
          4,
          12,
          4,
          8,
          8,
          2,
          1,
          4,
          4,
          6,
          1,
          5,
          4,
          4,
          16,
          10,
          50,
          4,
          4,
          4,
          1,
          1,
          60,
          4,
          4,
          4,
          3,
          12,
          8,
          50,
          2,
          8,
          4,
          4,
          8,
          4,
          4,
          4,
          4,
          4,
          4,
          36,
          4,
          4,
          2,
          4,
          8,
          4,
          12,
          8,
          8,
          1,
          4,
          4,
          4,
          8,
          12,
          8,
          50,
          8,
          4,
          8,
          50,
          4,
          24,
          8,
          24,
          1,
          12,
          4,
          1,
          3,
          2,
          4,
          3,
          20,
          1,
          20,
          2,
          3,
          2,
          12,
          100,
          4,
          50,
          2,
          4,
          4,
          12,
          8,
          5,
          50,
          12,
          4,
          8,
          4,
          150,
          8,
          4,
          8,
          8,
          4,
          8,
          4,
          8,
          3,
          3,
          10,
          8,
          4,
          50,
          50,
          4,
          3,
          50,
          4,
          3,
          1,
          8,
          50,
          4,
          50,
          5,
          6,
          2,
          6,
          14,
          12,
          8,
          12,
          3,
          1,
          100,
          4,
          3,
          4,
          4,
          8,
          4,
          4,
          2,
          4,
          4,
          2,
          1,
          8,
          4,
          4,
          4,
          8,
          1,
          4,
          6,
          4,
          4,
          8,
          4,
          2,
          12,
          8,
          4,
          4,
          1,
          4,
          4,
          3,
          2,
          8,
          8,
          4,
          2,
          60,
          50,
          1,
          6,
          4,
          50,
          12,
          1,
          1,
          16,
          5,
          3,
          12,
          4,
          1,
          4,
          4,
          8,
          8,
          2,
          3,
          12,
          6,
          8,
          10,
          5,
          6,
          5,
          2,
          2,
          2,
          4,
          8,
          3,
          8,
          8,
          4,
          50,
          4,
          4,
          4,
          3,
          16,
          50,
          1,
          4,
          9,
          8,
          20,
          4,
          8,
          4,
          8,
          4,
          4,
          12,
          50,
          1,
          8,
          1,
          4,
          2,
          24,
          6,
          8,
          5,
          12,
          5,
          1,
          8,
          4,
          2,
          1,
          8,
          150,
          4,
          24,
          4,
          100,
          8,
          2,
          8,
          3,
          4,
          50,
          16,
          1,
          2,
          12,
          8,
          4,
          4,
          4,
          12,
          8,
          4,
          1,
          4,
          2,
          1,
          4,
          8,
          20,
          50,
          8,
          1,
          1,
          8,
          3,
          1,
          16,
          4,
          2,
          4,
          4,
          1,
          10,
          8,
          4,
          8,
          1,
          4,
          4,
          8,
          4,
          8,
          8,
          8,
          4,
          1,
          11,
          12,
          8,
          4,
          5,
          4,
          50,
          8,
          8,
          4,
          6,
          50,
          1,
          8,
          12,
          8,
          10,
          50,
          8,
          2,
          12,
          12,
          4,
          4,
          200,
          12,
          3,
          50,
          2,
          12,
          4,
          4,
          4,
          4,
          4,
          12,
          150,
          4,
          4,
          8,
          2,
          50,
          50,
          2,
          12,
          8,
          12,
          8,
          4,
          4,
          4,
          8,
          4,
          4,
          8,
          8,
          5,
          8,
          4,
          8,
          3,
          1,
          8,
          4,
          1,
          4,
          8,
          2,
          50,
          8,
          1,
          3,
          2,
          4,
          4,
          4,
          12,
          2,
          50,
          12,
          2,
          4,
          8,
          24,
          16,
          10,
          8,
          24,
          60,
          1,
          2,
          4,
          5,
          24,
          60,
          150,
          4,
          24,
          4,
          100,
          4,
          50,
          8,
          4,
          2,
          2,
          6,
          8,
          4,
          4,
          4,
          12,
          8,
          4,
          8,
          4,
          8,
          4,
          12,
          2,
          3,
          8,
          50,
          12,
          2,
          20,
          16,
          12,
          4,
          50,
          3,
          4,
          8,
          8,
          4,
          4,
          4,
          4,
          2,
          4,
          4,
          4,
          1,
          16,
          4,
          1,
          6,
          12,
          2,
          12,
          8,
          4,
          1,
          12,
          8,
          12,
          3,
          8,
          8,
          8,
          50,
          2,
          3,
          150,
          2,
          8,
          5,
          3,
          3,
          4,
          2,
          4,
          2,
          16,
          4,
          8,
          20,
          4,
          12,
          6,
          2,
          2,
          8,
          16,
          50,
          4,
          4,
          2,
          4,
          8,
          4,
          4,
          4,
          4,
          8,
          4,
          8,
          8,
          1,
          7,
          4,
          4,
          20,
          4,
          7,
          16,
          50,
          12,
          4,
          6,
          12,
          10,
          4,
          1,
          8,
          4,
          16,
          2,
          12,
          8,
          12,
          2,
          8,
          3,
          8,
          2,
          12,
          4,
          4,
          3,
          4,
          4,
          6,
          2,
          6,
          8,
          4,
          50,
          3,
          4,
          4,
          50,
          4,
          2,
          4,
          2,
          6,
          4,
          4,
          100,
          4,
          1,
          8,
          4,
          12,
          8,
          4,
          1,
          1,
          4,
          24,
          2,
          12,
          18,
          4,
          8,
          6,
          8,
          8,
          4,
          4,
          5,
          2,
          2,
          2,
          8,
          4,
          8,
          4,
          12,
          6,
          4,
          3,
          4,
          8,
          50,
          4,
          4,
          4,
          4,
          4,
          1,
          2,
          20,
          2,
          2,
          1,
          2,
          10,
          4,
          2,
          2,
          4,
          2,
          4,
          50,
          8,
          3,
          4,
          8,
          4,
          1,
          8,
          4,
          4,
          4,
          2,
          150,
          4,
          7,
          1,
          2,
          2,
          3,
          7,
          4,
          4,
          4,
          4,
          4,
          4,
          10,
          7,
          4,
          4,
          12,
          4,
          5,
          1,
          3,
          2,
          4,
          8,
          4,
          2,
          1,
          4,
          4,
          4,
          4,
          7,
          15,
          4,
          4,
          4,
          50,
          4,
          8,
          4,
          1,
          4,
          4,
          3,
          4,
          4,
          4,
          4,
          4,
          5,
          8,
          4,
          5,
          2,
          4,
          2,
          2,
          4,
          3,
          4,
          4,
          8,
          4,
          8,
          4,
          4,
          4,
          4,
          4,
          4,
          3,
          4,
          4,
          8,
          8,
          1,
          4,
          4,
          4,
          3,
          8,
          18,
          3,
          2,
          4,
          8,
          4,
          4,
          4,
          4,
          4,
          4,
          1,
          16,
          4,
          5,
          3,
          6,
          6,
          2,
          1,
          2,
          8,
          100,
          4,
          5,
          4,
          2,
          2,
          4,
          1,
          8,
          3,
          12,
          1,
          3,
          1,
          1,
          12,
          4,
          8,
          4,
          2,
          1,
          4,
          10,
          2,
          12,
          4,
          5,
          12,
          8,
          4,
          1,
          4,
          8,
          4,
          24,
          2,
          5,
          2,
          4,
          1,
          4,
          1,
          3,
          4,
          4,
          2,
          3,
          1,
          3,
          12,
          4,
          8,
          2,
          8,
          3,
          4,
          1,
          24,
          12,
          2,
          4,
          3,
          2,
          1,
          3,
          3,
          50,
          1,
          4,
          3,
          1,
          4,
          12,
          4,
          2,
          4,
          2,
          4,
          16,
          150,
          150,
          1,
          6,
          12,
          8,
          4,
          1,
          50,
          4,
          1,
          4,
          4,
          4,
          2,
          6,
          3,
          1,
          4,
          4,
          6,
          4,
          4,
          7,
          10,
          8,
          6,
          3,
          1,
          12,
          2,
          4,
          3,
          5,
          8,
          1
         ],
         "y": [
          4.65,
          4.65,
          4.65,
          4.65,
          4.65,
          4.65,
          3.75,
          4.65,
          4.65,
          3.75,
          4.65,
          4.65,
          4.65,
          4.65,
          4.65,
          4.65,
          4.65,
          4.65,
          4.65,
          3.75,
          4.65,
          3.75,
          4.65,
          4.65,
          4.65,
          4.65,
          4.65,
          4.65,
          4.65,
          4.65,
          4.65,
          4.65,
          4.65,
          4.65,
          4.65,
          4.65,
          4.65,
          4.65,
          4.65,
          4.65,
          4.65,
          4.65,
          4.65,
          4.65,
          4.65,
          4.65,
          4.65,
          4.65,
          4.65,
          3.75,
          4.65,
          4.65,
          4.65,
          3.75,
          4.65,
          4.65,
          4.65,
          4.65,
          4.65,
          3.75,
          4.65,
          4.65,
          4.65,
          4.65,
          4.65,
          4.15,
          4.95,
          4.95,
          4.95,
          4.95,
          4.95,
          4.95,
          4.95,
          4.95,
          4.95,
          4.95,
          4.95,
          4.95,
          4.65,
          4.95,
          3.75,
          4.95,
          4.95,
          4.95,
          4.95,
          4.95,
          4.95,
          4.95,
          4.95,
          4.95,
          4.15,
          4.95,
          4.95,
          4.95,
          4.95,
          4.95,
          4.95,
          4.95,
          4.95,
          4.95,
          4.15,
          4.95,
          4.95,
          4.95,
          4.95,
          4.95,
          4.95,
          4.95,
          4.95,
          4.95,
          4.95,
          4.95,
          4.95,
          4.95,
          4.95,
          4.95,
          4.95,
          4.95,
          4.95,
          4.95,
          4.95,
          4.95,
          4.95,
          4.15,
          4.95,
          4.95,
          4.95,
          4.95,
          4.95,
          4.95,
          4.95,
          4.95,
          4.95,
          4.95,
          4.95,
          4.95,
          4.95,
          4.95,
          4.95,
          4.95,
          4.95,
          4.95,
          4.95,
          4.95,
          4.95,
          4.95,
          4.95,
          4.15,
          4.95,
          4.95,
          4.95,
          4.95,
          4.95,
          3.75,
          4.95,
          4.95,
          4.95,
          4.95,
          4.95,
          4.95,
          4.95,
          4.95,
          4.95,
          4.95,
          4.95,
          4.95,
          4.95,
          4.95,
          4.95,
          4.95,
          4.95,
          4.95,
          4.15,
          4.95,
          4.95,
          4.95,
          4.95,
          4.95,
          4.95,
          4.95,
          4.15,
          4.95,
          4.95,
          4.15,
          4.95,
          4.15,
          4.95,
          4.95,
          4.95,
          4.95,
          4.95,
          4.95,
          4.95,
          4.95,
          4.95,
          4.95,
          4.95,
          4.95,
          4.95,
          4.95,
          4.95,
          4.95,
          4.15,
          4.95,
          4.95,
          4.95,
          4.95,
          4.95,
          4.95,
          4.95,
          4.95,
          4.95,
          4.95,
          4.95,
          4.95,
          4.95,
          4.95,
          4.95,
          4.95,
          4.95,
          4.95,
          4.95,
          4.95,
          4.95,
          4.15,
          4.95,
          4.95,
          4.95,
          4.95,
          4.95,
          4.15,
          4.95,
          4.95,
          4.15,
          4.95,
          4.95,
          4.95,
          4.95,
          4.95,
          4.95,
          4.95,
          4.95,
          4.95,
          4.95,
          4.95,
          4.95,
          4.95,
          4.95,
          4.95,
          4.95,
          4.95,
          4.95,
          4.95,
          4.95,
          4.95,
          4.95,
          4.95,
          4.95,
          4.95,
          4.95,
          4.95,
          4.95,
          4.95,
          4.95,
          4.95,
          4.15,
          4.15,
          4.95,
          4.95,
          4.95,
          4.95,
          4.95,
          4.95,
          4.95,
          4.95,
          4.95,
          4.95,
          3.75,
          4.95,
          4.95,
          4.95,
          4.95,
          4.95,
          4.95,
          4.95,
          4.95,
          4.95,
          4.95,
          4.95,
          4.95,
          4.95,
          4.15,
          4.95,
          4.95,
          4.95,
          4.95,
          4.15,
          4.95,
          4.95,
          4.95,
          4.15,
          4.95,
          4.95,
          4.95,
          4.95,
          4.95,
          4.95,
          4.95,
          4.95,
          4.95,
          4.95,
          4.95,
          4.95,
          4.95,
          4.95,
          4.95,
          4.95,
          4.95,
          4.95,
          4.15,
          4.95,
          4.95,
          4.95,
          4.95,
          4.95,
          4.95,
          4.95,
          4.95,
          4.95,
          4.95,
          4.95,
          4.95,
          4.95,
          4.15,
          4.95,
          4.95,
          4.95,
          4.95,
          4.95,
          4.95,
          4.95,
          4.95,
          4.95,
          4.95,
          4.95,
          4.95,
          4.15,
          4.95,
          4.95,
          4.95,
          4.15,
          4.95,
          4.95,
          4.15,
          4.95,
          4.95,
          4.95,
          4.95,
          4.95,
          4.95,
          4.95,
          4.95,
          4.15,
          4.95,
          4.15,
          4.95,
          4.95,
          4.95,
          4.95,
          4.95,
          4.95,
          4.95,
          4.95,
          4.95,
          4.95,
          4.95,
          4.95,
          4.95,
          4.95,
          4.95,
          4.95,
          4.95,
          4.95,
          4.95,
          4.95,
          4.95,
          4.95,
          4.95,
          4.15,
          4.95,
          4.95,
          4.95,
          4.95,
          4.95,
          4.95,
          4.95,
          4.95,
          4.95,
          4.95,
          4.15,
          4.95,
          3.75,
          4.95,
          4.95,
          4.95,
          4.95,
          4.95,
          4.95,
          4.95,
          4.95,
          4.15,
          4.95,
          4.15,
          4.95,
          4.95,
          4.95,
          4.95,
          4.95,
          4.95,
          4.95,
          4.15,
          4.95,
          4.95,
          4.95,
          4.95,
          4.95,
          4.95,
          4.95,
          4.95,
          4.95,
          4.95,
          4.15,
          4.95,
          4.95,
          4.95,
          4.95,
          4.95,
          4.15,
          4.95,
          4.95,
          4.95,
          4.95,
          4.95,
          4.95,
          4.95,
          4.95,
          4.95,
          4.95,
          4.15,
          4.95,
          4.95,
          4.15,
          4.95,
          4.95,
          4.95,
          4.95,
          4.95,
          4.95,
          4.95,
          4.95,
          4.95,
          4.15,
          4.15,
          4.95,
          4.95,
          4.95,
          4.95,
          4.95,
          4.95,
          4.95,
          4.95,
          4.95,
          4.95,
          4.95,
          4.95,
          4.95,
          4.95,
          4.95,
          4.95,
          4.95,
          4.95,
          4.95,
          4.95,
          4.95,
          4.95,
          4.15,
          4.95,
          4.95,
          4.95,
          4.95,
          4.95,
          4.15,
          4.95,
          4.95,
          4.95,
          4.95,
          4.95,
          4.95,
          4.15,
          4.95,
          4.95,
          4.95,
          4.95,
          4.95,
          4.95,
          4.95,
          4.95,
          4.95,
          4.95,
          4.95,
          4.95,
          4.95,
          4.95,
          4.95,
          4.95,
          4.95,
          4.95,
          4.95,
          4.95,
          4.95,
          4.95,
          4.95,
          4.95,
          4.95,
          4.95,
          4.95,
          4.95,
          4.15,
          4.95,
          4.95,
          4.95,
          4.15,
          4.95,
          4.95,
          4.95,
          4.95,
          4.95,
          4.95,
          4.95,
          4.95,
          4.95,
          4.95,
          4.95,
          4.95,
          4.95,
          4.95,
          4.95,
          4.95,
          4.95,
          4.95,
          4.95,
          4.15,
          4.95,
          4.15,
          4.95,
          4.95,
          4.95,
          4.95,
          4.95,
          4.95,
          4.15,
          4.95,
          4.95,
          4.95,
          4.95,
          4.15,
          4.95,
          4.95,
          4.95,
          4.95,
          4.95,
          4.95,
          4.95,
          4.95,
          4.95,
          4.95,
          4.95,
          4.95,
          4.95,
          4.15,
          4.15,
          4.95,
          4.95,
          4.15,
          4.95,
          4.95,
          4.95,
          4.95,
          4.15,
          4.95,
          4.15,
          4.95,
          4.95,
          4.95,
          4.95,
          4.95,
          4.95,
          4.95,
          4.95,
          4.95,
          4.95,
          4.15,
          4.95,
          4.95,
          4.95,
          4.95,
          4.95,
          4.95,
          4.95,
          4.95,
          4.95,
          4.95,
          4.95,
          4.95,
          4.95,
          4.95,
          4.95,
          4.95,
          4.95,
          4.95,
          4.95,
          4.95,
          4.95,
          4.95,
          4.95,
          4.95,
          4.95,
          4.95,
          4.95,
          4.95,
          4.95,
          4.95,
          4.95,
          4.95,
          4.95,
          4.95,
          4.95,
          4.95,
          4.95,
          4.95,
          4.15,
          4.15,
          4.95,
          4.95,
          4.95,
          4.15,
          4.95,
          4.95,
          4.95,
          4.95,
          4.95,
          4.95,
          4.95,
          4.95,
          4.95,
          4.95,
          4.95,
          4.95,
          4.95,
          4.95,
          4.95,
          4.95,
          4.95,
          4.95,
          4.95,
          4.95,
          4.95,
          4.95,
          4.95,
          4.95,
          4.95,
          4.95,
          4.95,
          4.95,
          4.95,
          4.95,
          4.95,
          4.15,
          4.95,
          4.95,
          4.95,
          4.95,
          4.95,
          4.15,
          4.95,
          4.95,
          4.95,
          4.95,
          4.95,
          4.95,
          4.95,
          4.95,
          4.95,
          4.95,
          4.95,
          4.95,
          4.15,
          4.95,
          4.95,
          4.95,
          4.95,
          4.95,
          4.95,
          4.95,
          4.95,
          4.95,
          4.95,
          4.95,
          4.95,
          4.95,
          4.95,
          4.95,
          4.95,
          4.95,
          4.15,
          4.95,
          4.95,
          4.95,
          3.75,
          4.95,
          4.95,
          4.95,
          4.95,
          4.95,
          4.15,
          4.95,
          4.95,
          4.95,
          4.95,
          4.95,
          4.95,
          4.95,
          4.95,
          4.95,
          4.95,
          4.95,
          4.95,
          4.95,
          4.95,
          4.95,
          4.95,
          4.95,
          4.95,
          4.15,
          4.95,
          4.95,
          4.95,
          4.95,
          4.95,
          4.95,
          4.95,
          4.95,
          4.95,
          4.95,
          4.95,
          4.95,
          4.95,
          4.95,
          4.95,
          4.95,
          4.95,
          4.95,
          4.95,
          4.95,
          4.95,
          4.95,
          4.95,
          4.95,
          4.95,
          4.95,
          4.95,
          4.95,
          4.95,
          4.95,
          4.95,
          4.95,
          4.15,
          4.95,
          4.95,
          4.95,
          4.95,
          4.15,
          4.95,
          4.95,
          4.95,
          4.95,
          4.95,
          4.15,
          4.95,
          4.95,
          4.95,
          4.95,
          4.95,
          4.95,
          4.15,
          4.95,
          4.95,
          4.15,
          4.95,
          4.95,
          4.95,
          4.95,
          4.95,
          4.95,
          4.95,
          4.95,
          4.15,
          4.95,
          4.95,
          4.95,
          4.95,
          4.15,
          4.15,
          4.95,
          4.95,
          4.95,
          4.95,
          4.95,
          4.95,
          4.95,
          4.95,
          4.95,
          4.95,
          4.95,
          4.95,
          4.95,
          4.95,
          4.95,
          4.95,
          4.95,
          4.95,
          4.95,
          4.95,
          4.95,
          4.95,
          4.95,
          4.95,
          4.95,
          4.15,
          4.95,
          4.95,
          4.95,
          4.95,
          4.95,
          4.95,
          4.95,
          4.95,
          4.95,
          4.15,
          4.95,
          4.95,
          4.95,
          4.95,
          4.95,
          4.95,
          4.95,
          4.95,
          4.95,
          4.15,
          4.95,
          4.95,
          4.95,
          4.95,
          4.95,
          4.15,
          4.15,
          4.95,
          4.95,
          4.95,
          4.3,
          4.95,
          4.15,
          4.95,
          4.95,
          4.95,
          4.95,
          4.95,
          4.95,
          4.95,
          4.95,
          4.95,
          4.95,
          4.95,
          4.95,
          4.95,
          4.95,
          4.95,
          4.95,
          4.95,
          4.95,
          4.95,
          4.95,
          4.15,
          4.95,
          4.95,
          4.95,
          4.95,
          4.95,
          4.95,
          4.15,
          4.95,
          4.95,
          4.95,
          4.95,
          4.95,
          4.95,
          4.95,
          4.95,
          4.95,
          4.95,
          4.95,
          4.95,
          4.95,
          4.95,
          4.95,
          4.95,
          4.95,
          4.95,
          4.95,
          4.95,
          4.95,
          4.95,
          4.95,
          4.95,
          4.95,
          4.95,
          4.95,
          4.95,
          4.95,
          4.95,
          4.15,
          4.95,
          4.95,
          4.15,
          4.95,
          4.95,
          4.95,
          4.95,
          4.95,
          4.95,
          4.95,
          4.95,
          4.95,
          4.95,
          4.95,
          4.95,
          4.95,
          4.95,
          4.95,
          4.95,
          4.95,
          4.95,
          4.95,
          4.95,
          4.15,
          4.95,
          4.95,
          4.95,
          4.95,
          4.95,
          4.95,
          4.95,
          4.95,
          4.95,
          4.95,
          4.95,
          4.95,
          4.95,
          4.95,
          4.95,
          4.95,
          4.95,
          4.95,
          4.95,
          4.95,
          4.95,
          4.15,
          4.95,
          4.95,
          4.95,
          4.95,
          4.95,
          4.95,
          4.95,
          4.95,
          4.95,
          4.95,
          4.95,
          4.95,
          4.95,
          4.95,
          4.95,
          4.95,
          4.95,
          4.95,
          4.95,
          4.95,
          4.95,
          4.95,
          4.95,
          4.95,
          4.95,
          4.95,
          4.95,
          4.95,
          4.95,
          4.95,
          4.15,
          4.95,
          4.95,
          4.95,
          4.15,
          4.95,
          4.95,
          4.95,
          4.95,
          4.95,
          4.95,
          4.95,
          4.15,
          4.95,
          4.95,
          4.95,
          4.95,
          4.95,
          4.95,
          4.95,
          4.95,
          4.95,
          4.95,
          4.95,
          4.95,
          4.95,
          4.95,
          4.95,
          4.95,
          4.95,
          4.95,
          4.95,
          4.95,
          4.95,
          4.95,
          4.95,
          4.95,
          4.95,
          4.95,
          4.95,
          4.95,
          4.95,
          4.95,
          4.95,
          4.95,
          4.95,
          4.95,
          4.95,
          4.15,
          4.95,
          4.95,
          4.95,
          4.95,
          4.95,
          4.95,
          4.95,
          4.95,
          4.95,
          4.95,
          4.95,
          4.95,
          4.95,
          4.95,
          4.95,
          4.95,
          4.95,
          4.95,
          4.95,
          4.15,
          4.95,
          4.95,
          4.95,
          4.95,
          4.95,
          4.95,
          4.95,
          4.95,
          4.95,
          4.95,
          4.95,
          4.15,
          4.95,
          4.95,
          4.95,
          4.95,
          4.95,
          4.95,
          4.95,
          4.95,
          4.95,
          4.95,
          4.95,
          4.95,
          4.95,
          4.15,
          4.95,
          4.95,
          4.95,
          4.95,
          4.95,
          4.95,
          4.95,
          4.95,
          4.95,
          4.95,
          4.95,
          4.95,
          4.95,
          4.95,
          4.95,
          4.95,
          4.95,
          4.95,
          4.95,
          4.95,
          4.95,
          4.95,
          4.95,
          4.15,
          4.95,
          4.95,
          4.95,
          4.95,
          4.95,
          4.95,
          4.95,
          4.95,
          4.95,
          4.95,
          4.95,
          4.95,
          4.95,
          4.95,
          4.95,
          4.95,
          4.95,
          4.95,
          4.95,
          4.95,
          4.95,
          10.79,
          4.95,
          4.95,
          4.95,
          4.95,
          4.95,
          4.95,
          4.95,
          4.95,
          4.95,
          4.95,
          4.95,
          4.95,
          4.95,
          4.95,
          4.95,
          4.95,
          4.95,
          4.95,
          4.95,
          4.95,
          4.95,
          4.95,
          4.95,
          4.95,
          4.95,
          4.95,
          4.95,
          4.95,
          4.95,
          4.95,
          4.95,
          4.95,
          4.95,
          4.95,
          4.95,
          4.95,
          4.95,
          4.95,
          4.95,
          4.95,
          4.95,
          4.95,
          4.95,
          4.95,
          4.3,
          4.95,
          4.95,
          4.95,
          4.95,
          4.95,
          4.95,
          4.95,
          4.95,
          4.95,
          4.95,
          4.95,
          4.95,
          4.95,
          4.95,
          4.95,
          4.95,
          4.95,
          4.95,
          4.95,
          4.95,
          4.95,
          4.95,
          4.95,
          4.95,
          4.95,
          4.95,
          4.95,
          4.95,
          4.95,
          4.95,
          4.95,
          4.95,
          4.95,
          4.95,
          4.95,
          4.15,
          4.95,
          4.95,
          4.95,
          4.95,
          4.95,
          4.95,
          4.95,
          4.95,
          4.95,
          4.95,
          4.95,
          4.95,
          4.95,
          4.95,
          4.95,
          4.95,
          4.95,
          4.95,
          4.95,
          4.95,
          4.95,
          4.95,
          4.95,
          4.95,
          4.95,
          4.95,
          4.95,
          4.95,
          4.95,
          4.15,
          4.95,
          4.95,
          4.95,
          4.95,
          4.95,
          4.95,
          4.95,
          4.95,
          4.95,
          4.95,
          4.95,
          4.95,
          4.15,
          4.15,
          4.95,
          10.79,
          4.95,
          4.95,
          4.95,
          4.95,
          4.15,
          4.95,
          4.95,
          4.95,
          4.95,
          4.95,
          4.95,
          4.95,
          10.79,
          4.95,
          4.95,
          4.95,
          4.95,
          4.95,
          4.95,
          4.95,
          4.95,
          4.95,
          4.95,
          4.95,
          4.95,
          4.95,
          4.95,
          4.95,
          4.95,
          4.95,
          4.95,
          4.95
         ]
        },
        {
         "marker": {
          "color": "rgba(55, 128, 191, 0.96)",
          "line": {
           "width": 1.3
          },
          "opacity": 0.8,
          "size": 12,
          "symbol": "circle"
         },
         "mode": "markers",
         "name": "France",
         "textfont": {
          "color": "#4D5663"
         },
         "type": "scatter",
         "x": [
          5,
          5,
          10,
          12,
          2,
          12,
          4,
          4,
          4,
          4,
          12,
          8,
          4,
          4,
          4,
          4,
          4,
          4,
          4,
          4,
          4,
          8
         ],
         "y": [
          4.65,
          4.65,
          4.95,
          4.95,
          4.95,
          4.95,
          4.95,
          4.95,
          4.95,
          4.95,
          4.95,
          4.95,
          4.95,
          4.95,
          4.95,
          4.95,
          4.95,
          4.95,
          4.95,
          4.95,
          4.95,
          4.95
         ]
        },
        {
         "marker": {
          "color": "rgba(55, 128, 191, 0.9199999999999999)",
          "line": {
           "width": 1.3
          },
          "opacity": 0.8,
          "size": 12,
          "symbol": "circle"
         },
         "mode": "markers",
         "name": "Spain",
         "textfont": {
          "color": "#4D5663"
         },
         "type": "scatter",
         "x": [
          1,
          5,
          5,
          8,
          4,
          3,
          4,
          8
         ],
         "y": [
          4.65,
          4.65,
          4.65,
          4.95,
          4.95,
          4.95,
          4.95,
          4.95
         ]
        },
        {
         "marker": {
          "color": "rgba(55, 128, 191, 0.8799999999999999)",
          "line": {
           "width": 1.3
          },
          "opacity": 0.8,
          "size": 12,
          "symbol": "circle"
         },
         "mode": "markers",
         "name": "Japan",
         "textfont": {
          "color": "#4D5663"
         },
         "type": "scatter",
         "x": [
          20,
          100,
          50
         ],
         "y": [
          4.65,
          3.75,
          4.15
         ]
        },
        {
         "marker": {
          "color": "rgba(55, 128, 191, 0.8399999999999999)",
          "line": {
           "width": 1.3
          },
          "opacity": 0.8,
          "size": 12,
          "symbol": "circle"
         },
         "mode": "markers",
         "name": "Cyprus",
         "textfont": {
          "color": "#4D5663"
         },
         "type": "scatter",
         "x": [
          1,
          5,
          1
         ],
         "y": [
          4.65,
          4.65,
          4.95
         ]
        },
        {
         "marker": {
          "color": "rgba(55, 128, 191, 0.8)",
          "line": {
           "width": 1.3
          },
          "opacity": 0.8,
          "size": 12,
          "symbol": "circle"
         },
         "mode": "markers",
         "name": "Australia",
         "textfont": {
          "color": "#4D5663"
         },
         "type": "scatter",
         "x": [
          5,
          4,
          12,
          100,
          24,
          8,
          100,
          12
         ],
         "y": [
          4.65,
          4.95,
          4.95,
          4.15,
          4.95,
          4.95,
          4.15,
          4.95
         ]
        },
        {
         "marker": {
          "color": "rgba(55, 128, 191, 0.76)",
          "line": {
           "width": 1.3
          },
          "opacity": 0.8,
          "size": 12,
          "symbol": "circle"
         },
         "mode": "markers",
         "name": "Germany",
         "textfont": {
          "color": "#4D5663"
         },
         "type": "scatter",
         "x": [
          10,
          4,
          4,
          8,
          8
         ],
         "y": [
          4.65,
          4.95,
          4.95,
          4.95,
          4.95
         ]
        },
        {
         "marker": {
          "color": "rgba(55, 128, 191, 0.72)",
          "line": {
           "width": 1.3
          },
          "opacity": 0.8,
          "size": 12,
          "symbol": "circle"
         },
         "mode": "markers",
         "name": "Lebanon",
         "textfont": {
          "color": "#4D5663"
         },
         "type": "scatter",
         "x": [
          15
         ],
         "y": [
          4.65
         ]
        },
        {
         "marker": {
          "color": "rgba(55, 128, 191, 0.6799999999999999)",
          "line": {
           "width": 1.3
          },
          "opacity": 0.8,
          "size": 12,
          "symbol": "circle"
         },
         "mode": "markers",
         "name": "Finland",
         "textfont": {
          "color": "#4D5663"
         },
         "type": "scatter",
         "x": [
          4,
          8
         ],
         "y": [
          4.95,
          4.95
         ]
        },
        {
         "marker": {
          "color": "rgba(55, 128, 191, 0.6399999999999999)",
          "line": {
           "width": 1.3
          },
          "opacity": 0.8,
          "size": 12,
          "symbol": "circle"
         },
         "mode": "markers",
         "name": "Switzerland",
         "textfont": {
          "color": "#4D5663"
         },
         "type": "scatter",
         "x": [
          8,
          4,
          12,
          50,
          12
         ],
         "y": [
          4.95,
          4.95,
          4.95,
          4.15,
          4.95
         ]
        },
        {
         "marker": {
          "color": "rgba(55, 128, 191, 0.5999999999999999)",
          "line": {
           "width": 1.3
          },
          "opacity": 0.8,
          "size": 12,
          "symbol": "circle"
         },
         "mode": "markers",
         "name": "EIRE",
         "textfont": {
          "color": "#4D5663"
         },
         "type": "scatter",
         "x": [
          4,
          50,
          4,
          8,
          50,
          4,
          72,
          4,
          72,
          4,
          3,
          4,
          4,
          4,
          8,
          4,
          4,
          96,
          4
         ],
         "y": [
          4.95,
          4.15,
          4.95,
          4.95,
          4.15,
          4.95,
          4.15,
          4.95,
          4.15,
          4.95,
          4.95,
          4.95,
          4.95,
          4.95,
          4.95,
          4.95,
          4.95,
          4.15,
          4.95
         ]
        },
        {
         "marker": {
          "color": "rgba(55, 128, 191, 0.5599999999999998)",
          "line": {
           "width": 1.3
          },
          "opacity": 0.8,
          "size": 12,
          "symbol": "circle"
         },
         "mode": "markers",
         "name": "Belgium",
         "textfont": {
          "color": "#4D5663"
         },
         "type": "scatter",
         "x": [
          4,
          4
         ],
         "y": [
          4.95,
          4.95
         ]
        },
        {
         "marker": {
          "color": "rgba(55, 128, 191, 0.5199999999999998)",
          "line": {
           "width": 1.3
          },
          "opacity": 0.8,
          "size": 12,
          "symbol": "circle"
         },
         "mode": "markers",
         "name": "Austria",
         "textfont": {
          "color": "#4D5663"
         },
         "type": "scatter",
         "x": [
          8
         ],
         "y": [
          4.95
         ]
        },
        {
         "marker": {
          "color": "rgba(55, 128, 191, 0.4799999999999998)",
          "line": {
           "width": 1.3
          },
          "opacity": 0.8,
          "size": 12,
          "symbol": "circle"
         },
         "mode": "markers",
         "name": "Channel Islands",
         "textfont": {
          "color": "#4D5663"
         },
         "type": "scatter",
         "x": [
          12,
          4,
          24
         ],
         "y": [
          4.95,
          4.95,
          4.95
         ]
        },
        {
         "marker": {
          "color": "rgba(55, 128, 191, 0.44)",
          "line": {
           "width": 1.3
          },
          "opacity": 0.8,
          "size": 12,
          "symbol": "circle"
         },
         "mode": "markers",
         "name": "Denmark",
         "textfont": {
          "color": "#4D5663"
         },
         "type": "scatter",
         "x": [
          12
         ],
         "y": [
          4.95
         ]
        },
        {
         "marker": {
          "color": "rgba(55, 128, 191, 0.39999999999999997)",
          "line": {
           "width": 1.3
          },
          "opacity": 0.8,
          "size": 12,
          "symbol": "circle"
         },
         "mode": "markers",
         "name": "Singapore",
         "textfont": {
          "color": "#4D5663"
         },
         "type": "scatter",
         "x": [
          8
         ],
         "y": [
          4.95
         ]
        },
        {
         "marker": {
          "color": "rgba(55, 128, 191, 0.35999999999999993)",
          "line": {
           "width": 1.3
          },
          "opacity": 0.8,
          "size": 12,
          "symbol": "circle"
         },
         "mode": "markers",
         "name": "Netherlands",
         "textfont": {
          "color": "#4D5663"
         },
         "type": "scatter",
         "x": [
          50
         ],
         "y": [
          4.15
         ]
        },
        {
         "marker": {
          "color": "rgba(55, 128, 191, 0.3199999999999999)",
          "line": {
           "width": 1.3
          },
          "opacity": 0.8,
          "size": 12,
          "symbol": "circle"
         },
         "mode": "markers",
         "name": "Norway",
         "textfont": {
          "color": "#4D5663"
         },
         "type": "scatter",
         "x": [
          4,
          8
         ],
         "y": [
          4.95,
          4.95
         ]
        },
        {
         "marker": {
          "color": "rgba(55, 128, 191, 0.27999999999999986)",
          "line": {
           "width": 1.3
          },
          "opacity": 0.8,
          "size": 12,
          "symbol": "circle"
         },
         "mode": "markers",
         "name": "Israel",
         "textfont": {
          "color": "#4D5663"
         },
         "type": "scatter",
         "x": [
          1
         ],
         "y": [
          4.95
         ]
        },
        {
         "marker": {
          "color": "rgba(55, 128, 191, 0.23999999999999982)",
          "line": {
           "width": 1.3
          },
          "opacity": 0.8,
          "size": 12,
          "symbol": "circle"
         },
         "mode": "markers",
         "name": "South Africa",
         "textfont": {
          "color": "#4D5663"
         },
         "type": "scatter",
         "x": [
          4
         ],
         "y": [
          4.95
         ]
        }
       ],
       "layout": {
        "legend": {
         "bgcolor": "#F5F6F9",
         "font": {
          "color": "#4D5663"
         }
        },
        "paper_bgcolor": "#F5F6F9",
        "plot_bgcolor": "#F5F6F9",
        "template": {
         "data": {
          "bar": [
           {
            "error_x": {
             "color": "#2a3f5f"
            },
            "error_y": {
             "color": "#2a3f5f"
            },
            "marker": {
             "line": {
              "color": "#E5ECF6",
              "width": 0.5
             },
             "pattern": {
              "fillmode": "overlay",
              "size": 10,
              "solidity": 0.2
             }
            },
            "type": "bar"
           }
          ],
          "barpolar": [
           {
            "marker": {
             "line": {
              "color": "#E5ECF6",
              "width": 0.5
             },
             "pattern": {
              "fillmode": "overlay",
              "size": 10,
              "solidity": 0.2
             }
            },
            "type": "barpolar"
           }
          ],
          "carpet": [
           {
            "aaxis": {
             "endlinecolor": "#2a3f5f",
             "gridcolor": "white",
             "linecolor": "white",
             "minorgridcolor": "white",
             "startlinecolor": "#2a3f5f"
            },
            "baxis": {
             "endlinecolor": "#2a3f5f",
             "gridcolor": "white",
             "linecolor": "white",
             "minorgridcolor": "white",
             "startlinecolor": "#2a3f5f"
            },
            "type": "carpet"
           }
          ],
          "choropleth": [
           {
            "colorbar": {
             "outlinewidth": 0,
             "ticks": ""
            },
            "type": "choropleth"
           }
          ],
          "contour": [
           {
            "colorbar": {
             "outlinewidth": 0,
             "ticks": ""
            },
            "colorscale": [
             [
              0,
              "#0d0887"
             ],
             [
              0.1111111111111111,
              "#46039f"
             ],
             [
              0.2222222222222222,
              "#7201a8"
             ],
             [
              0.3333333333333333,
              "#9c179e"
             ],
             [
              0.4444444444444444,
              "#bd3786"
             ],
             [
              0.5555555555555556,
              "#d8576b"
             ],
             [
              0.6666666666666666,
              "#ed7953"
             ],
             [
              0.7777777777777778,
              "#fb9f3a"
             ],
             [
              0.8888888888888888,
              "#fdca26"
             ],
             [
              1,
              "#f0f921"
             ]
            ],
            "type": "contour"
           }
          ],
          "contourcarpet": [
           {
            "colorbar": {
             "outlinewidth": 0,
             "ticks": ""
            },
            "type": "contourcarpet"
           }
          ],
          "heatmap": [
           {
            "colorbar": {
             "outlinewidth": 0,
             "ticks": ""
            },
            "colorscale": [
             [
              0,
              "#0d0887"
             ],
             [
              0.1111111111111111,
              "#46039f"
             ],
             [
              0.2222222222222222,
              "#7201a8"
             ],
             [
              0.3333333333333333,
              "#9c179e"
             ],
             [
              0.4444444444444444,
              "#bd3786"
             ],
             [
              0.5555555555555556,
              "#d8576b"
             ],
             [
              0.6666666666666666,
              "#ed7953"
             ],
             [
              0.7777777777777778,
              "#fb9f3a"
             ],
             [
              0.8888888888888888,
              "#fdca26"
             ],
             [
              1,
              "#f0f921"
             ]
            ],
            "type": "heatmap"
           }
          ],
          "heatmapgl": [
           {
            "colorbar": {
             "outlinewidth": 0,
             "ticks": ""
            },
            "colorscale": [
             [
              0,
              "#0d0887"
             ],
             [
              0.1111111111111111,
              "#46039f"
             ],
             [
              0.2222222222222222,
              "#7201a8"
             ],
             [
              0.3333333333333333,
              "#9c179e"
             ],
             [
              0.4444444444444444,
              "#bd3786"
             ],
             [
              0.5555555555555556,
              "#d8576b"
             ],
             [
              0.6666666666666666,
              "#ed7953"
             ],
             [
              0.7777777777777778,
              "#fb9f3a"
             ],
             [
              0.8888888888888888,
              "#fdca26"
             ],
             [
              1,
              "#f0f921"
             ]
            ],
            "type": "heatmapgl"
           }
          ],
          "histogram": [
           {
            "marker": {
             "pattern": {
              "fillmode": "overlay",
              "size": 10,
              "solidity": 0.2
             }
            },
            "type": "histogram"
           }
          ],
          "histogram2d": [
           {
            "colorbar": {
             "outlinewidth": 0,
             "ticks": ""
            },
            "colorscale": [
             [
              0,
              "#0d0887"
             ],
             [
              0.1111111111111111,
              "#46039f"
             ],
             [
              0.2222222222222222,
              "#7201a8"
             ],
             [
              0.3333333333333333,
              "#9c179e"
             ],
             [
              0.4444444444444444,
              "#bd3786"
             ],
             [
              0.5555555555555556,
              "#d8576b"
             ],
             [
              0.6666666666666666,
              "#ed7953"
             ],
             [
              0.7777777777777778,
              "#fb9f3a"
             ],
             [
              0.8888888888888888,
              "#fdca26"
             ],
             [
              1,
              "#f0f921"
             ]
            ],
            "type": "histogram2d"
           }
          ],
          "histogram2dcontour": [
           {
            "colorbar": {
             "outlinewidth": 0,
             "ticks": ""
            },
            "colorscale": [
             [
              0,
              "#0d0887"
             ],
             [
              0.1111111111111111,
              "#46039f"
             ],
             [
              0.2222222222222222,
              "#7201a8"
             ],
             [
              0.3333333333333333,
              "#9c179e"
             ],
             [
              0.4444444444444444,
              "#bd3786"
             ],
             [
              0.5555555555555556,
              "#d8576b"
             ],
             [
              0.6666666666666666,
              "#ed7953"
             ],
             [
              0.7777777777777778,
              "#fb9f3a"
             ],
             [
              0.8888888888888888,
              "#fdca26"
             ],
             [
              1,
              "#f0f921"
             ]
            ],
            "type": "histogram2dcontour"
           }
          ],
          "mesh3d": [
           {
            "colorbar": {
             "outlinewidth": 0,
             "ticks": ""
            },
            "type": "mesh3d"
           }
          ],
          "parcoords": [
           {
            "line": {
             "colorbar": {
              "outlinewidth": 0,
              "ticks": ""
             }
            },
            "type": "parcoords"
           }
          ],
          "pie": [
           {
            "automargin": true,
            "type": "pie"
           }
          ],
          "scatter": [
           {
            "fillpattern": {
             "fillmode": "overlay",
             "size": 10,
             "solidity": 0.2
            },
            "type": "scatter"
           }
          ],
          "scatter3d": [
           {
            "line": {
             "colorbar": {
              "outlinewidth": 0,
              "ticks": ""
             }
            },
            "marker": {
             "colorbar": {
              "outlinewidth": 0,
              "ticks": ""
             }
            },
            "type": "scatter3d"
           }
          ],
          "scattercarpet": [
           {
            "marker": {
             "colorbar": {
              "outlinewidth": 0,
              "ticks": ""
             }
            },
            "type": "scattercarpet"
           }
          ],
          "scattergeo": [
           {
            "marker": {
             "colorbar": {
              "outlinewidth": 0,
              "ticks": ""
             }
            },
            "type": "scattergeo"
           }
          ],
          "scattergl": [
           {
            "marker": {
             "colorbar": {
              "outlinewidth": 0,
              "ticks": ""
             }
            },
            "type": "scattergl"
           }
          ],
          "scattermapbox": [
           {
            "marker": {
             "colorbar": {
              "outlinewidth": 0,
              "ticks": ""
             }
            },
            "type": "scattermapbox"
           }
          ],
          "scatterpolar": [
           {
            "marker": {
             "colorbar": {
              "outlinewidth": 0,
              "ticks": ""
             }
            },
            "type": "scatterpolar"
           }
          ],
          "scatterpolargl": [
           {
            "marker": {
             "colorbar": {
              "outlinewidth": 0,
              "ticks": ""
             }
            },
            "type": "scatterpolargl"
           }
          ],
          "scatterternary": [
           {
            "marker": {
             "colorbar": {
              "outlinewidth": 0,
              "ticks": ""
             }
            },
            "type": "scatterternary"
           }
          ],
          "surface": [
           {
            "colorbar": {
             "outlinewidth": 0,
             "ticks": ""
            },
            "colorscale": [
             [
              0,
              "#0d0887"
             ],
             [
              0.1111111111111111,
              "#46039f"
             ],
             [
              0.2222222222222222,
              "#7201a8"
             ],
             [
              0.3333333333333333,
              "#9c179e"
             ],
             [
              0.4444444444444444,
              "#bd3786"
             ],
             [
              0.5555555555555556,
              "#d8576b"
             ],
             [
              0.6666666666666666,
              "#ed7953"
             ],
             [
              0.7777777777777778,
              "#fb9f3a"
             ],
             [
              0.8888888888888888,
              "#fdca26"
             ],
             [
              1,
              "#f0f921"
             ]
            ],
            "type": "surface"
           }
          ],
          "table": [
           {
            "cells": {
             "fill": {
              "color": "#EBF0F8"
             },
             "line": {
              "color": "white"
             }
            },
            "header": {
             "fill": {
              "color": "#C8D4E3"
             },
             "line": {
              "color": "white"
             }
            },
            "type": "table"
           }
          ]
         },
         "layout": {
          "annotationdefaults": {
           "arrowcolor": "#2a3f5f",
           "arrowhead": 0,
           "arrowwidth": 1
          },
          "autotypenumbers": "strict",
          "coloraxis": {
           "colorbar": {
            "outlinewidth": 0,
            "ticks": ""
           }
          },
          "colorscale": {
           "diverging": [
            [
             0,
             "#8e0152"
            ],
            [
             0.1,
             "#c51b7d"
            ],
            [
             0.2,
             "#de77ae"
            ],
            [
             0.3,
             "#f1b6da"
            ],
            [
             0.4,
             "#fde0ef"
            ],
            [
             0.5,
             "#f7f7f7"
            ],
            [
             0.6,
             "#e6f5d0"
            ],
            [
             0.7,
             "#b8e186"
            ],
            [
             0.8,
             "#7fbc41"
            ],
            [
             0.9,
             "#4d9221"
            ],
            [
             1,
             "#276419"
            ]
           ],
           "sequential": [
            [
             0,
             "#0d0887"
            ],
            [
             0.1111111111111111,
             "#46039f"
            ],
            [
             0.2222222222222222,
             "#7201a8"
            ],
            [
             0.3333333333333333,
             "#9c179e"
            ],
            [
             0.4444444444444444,
             "#bd3786"
            ],
            [
             0.5555555555555556,
             "#d8576b"
            ],
            [
             0.6666666666666666,
             "#ed7953"
            ],
            [
             0.7777777777777778,
             "#fb9f3a"
            ],
            [
             0.8888888888888888,
             "#fdca26"
            ],
            [
             1,
             "#f0f921"
            ]
           ],
           "sequentialminus": [
            [
             0,
             "#0d0887"
            ],
            [
             0.1111111111111111,
             "#46039f"
            ],
            [
             0.2222222222222222,
             "#7201a8"
            ],
            [
             0.3333333333333333,
             "#9c179e"
            ],
            [
             0.4444444444444444,
             "#bd3786"
            ],
            [
             0.5555555555555556,
             "#d8576b"
            ],
            [
             0.6666666666666666,
             "#ed7953"
            ],
            [
             0.7777777777777778,
             "#fb9f3a"
            ],
            [
             0.8888888888888888,
             "#fdca26"
            ],
            [
             1,
             "#f0f921"
            ]
           ]
          },
          "colorway": [
           "#636efa",
           "#EF553B",
           "#00cc96",
           "#ab63fa",
           "#FFA15A",
           "#19d3f3",
           "#FF6692",
           "#B6E880",
           "#FF97FF",
           "#FECB52"
          ],
          "font": {
           "color": "#2a3f5f"
          },
          "geo": {
           "bgcolor": "white",
           "lakecolor": "white",
           "landcolor": "#E5ECF6",
           "showlakes": true,
           "showland": true,
           "subunitcolor": "white"
          },
          "hoverlabel": {
           "align": "left"
          },
          "hovermode": "closest",
          "mapbox": {
           "style": "light"
          },
          "paper_bgcolor": "white",
          "plot_bgcolor": "#E5ECF6",
          "polar": {
           "angularaxis": {
            "gridcolor": "white",
            "linecolor": "white",
            "ticks": ""
           },
           "bgcolor": "#E5ECF6",
           "radialaxis": {
            "gridcolor": "white",
            "linecolor": "white",
            "ticks": ""
           }
          },
          "scene": {
           "xaxis": {
            "backgroundcolor": "#E5ECF6",
            "gridcolor": "white",
            "gridwidth": 2,
            "linecolor": "white",
            "showbackground": true,
            "ticks": "",
            "zerolinecolor": "white"
           },
           "yaxis": {
            "backgroundcolor": "#E5ECF6",
            "gridcolor": "white",
            "gridwidth": 2,
            "linecolor": "white",
            "showbackground": true,
            "ticks": "",
            "zerolinecolor": "white"
           },
           "zaxis": {
            "backgroundcolor": "#E5ECF6",
            "gridcolor": "white",
            "gridwidth": 2,
            "linecolor": "white",
            "showbackground": true,
            "ticks": "",
            "zerolinecolor": "white"
           }
          },
          "shapedefaults": {
           "line": {
            "color": "#2a3f5f"
           }
          },
          "ternary": {
           "aaxis": {
            "gridcolor": "white",
            "linecolor": "white",
            "ticks": ""
           },
           "baxis": {
            "gridcolor": "white",
            "linecolor": "white",
            "ticks": ""
           },
           "bgcolor": "#E5ECF6",
           "caxis": {
            "gridcolor": "white",
            "linecolor": "white",
            "ticks": ""
           }
          },
          "title": {
           "x": 0.05
          },
          "xaxis": {
           "automargin": true,
           "gridcolor": "white",
           "linecolor": "white",
           "ticks": "",
           "title": {
            "standoff": 15
           },
           "zerolinecolor": "white",
           "zerolinewidth": 2
          },
          "yaxis": {
           "automargin": true,
           "gridcolor": "white",
           "linecolor": "white",
           "ticks": "",
           "title": {
            "standoff": 15
           },
           "zerolinecolor": "white",
           "zerolinewidth": 2
          }
         }
        },
        "title": {
         "font": {
          "color": "#4D5663"
         },
         "text": "Relationship between average Qty and average unit price for PARTY BUNTING"
        },
        "xaxis": {
         "gridcolor": "#E1E5ED",
         "showgrid": true,
         "tickfont": {
          "color": "#4D5663"
         },
         "title": {
          "font": {
           "color": "#4D5663"
          },
          "text": "Avg quantity"
         },
         "zerolinecolor": "#E1E5ED"
        },
        "yaxis": {
         "gridcolor": "#E1E5ED",
         "showgrid": true,
         "tickfont": {
          "color": "#4D5663"
         },
         "title": {
          "font": {
           "color": "#4D5663"
          },
          "text": "Avg unitPrice"
         },
         "zerolinecolor": "#E1E5ED"
        }
       }
      },
      "text/html": [
       "<div>                            <div id=\"8df91dbf-eec8-4932-810f-09292d2e3e84\" class=\"plotly-graph-div\" style=\"height:525px; width:100%;\"></div>            <script type=\"text/javascript\">                require([\"plotly\"], function(Plotly) {                    window.PLOTLYENV=window.PLOTLYENV || {};\n",
       "                    window.PLOTLYENV.BASE_URL='https://plot.ly';                                    if (document.getElementById(\"8df91dbf-eec8-4932-810f-09292d2e3e84\")) {                    Plotly.newPlot(                        \"8df91dbf-eec8-4932-810f-09292d2e3e84\",                        [{\"marker\":{\"color\":\"rgba(55, 128, 191, 1.0)\",\"line\":{\"width\":1.3},\"opacity\":0.8,\"size\":12,\"symbol\":\"circle\"},\"mode\":\"markers\",\"name\":\"United Kingdom\",\"textfont\":{\"color\":\"#4D5663\"},\"x\":[5,2,1,5,1,5,50,5,1,50,5,5,3,5,5,10,1,1,3,60,5,50,3,15,5,4,1,6,3,6,15,3,5,5,4,5,10,1,4,5,5,10,11,2,5,5,5,6,1,50,1,1,3,50,5,5,5,2,10,100,2,5,5,6,4,50,1,6,12,1,5,1,6,2,3,4,4,30,5,2,100,8,3,1,4,5,1,4,20,1,100,4,12,5,2,8,5,4,6,4,50,4,4,4,4,4,12,4,8,1,20,5,2,4,4,4,4,4,5,5,4,12,5,50,16,4,4,2,1,2,6,4,4,1,8,2,8,2,3,4,2,4,12,4,4,4,4,50,1,2,4,4,1,50,8,12,1,1,4,8,4,24,4,12,4,20,5,2,12,2,4,2,150,4,2,4,4,8,4,4,50,4,6,60,2,50,4,4,4,6,6,4,4,24,4,24,3,1,1,1,2,10,100,8,4,4,8,2,1,2,4,6,2,5,1,36,8,4,12,1,4,4,8,4,50,12,8,2,4,4,50,2,5,50,4,1,12,2,2,1,6,6,4,12,12,1,2,2,2,2,8,4,2,5,8,1,1,12,3,8,4,4,7,3,4,50,50,4,2,8,4,4,4,4,4,4,16,100,16,5,3,5,8,3,2,2,4,4,12,4,4,50,4,4,8,4,50,4,1,4,50,2,4,4,4,12,2,4,4,4,4,12,4,16,4,4,15,12,8,50,8,4,7,5,4,4,4,12,3,4,12,4,8,50,6,2,4,3,2,4,9,1,4,4,4,5,60,8,8,4,60,4,4,50,12,8,4,4,12,1,4,4,50,4,100,8,4,6,4,4,4,5,4,4,18,10,4,4,3,4,1,2,4,1,3,2,12,8,50,8,4,8,4,4,3,6,6,4,4,50,4,50,8,12,8,3,3,8,1,8,100,6,60,3,1,1,4,10,20,4,100,12,2,4,4,2,1,8,4,24,4,50,25,4,12,8,2,150,12,4,5,3,1,4,4,1,8,4,50,8,4,50,12,4,16,4,4,1,3,12,5,50,150,2,1,1,1,16,8,4,12,4,8,8,2,1,4,4,6,1,5,4,4,16,10,50,4,4,4,1,1,60,4,4,4,3,12,8,50,2,8,4,4,8,4,4,4,4,4,4,36,4,4,2,4,8,4,12,8,8,1,4,4,4,8,12,8,50,8,4,8,50,4,24,8,24,1,12,4,1,3,2,4,3,20,1,20,2,3,2,12,100,4,50,2,4,4,12,8,5,50,12,4,8,4,150,8,4,8,8,4,8,4,8,3,3,10,8,4,50,50,4,3,50,4,3,1,8,50,4,50,5,6,2,6,14,12,8,12,3,1,100,4,3,4,4,8,4,4,2,4,4,2,1,8,4,4,4,8,1,4,6,4,4,8,4,2,12,8,4,4,1,4,4,3,2,8,8,4,2,60,50,1,6,4,50,12,1,1,16,5,3,12,4,1,4,4,8,8,2,3,12,6,8,10,5,6,5,2,2,2,4,8,3,8,8,4,50,4,4,4,3,16,50,1,4,9,8,20,4,8,4,8,4,4,12,50,1,8,1,4,2,24,6,8,5,12,5,1,8,4,2,1,8,150,4,24,4,100,8,2,8,3,4,50,16,1,2,12,8,4,4,4,12,8,4,1,4,2,1,4,8,20,50,8,1,1,8,3,1,16,4,2,4,4,1,10,8,4,8,1,4,4,8,4,8,8,8,4,1,11,12,8,4,5,4,50,8,8,4,6,50,1,8,12,8,10,50,8,2,12,12,4,4,200,12,3,50,2,12,4,4,4,4,4,12,150,4,4,8,2,50,50,2,12,8,12,8,4,4,4,8,4,4,8,8,5,8,4,8,3,1,8,4,1,4,8,2,50,8,1,3,2,4,4,4,12,2,50,12,2,4,8,24,16,10,8,24,60,1,2,4,5,24,60,150,4,24,4,100,4,50,8,4,2,2,6,8,4,4,4,12,8,4,8,4,8,4,12,2,3,8,50,12,2,20,16,12,4,50,3,4,8,8,4,4,4,4,2,4,4,4,1,16,4,1,6,12,2,12,8,4,1,12,8,12,3,8,8,8,50,2,3,150,2,8,5,3,3,4,2,4,2,16,4,8,20,4,12,6,2,2,8,16,50,4,4,2,4,8,4,4,4,4,8,4,8,8,1,7,4,4,20,4,7,16,50,12,4,6,12,10,4,1,8,4,16,2,12,8,12,2,8,3,8,2,12,4,4,3,4,4,6,2,6,8,4,50,3,4,4,50,4,2,4,2,6,4,4,100,4,1,8,4,12,8,4,1,1,4,24,2,12,18,4,8,6,8,8,4,4,5,2,2,2,8,4,8,4,12,6,4,3,4,8,50,4,4,4,4,4,1,2,20,2,2,1,2,10,4,2,2,4,2,4,50,8,3,4,8,4,1,8,4,4,4,2,150,4,7,1,2,2,3,7,4,4,4,4,4,4,10,7,4,4,12,4,5,1,3,2,4,8,4,2,1,4,4,4,4,7,15,4,4,4,50,4,8,4,1,4,4,3,4,4,4,4,4,5,8,4,5,2,4,2,2,4,3,4,4,8,4,8,4,4,4,4,4,4,3,4,4,8,8,1,4,4,4,3,8,18,3,2,4,8,4,4,4,4,4,4,1,16,4,5,3,6,6,2,1,2,8,100,4,5,4,2,2,4,1,8,3,12,1,3,1,1,12,4,8,4,2,1,4,10,2,12,4,5,12,8,4,1,4,8,4,24,2,5,2,4,1,4,1,3,4,4,2,3,1,3,12,4,8,2,8,3,4,1,24,12,2,4,3,2,1,3,3,50,1,4,3,1,4,12,4,2,4,2,4,16,150,150,1,6,12,8,4,1,50,4,1,4,4,4,2,6,3,1,4,4,6,4,4,7,10,8,6,3,1,12,2,4,3,5,8,1],\"y\":[4.65,4.65,4.65,4.65,4.65,4.65,3.75,4.65,4.65,3.75,4.65,4.65,4.65,4.65,4.65,4.65,4.65,4.65,4.65,3.75,4.65,3.75,4.65,4.65,4.65,4.65,4.65,4.65,4.65,4.65,4.65,4.65,4.65,4.65,4.65,4.65,4.65,4.65,4.65,4.65,4.65,4.65,4.65,4.65,4.65,4.65,4.65,4.65,4.65,3.75,4.65,4.65,4.65,3.75,4.65,4.65,4.65,4.65,4.65,3.75,4.65,4.65,4.65,4.65,4.65,4.15,4.95,4.95,4.95,4.95,4.95,4.95,4.95,4.95,4.95,4.95,4.95,4.95,4.65,4.95,3.75,4.95,4.95,4.95,4.95,4.95,4.95,4.95,4.95,4.95,4.15,4.95,4.95,4.95,4.95,4.95,4.95,4.95,4.95,4.95,4.15,4.95,4.95,4.95,4.95,4.95,4.95,4.95,4.95,4.95,4.95,4.95,4.95,4.95,4.95,4.95,4.95,4.95,4.95,4.95,4.95,4.95,4.95,4.15,4.95,4.95,4.95,4.95,4.95,4.95,4.95,4.95,4.95,4.95,4.95,4.95,4.95,4.95,4.95,4.95,4.95,4.95,4.95,4.95,4.95,4.95,4.95,4.15,4.95,4.95,4.95,4.95,4.95,3.75,4.95,4.95,4.95,4.95,4.95,4.95,4.95,4.95,4.95,4.95,4.95,4.95,4.95,4.95,4.95,4.95,4.95,4.95,4.15,4.95,4.95,4.95,4.95,4.95,4.95,4.95,4.15,4.95,4.95,4.15,4.95,4.15,4.95,4.95,4.95,4.95,4.95,4.95,4.95,4.95,4.95,4.95,4.95,4.95,4.95,4.95,4.95,4.95,4.15,4.95,4.95,4.95,4.95,4.95,4.95,4.95,4.95,4.95,4.95,4.95,4.95,4.95,4.95,4.95,4.95,4.95,4.95,4.95,4.95,4.95,4.15,4.95,4.95,4.95,4.95,4.95,4.15,4.95,4.95,4.15,4.95,4.95,4.95,4.95,4.95,4.95,4.95,4.95,4.95,4.95,4.95,4.95,4.95,4.95,4.95,4.95,4.95,4.95,4.95,4.95,4.95,4.95,4.95,4.95,4.95,4.95,4.95,4.95,4.95,4.95,4.95,4.15,4.15,4.95,4.95,4.95,4.95,4.95,4.95,4.95,4.95,4.95,4.95,3.75,4.95,4.95,4.95,4.95,4.95,4.95,4.95,4.95,4.95,4.95,4.95,4.95,4.95,4.15,4.95,4.95,4.95,4.95,4.15,4.95,4.95,4.95,4.15,4.95,4.95,4.95,4.95,4.95,4.95,4.95,4.95,4.95,4.95,4.95,4.95,4.95,4.95,4.95,4.95,4.95,4.95,4.15,4.95,4.95,4.95,4.95,4.95,4.95,4.95,4.95,4.95,4.95,4.95,4.95,4.95,4.15,4.95,4.95,4.95,4.95,4.95,4.95,4.95,4.95,4.95,4.95,4.95,4.95,4.15,4.95,4.95,4.95,4.15,4.95,4.95,4.15,4.95,4.95,4.95,4.95,4.95,4.95,4.95,4.95,4.15,4.95,4.15,4.95,4.95,4.95,4.95,4.95,4.95,4.95,4.95,4.95,4.95,4.95,4.95,4.95,4.95,4.95,4.95,4.95,4.95,4.95,4.95,4.95,4.95,4.95,4.15,4.95,4.95,4.95,4.95,4.95,4.95,4.95,4.95,4.95,4.95,4.15,4.95,3.75,4.95,4.95,4.95,4.95,4.95,4.95,4.95,4.95,4.15,4.95,4.15,4.95,4.95,4.95,4.95,4.95,4.95,4.95,4.15,4.95,4.95,4.95,4.95,4.95,4.95,4.95,4.95,4.95,4.95,4.15,4.95,4.95,4.95,4.95,4.95,4.15,4.95,4.95,4.95,4.95,4.95,4.95,4.95,4.95,4.95,4.95,4.15,4.95,4.95,4.15,4.95,4.95,4.95,4.95,4.95,4.95,4.95,4.95,4.95,4.15,4.15,4.95,4.95,4.95,4.95,4.95,4.95,4.95,4.95,4.95,4.95,4.95,4.95,4.95,4.95,4.95,4.95,4.95,4.95,4.95,4.95,4.95,4.95,4.15,4.95,4.95,4.95,4.95,4.95,4.15,4.95,4.95,4.95,4.95,4.95,4.95,4.15,4.95,4.95,4.95,4.95,4.95,4.95,4.95,4.95,4.95,4.95,4.95,4.95,4.95,4.95,4.95,4.95,4.95,4.95,4.95,4.95,4.95,4.95,4.95,4.95,4.95,4.95,4.95,4.95,4.15,4.95,4.95,4.95,4.15,4.95,4.95,4.95,4.95,4.95,4.95,4.95,4.95,4.95,4.95,4.95,4.95,4.95,4.95,4.95,4.95,4.95,4.95,4.95,4.15,4.95,4.15,4.95,4.95,4.95,4.95,4.95,4.95,4.15,4.95,4.95,4.95,4.95,4.15,4.95,4.95,4.95,4.95,4.95,4.95,4.95,4.95,4.95,4.95,4.95,4.95,4.95,4.15,4.15,4.95,4.95,4.15,4.95,4.95,4.95,4.95,4.15,4.95,4.15,4.95,4.95,4.95,4.95,4.95,4.95,4.95,4.95,4.95,4.95,4.15,4.95,4.95,4.95,4.95,4.95,4.95,4.95,4.95,4.95,4.95,4.95,4.95,4.95,4.95,4.95,4.95,4.95,4.95,4.95,4.95,4.95,4.95,4.95,4.95,4.95,4.95,4.95,4.95,4.95,4.95,4.95,4.95,4.95,4.95,4.95,4.95,4.95,4.95,4.15,4.15,4.95,4.95,4.95,4.15,4.95,4.95,4.95,4.95,4.95,4.95,4.95,4.95,4.95,4.95,4.95,4.95,4.95,4.95,4.95,4.95,4.95,4.95,4.95,4.95,4.95,4.95,4.95,4.95,4.95,4.95,4.95,4.95,4.95,4.95,4.95,4.15,4.95,4.95,4.95,4.95,4.95,4.15,4.95,4.95,4.95,4.95,4.95,4.95,4.95,4.95,4.95,4.95,4.95,4.95,4.15,4.95,4.95,4.95,4.95,4.95,4.95,4.95,4.95,4.95,4.95,4.95,4.95,4.95,4.95,4.95,4.95,4.95,4.15,4.95,4.95,4.95,3.75,4.95,4.95,4.95,4.95,4.95,4.15,4.95,4.95,4.95,4.95,4.95,4.95,4.95,4.95,4.95,4.95,4.95,4.95,4.95,4.95,4.95,4.95,4.95,4.95,4.15,4.95,4.95,4.95,4.95,4.95,4.95,4.95,4.95,4.95,4.95,4.95,4.95,4.95,4.95,4.95,4.95,4.95,4.95,4.95,4.95,4.95,4.95,4.95,4.95,4.95,4.95,4.95,4.95,4.95,4.95,4.95,4.95,4.15,4.95,4.95,4.95,4.95,4.15,4.95,4.95,4.95,4.95,4.95,4.15,4.95,4.95,4.95,4.95,4.95,4.95,4.15,4.95,4.95,4.15,4.95,4.95,4.95,4.95,4.95,4.95,4.95,4.95,4.15,4.95,4.95,4.95,4.95,4.15,4.15,4.95,4.95,4.95,4.95,4.95,4.95,4.95,4.95,4.95,4.95,4.95,4.95,4.95,4.95,4.95,4.95,4.95,4.95,4.95,4.95,4.95,4.95,4.95,4.95,4.95,4.15,4.95,4.95,4.95,4.95,4.95,4.95,4.95,4.95,4.95,4.15,4.95,4.95,4.95,4.95,4.95,4.95,4.95,4.95,4.95,4.15,4.95,4.95,4.95,4.95,4.95,4.15,4.15,4.95,4.95,4.95,4.3,4.95,4.15,4.95,4.95,4.95,4.95,4.95,4.95,4.95,4.95,4.95,4.95,4.95,4.95,4.95,4.95,4.95,4.95,4.95,4.95,4.95,4.95,4.15,4.95,4.95,4.95,4.95,4.95,4.95,4.15,4.95,4.95,4.95,4.95,4.95,4.95,4.95,4.95,4.95,4.95,4.95,4.95,4.95,4.95,4.95,4.95,4.95,4.95,4.95,4.95,4.95,4.95,4.95,4.95,4.95,4.95,4.95,4.95,4.95,4.95,4.15,4.95,4.95,4.15,4.95,4.95,4.95,4.95,4.95,4.95,4.95,4.95,4.95,4.95,4.95,4.95,4.95,4.95,4.95,4.95,4.95,4.95,4.95,4.95,4.15,4.95,4.95,4.95,4.95,4.95,4.95,4.95,4.95,4.95,4.95,4.95,4.95,4.95,4.95,4.95,4.95,4.95,4.95,4.95,4.95,4.95,4.15,4.95,4.95,4.95,4.95,4.95,4.95,4.95,4.95,4.95,4.95,4.95,4.95,4.95,4.95,4.95,4.95,4.95,4.95,4.95,4.95,4.95,4.95,4.95,4.95,4.95,4.95,4.95,4.95,4.95,4.95,4.15,4.95,4.95,4.95,4.15,4.95,4.95,4.95,4.95,4.95,4.95,4.95,4.15,4.95,4.95,4.95,4.95,4.95,4.95,4.95,4.95,4.95,4.95,4.95,4.95,4.95,4.95,4.95,4.95,4.95,4.95,4.95,4.95,4.95,4.95,4.95,4.95,4.95,4.95,4.95,4.95,4.95,4.95,4.95,4.95,4.95,4.95,4.95,4.15,4.95,4.95,4.95,4.95,4.95,4.95,4.95,4.95,4.95,4.95,4.95,4.95,4.95,4.95,4.95,4.95,4.95,4.95,4.95,4.15,4.95,4.95,4.95,4.95,4.95,4.95,4.95,4.95,4.95,4.95,4.95,4.15,4.95,4.95,4.95,4.95,4.95,4.95,4.95,4.95,4.95,4.95,4.95,4.95,4.95,4.15,4.95,4.95,4.95,4.95,4.95,4.95,4.95,4.95,4.95,4.95,4.95,4.95,4.95,4.95,4.95,4.95,4.95,4.95,4.95,4.95,4.95,4.95,4.95,4.15,4.95,4.95,4.95,4.95,4.95,4.95,4.95,4.95,4.95,4.95,4.95,4.95,4.95,4.95,4.95,4.95,4.95,4.95,4.95,4.95,4.95,10.79,4.95,4.95,4.95,4.95,4.95,4.95,4.95,4.95,4.95,4.95,4.95,4.95,4.95,4.95,4.95,4.95,4.95,4.95,4.95,4.95,4.95,4.95,4.95,4.95,4.95,4.95,4.95,4.95,4.95,4.95,4.95,4.95,4.95,4.95,4.95,4.95,4.95,4.95,4.95,4.95,4.95,4.95,4.95,4.95,4.3,4.95,4.95,4.95,4.95,4.95,4.95,4.95,4.95,4.95,4.95,4.95,4.95,4.95,4.95,4.95,4.95,4.95,4.95,4.95,4.95,4.95,4.95,4.95,4.95,4.95,4.95,4.95,4.95,4.95,4.95,4.95,4.95,4.95,4.95,4.95,4.15,4.95,4.95,4.95,4.95,4.95,4.95,4.95,4.95,4.95,4.95,4.95,4.95,4.95,4.95,4.95,4.95,4.95,4.95,4.95,4.95,4.95,4.95,4.95,4.95,4.95,4.95,4.95,4.95,4.95,4.15,4.95,4.95,4.95,4.95,4.95,4.95,4.95,4.95,4.95,4.95,4.95,4.95,4.15,4.15,4.95,10.79,4.95,4.95,4.95,4.95,4.15,4.95,4.95,4.95,4.95,4.95,4.95,4.95,10.79,4.95,4.95,4.95,4.95,4.95,4.95,4.95,4.95,4.95,4.95,4.95,4.95,4.95,4.95,4.95,4.95,4.95,4.95,4.95],\"type\":\"scatter\"},{\"marker\":{\"color\":\"rgba(55, 128, 191, 0.96)\",\"line\":{\"width\":1.3},\"opacity\":0.8,\"size\":12,\"symbol\":\"circle\"},\"mode\":\"markers\",\"name\":\"France\",\"textfont\":{\"color\":\"#4D5663\"},\"x\":[5,5,10,12,2,12,4,4,4,4,12,8,4,4,4,4,4,4,4,4,4,8],\"y\":[4.65,4.65,4.95,4.95,4.95,4.95,4.95,4.95,4.95,4.95,4.95,4.95,4.95,4.95,4.95,4.95,4.95,4.95,4.95,4.95,4.95,4.95],\"type\":\"scatter\"},{\"marker\":{\"color\":\"rgba(55, 128, 191, 0.9199999999999999)\",\"line\":{\"width\":1.3},\"opacity\":0.8,\"size\":12,\"symbol\":\"circle\"},\"mode\":\"markers\",\"name\":\"Spain\",\"textfont\":{\"color\":\"#4D5663\"},\"x\":[1,5,5,8,4,3,4,8],\"y\":[4.65,4.65,4.65,4.95,4.95,4.95,4.95,4.95],\"type\":\"scatter\"},{\"marker\":{\"color\":\"rgba(55, 128, 191, 0.8799999999999999)\",\"line\":{\"width\":1.3},\"opacity\":0.8,\"size\":12,\"symbol\":\"circle\"},\"mode\":\"markers\",\"name\":\"Japan\",\"textfont\":{\"color\":\"#4D5663\"},\"x\":[20,100,50],\"y\":[4.65,3.75,4.15],\"type\":\"scatter\"},{\"marker\":{\"color\":\"rgba(55, 128, 191, 0.8399999999999999)\",\"line\":{\"width\":1.3},\"opacity\":0.8,\"size\":12,\"symbol\":\"circle\"},\"mode\":\"markers\",\"name\":\"Cyprus\",\"textfont\":{\"color\":\"#4D5663\"},\"x\":[1,5,1],\"y\":[4.65,4.65,4.95],\"type\":\"scatter\"},{\"marker\":{\"color\":\"rgba(55, 128, 191, 0.8)\",\"line\":{\"width\":1.3},\"opacity\":0.8,\"size\":12,\"symbol\":\"circle\"},\"mode\":\"markers\",\"name\":\"Australia\",\"textfont\":{\"color\":\"#4D5663\"},\"x\":[5,4,12,100,24,8,100,12],\"y\":[4.65,4.95,4.95,4.15,4.95,4.95,4.15,4.95],\"type\":\"scatter\"},{\"marker\":{\"color\":\"rgba(55, 128, 191, 0.76)\",\"line\":{\"width\":1.3},\"opacity\":0.8,\"size\":12,\"symbol\":\"circle\"},\"mode\":\"markers\",\"name\":\"Germany\",\"textfont\":{\"color\":\"#4D5663\"},\"x\":[10,4,4,8,8],\"y\":[4.65,4.95,4.95,4.95,4.95],\"type\":\"scatter\"},{\"marker\":{\"color\":\"rgba(55, 128, 191, 0.72)\",\"line\":{\"width\":1.3},\"opacity\":0.8,\"size\":12,\"symbol\":\"circle\"},\"mode\":\"markers\",\"name\":\"Lebanon\",\"textfont\":{\"color\":\"#4D5663\"},\"x\":[15],\"y\":[4.65],\"type\":\"scatter\"},{\"marker\":{\"color\":\"rgba(55, 128, 191, 0.6799999999999999)\",\"line\":{\"width\":1.3},\"opacity\":0.8,\"size\":12,\"symbol\":\"circle\"},\"mode\":\"markers\",\"name\":\"Finland\",\"textfont\":{\"color\":\"#4D5663\"},\"x\":[4,8],\"y\":[4.95,4.95],\"type\":\"scatter\"},{\"marker\":{\"color\":\"rgba(55, 128, 191, 0.6399999999999999)\",\"line\":{\"width\":1.3},\"opacity\":0.8,\"size\":12,\"symbol\":\"circle\"},\"mode\":\"markers\",\"name\":\"Switzerland\",\"textfont\":{\"color\":\"#4D5663\"},\"x\":[8,4,12,50,12],\"y\":[4.95,4.95,4.95,4.15,4.95],\"type\":\"scatter\"},{\"marker\":{\"color\":\"rgba(55, 128, 191, 0.5999999999999999)\",\"line\":{\"width\":1.3},\"opacity\":0.8,\"size\":12,\"symbol\":\"circle\"},\"mode\":\"markers\",\"name\":\"EIRE\",\"textfont\":{\"color\":\"#4D5663\"},\"x\":[4,50,4,8,50,4,72,4,72,4,3,4,4,4,8,4,4,96,4],\"y\":[4.95,4.15,4.95,4.95,4.15,4.95,4.15,4.95,4.15,4.95,4.95,4.95,4.95,4.95,4.95,4.95,4.95,4.15,4.95],\"type\":\"scatter\"},{\"marker\":{\"color\":\"rgba(55, 128, 191, 0.5599999999999998)\",\"line\":{\"width\":1.3},\"opacity\":0.8,\"size\":12,\"symbol\":\"circle\"},\"mode\":\"markers\",\"name\":\"Belgium\",\"textfont\":{\"color\":\"#4D5663\"},\"x\":[4,4],\"y\":[4.95,4.95],\"type\":\"scatter\"},{\"marker\":{\"color\":\"rgba(55, 128, 191, 0.5199999999999998)\",\"line\":{\"width\":1.3},\"opacity\":0.8,\"size\":12,\"symbol\":\"circle\"},\"mode\":\"markers\",\"name\":\"Austria\",\"textfont\":{\"color\":\"#4D5663\"},\"x\":[8],\"y\":[4.95],\"type\":\"scatter\"},{\"marker\":{\"color\":\"rgba(55, 128, 191, 0.4799999999999998)\",\"line\":{\"width\":1.3},\"opacity\":0.8,\"size\":12,\"symbol\":\"circle\"},\"mode\":\"markers\",\"name\":\"Channel Islands\",\"textfont\":{\"color\":\"#4D5663\"},\"x\":[12,4,24],\"y\":[4.95,4.95,4.95],\"type\":\"scatter\"},{\"marker\":{\"color\":\"rgba(55, 128, 191, 0.44)\",\"line\":{\"width\":1.3},\"opacity\":0.8,\"size\":12,\"symbol\":\"circle\"},\"mode\":\"markers\",\"name\":\"Denmark\",\"textfont\":{\"color\":\"#4D5663\"},\"x\":[12],\"y\":[4.95],\"type\":\"scatter\"},{\"marker\":{\"color\":\"rgba(55, 128, 191, 0.39999999999999997)\",\"line\":{\"width\":1.3},\"opacity\":0.8,\"size\":12,\"symbol\":\"circle\"},\"mode\":\"markers\",\"name\":\"Singapore\",\"textfont\":{\"color\":\"#4D5663\"},\"x\":[8],\"y\":[4.95],\"type\":\"scatter\"},{\"marker\":{\"color\":\"rgba(55, 128, 191, 0.35999999999999993)\",\"line\":{\"width\":1.3},\"opacity\":0.8,\"size\":12,\"symbol\":\"circle\"},\"mode\":\"markers\",\"name\":\"Netherlands\",\"textfont\":{\"color\":\"#4D5663\"},\"x\":[50],\"y\":[4.15],\"type\":\"scatter\"},{\"marker\":{\"color\":\"rgba(55, 128, 191, 0.3199999999999999)\",\"line\":{\"width\":1.3},\"opacity\":0.8,\"size\":12,\"symbol\":\"circle\"},\"mode\":\"markers\",\"name\":\"Norway\",\"textfont\":{\"color\":\"#4D5663\"},\"x\":[4,8],\"y\":[4.95,4.95],\"type\":\"scatter\"},{\"marker\":{\"color\":\"rgba(55, 128, 191, 0.27999999999999986)\",\"line\":{\"width\":1.3},\"opacity\":0.8,\"size\":12,\"symbol\":\"circle\"},\"mode\":\"markers\",\"name\":\"Israel\",\"textfont\":{\"color\":\"#4D5663\"},\"x\":[1],\"y\":[4.95],\"type\":\"scatter\"},{\"marker\":{\"color\":\"rgba(55, 128, 191, 0.23999999999999982)\",\"line\":{\"width\":1.3},\"opacity\":0.8,\"size\":12,\"symbol\":\"circle\"},\"mode\":\"markers\",\"name\":\"South Africa\",\"textfont\":{\"color\":\"#4D5663\"},\"x\":[4],\"y\":[4.95],\"type\":\"scatter\"}],                        {\"legend\":{\"bgcolor\":\"#F5F6F9\",\"font\":{\"color\":\"#4D5663\"}},\"paper_bgcolor\":\"#F5F6F9\",\"plot_bgcolor\":\"#F5F6F9\",\"template\":{\"data\":{\"barpolar\":[{\"marker\":{\"line\":{\"color\":\"#E5ECF6\",\"width\":0.5},\"pattern\":{\"fillmode\":\"overlay\",\"size\":10,\"solidity\":0.2}},\"type\":\"barpolar\"}],\"bar\":[{\"error_x\":{\"color\":\"#2a3f5f\"},\"error_y\":{\"color\":\"#2a3f5f\"},\"marker\":{\"line\":{\"color\":\"#E5ECF6\",\"width\":0.5},\"pattern\":{\"fillmode\":\"overlay\",\"size\":10,\"solidity\":0.2}},\"type\":\"bar\"}],\"carpet\":[{\"aaxis\":{\"endlinecolor\":\"#2a3f5f\",\"gridcolor\":\"white\",\"linecolor\":\"white\",\"minorgridcolor\":\"white\",\"startlinecolor\":\"#2a3f5f\"},\"baxis\":{\"endlinecolor\":\"#2a3f5f\",\"gridcolor\":\"white\",\"linecolor\":\"white\",\"minorgridcolor\":\"white\",\"startlinecolor\":\"#2a3f5f\"},\"type\":\"carpet\"}],\"choropleth\":[{\"colorbar\":{\"outlinewidth\":0,\"ticks\":\"\"},\"type\":\"choropleth\"}],\"contourcarpet\":[{\"colorbar\":{\"outlinewidth\":0,\"ticks\":\"\"},\"type\":\"contourcarpet\"}],\"contour\":[{\"colorbar\":{\"outlinewidth\":0,\"ticks\":\"\"},\"colorscale\":[[0.0,\"#0d0887\"],[0.1111111111111111,\"#46039f\"],[0.2222222222222222,\"#7201a8\"],[0.3333333333333333,\"#9c179e\"],[0.4444444444444444,\"#bd3786\"],[0.5555555555555556,\"#d8576b\"],[0.6666666666666666,\"#ed7953\"],[0.7777777777777778,\"#fb9f3a\"],[0.8888888888888888,\"#fdca26\"],[1.0,\"#f0f921\"]],\"type\":\"contour\"}],\"heatmapgl\":[{\"colorbar\":{\"outlinewidth\":0,\"ticks\":\"\"},\"colorscale\":[[0.0,\"#0d0887\"],[0.1111111111111111,\"#46039f\"],[0.2222222222222222,\"#7201a8\"],[0.3333333333333333,\"#9c179e\"],[0.4444444444444444,\"#bd3786\"],[0.5555555555555556,\"#d8576b\"],[0.6666666666666666,\"#ed7953\"],[0.7777777777777778,\"#fb9f3a\"],[0.8888888888888888,\"#fdca26\"],[1.0,\"#f0f921\"]],\"type\":\"heatmapgl\"}],\"heatmap\":[{\"colorbar\":{\"outlinewidth\":0,\"ticks\":\"\"},\"colorscale\":[[0.0,\"#0d0887\"],[0.1111111111111111,\"#46039f\"],[0.2222222222222222,\"#7201a8\"],[0.3333333333333333,\"#9c179e\"],[0.4444444444444444,\"#bd3786\"],[0.5555555555555556,\"#d8576b\"],[0.6666666666666666,\"#ed7953\"],[0.7777777777777778,\"#fb9f3a\"],[0.8888888888888888,\"#fdca26\"],[1.0,\"#f0f921\"]],\"type\":\"heatmap\"}],\"histogram2dcontour\":[{\"colorbar\":{\"outlinewidth\":0,\"ticks\":\"\"},\"colorscale\":[[0.0,\"#0d0887\"],[0.1111111111111111,\"#46039f\"],[0.2222222222222222,\"#7201a8\"],[0.3333333333333333,\"#9c179e\"],[0.4444444444444444,\"#bd3786\"],[0.5555555555555556,\"#d8576b\"],[0.6666666666666666,\"#ed7953\"],[0.7777777777777778,\"#fb9f3a\"],[0.8888888888888888,\"#fdca26\"],[1.0,\"#f0f921\"]],\"type\":\"histogram2dcontour\"}],\"histogram2d\":[{\"colorbar\":{\"outlinewidth\":0,\"ticks\":\"\"},\"colorscale\":[[0.0,\"#0d0887\"],[0.1111111111111111,\"#46039f\"],[0.2222222222222222,\"#7201a8\"],[0.3333333333333333,\"#9c179e\"],[0.4444444444444444,\"#bd3786\"],[0.5555555555555556,\"#d8576b\"],[0.6666666666666666,\"#ed7953\"],[0.7777777777777778,\"#fb9f3a\"],[0.8888888888888888,\"#fdca26\"],[1.0,\"#f0f921\"]],\"type\":\"histogram2d\"}],\"histogram\":[{\"marker\":{\"pattern\":{\"fillmode\":\"overlay\",\"size\":10,\"solidity\":0.2}},\"type\":\"histogram\"}],\"mesh3d\":[{\"colorbar\":{\"outlinewidth\":0,\"ticks\":\"\"},\"type\":\"mesh3d\"}],\"parcoords\":[{\"line\":{\"colorbar\":{\"outlinewidth\":0,\"ticks\":\"\"}},\"type\":\"parcoords\"}],\"pie\":[{\"automargin\":true,\"type\":\"pie\"}],\"scatter3d\":[{\"line\":{\"colorbar\":{\"outlinewidth\":0,\"ticks\":\"\"}},\"marker\":{\"colorbar\":{\"outlinewidth\":0,\"ticks\":\"\"}},\"type\":\"scatter3d\"}],\"scattercarpet\":[{\"marker\":{\"colorbar\":{\"outlinewidth\":0,\"ticks\":\"\"}},\"type\":\"scattercarpet\"}],\"scattergeo\":[{\"marker\":{\"colorbar\":{\"outlinewidth\":0,\"ticks\":\"\"}},\"type\":\"scattergeo\"}],\"scattergl\":[{\"marker\":{\"colorbar\":{\"outlinewidth\":0,\"ticks\":\"\"}},\"type\":\"scattergl\"}],\"scattermapbox\":[{\"marker\":{\"colorbar\":{\"outlinewidth\":0,\"ticks\":\"\"}},\"type\":\"scattermapbox\"}],\"scatterpolargl\":[{\"marker\":{\"colorbar\":{\"outlinewidth\":0,\"ticks\":\"\"}},\"type\":\"scatterpolargl\"}],\"scatterpolar\":[{\"marker\":{\"colorbar\":{\"outlinewidth\":0,\"ticks\":\"\"}},\"type\":\"scatterpolar\"}],\"scatter\":[{\"fillpattern\":{\"fillmode\":\"overlay\",\"size\":10,\"solidity\":0.2},\"type\":\"scatter\"}],\"scatterternary\":[{\"marker\":{\"colorbar\":{\"outlinewidth\":0,\"ticks\":\"\"}},\"type\":\"scatterternary\"}],\"surface\":[{\"colorbar\":{\"outlinewidth\":0,\"ticks\":\"\"},\"colorscale\":[[0.0,\"#0d0887\"],[0.1111111111111111,\"#46039f\"],[0.2222222222222222,\"#7201a8\"],[0.3333333333333333,\"#9c179e\"],[0.4444444444444444,\"#bd3786\"],[0.5555555555555556,\"#d8576b\"],[0.6666666666666666,\"#ed7953\"],[0.7777777777777778,\"#fb9f3a\"],[0.8888888888888888,\"#fdca26\"],[1.0,\"#f0f921\"]],\"type\":\"surface\"}],\"table\":[{\"cells\":{\"fill\":{\"color\":\"#EBF0F8\"},\"line\":{\"color\":\"white\"}},\"header\":{\"fill\":{\"color\":\"#C8D4E3\"},\"line\":{\"color\":\"white\"}},\"type\":\"table\"}]},\"layout\":{\"annotationdefaults\":{\"arrowcolor\":\"#2a3f5f\",\"arrowhead\":0,\"arrowwidth\":1},\"autotypenumbers\":\"strict\",\"coloraxis\":{\"colorbar\":{\"outlinewidth\":0,\"ticks\":\"\"}},\"colorscale\":{\"diverging\":[[0,\"#8e0152\"],[0.1,\"#c51b7d\"],[0.2,\"#de77ae\"],[0.3,\"#f1b6da\"],[0.4,\"#fde0ef\"],[0.5,\"#f7f7f7\"],[0.6,\"#e6f5d0\"],[0.7,\"#b8e186\"],[0.8,\"#7fbc41\"],[0.9,\"#4d9221\"],[1,\"#276419\"]],\"sequential\":[[0.0,\"#0d0887\"],[0.1111111111111111,\"#46039f\"],[0.2222222222222222,\"#7201a8\"],[0.3333333333333333,\"#9c179e\"],[0.4444444444444444,\"#bd3786\"],[0.5555555555555556,\"#d8576b\"],[0.6666666666666666,\"#ed7953\"],[0.7777777777777778,\"#fb9f3a\"],[0.8888888888888888,\"#fdca26\"],[1.0,\"#f0f921\"]],\"sequentialminus\":[[0.0,\"#0d0887\"],[0.1111111111111111,\"#46039f\"],[0.2222222222222222,\"#7201a8\"],[0.3333333333333333,\"#9c179e\"],[0.4444444444444444,\"#bd3786\"],[0.5555555555555556,\"#d8576b\"],[0.6666666666666666,\"#ed7953\"],[0.7777777777777778,\"#fb9f3a\"],[0.8888888888888888,\"#fdca26\"],[1.0,\"#f0f921\"]]},\"colorway\":[\"#636efa\",\"#EF553B\",\"#00cc96\",\"#ab63fa\",\"#FFA15A\",\"#19d3f3\",\"#FF6692\",\"#B6E880\",\"#FF97FF\",\"#FECB52\"],\"font\":{\"color\":\"#2a3f5f\"},\"geo\":{\"bgcolor\":\"white\",\"lakecolor\":\"white\",\"landcolor\":\"#E5ECF6\",\"showlakes\":true,\"showland\":true,\"subunitcolor\":\"white\"},\"hoverlabel\":{\"align\":\"left\"},\"hovermode\":\"closest\",\"mapbox\":{\"style\":\"light\"},\"paper_bgcolor\":\"white\",\"plot_bgcolor\":\"#E5ECF6\",\"polar\":{\"angularaxis\":{\"gridcolor\":\"white\",\"linecolor\":\"white\",\"ticks\":\"\"},\"bgcolor\":\"#E5ECF6\",\"radialaxis\":{\"gridcolor\":\"white\",\"linecolor\":\"white\",\"ticks\":\"\"}},\"scene\":{\"xaxis\":{\"backgroundcolor\":\"#E5ECF6\",\"gridcolor\":\"white\",\"gridwidth\":2,\"linecolor\":\"white\",\"showbackground\":true,\"ticks\":\"\",\"zerolinecolor\":\"white\"},\"yaxis\":{\"backgroundcolor\":\"#E5ECF6\",\"gridcolor\":\"white\",\"gridwidth\":2,\"linecolor\":\"white\",\"showbackground\":true,\"ticks\":\"\",\"zerolinecolor\":\"white\"},\"zaxis\":{\"backgroundcolor\":\"#E5ECF6\",\"gridcolor\":\"white\",\"gridwidth\":2,\"linecolor\":\"white\",\"showbackground\":true,\"ticks\":\"\",\"zerolinecolor\":\"white\"}},\"shapedefaults\":{\"line\":{\"color\":\"#2a3f5f\"}},\"ternary\":{\"aaxis\":{\"gridcolor\":\"white\",\"linecolor\":\"white\",\"ticks\":\"\"},\"baxis\":{\"gridcolor\":\"white\",\"linecolor\":\"white\",\"ticks\":\"\"},\"bgcolor\":\"#E5ECF6\",\"caxis\":{\"gridcolor\":\"white\",\"linecolor\":\"white\",\"ticks\":\"\"}},\"title\":{\"x\":0.05},\"xaxis\":{\"automargin\":true,\"gridcolor\":\"white\",\"linecolor\":\"white\",\"ticks\":\"\",\"title\":{\"standoff\":15},\"zerolinecolor\":\"white\",\"zerolinewidth\":2},\"yaxis\":{\"automargin\":true,\"gridcolor\":\"white\",\"linecolor\":\"white\",\"ticks\":\"\",\"title\":{\"standoff\":15},\"zerolinecolor\":\"white\",\"zerolinewidth\":2}}},\"title\":{\"font\":{\"color\":\"#4D5663\"},\"text\":\"Relationship between average Qty and average unit price for PARTY BUNTING\"},\"xaxis\":{\"gridcolor\":\"#E1E5ED\",\"showgrid\":true,\"tickfont\":{\"color\":\"#4D5663\"},\"title\":{\"font\":{\"color\":\"#4D5663\"},\"text\":\"Avg quantity\"},\"zerolinecolor\":\"#E1E5ED\"},\"yaxis\":{\"gridcolor\":\"#E1E5ED\",\"showgrid\":true,\"tickfont\":{\"color\":\"#4D5663\"},\"title\":{\"font\":{\"color\":\"#4D5663\"},\"text\":\"Avg unitPrice\"},\"zerolinecolor\":\"#E1E5ED\"}},                        {\"showLink\": true, \"linkText\": \"Export to plot.ly\", \"plotlyServerURL\": \"https://plot.ly\", \"responsive\": true}                    ).then(function(){\n",
       "                            \n",
       "var gd = document.getElementById('8df91dbf-eec8-4932-810f-09292d2e3e84');\n",
       "var x = new MutationObserver(function (mutations, observer) {{\n",
       "        var display = window.getComputedStyle(gd).display;\n",
       "        if (!display || display === 'none') {{\n",
       "            console.log([gd, 'removed!']);\n",
       "            Plotly.purge(gd);\n",
       "            observer.disconnect();\n",
       "        }}\n",
       "}});\n",
       "\n",
       "// Listen for the removal of the full notebook cells\n",
       "var notebookContainer = gd.closest('#notebook-container');\n",
       "if (notebookContainer) {{\n",
       "    x.observe(notebookContainer, {childList: true});\n",
       "}}\n",
       "\n",
       "// Listen for the clearing of the current output cell\n",
       "var outputEl = gd.closest('.output');\n",
       "if (outputEl) {{\n",
       "    x.observe(outputEl, {childList: true});\n",
       "}}\n",
       "\n",
       "                        })                };                });            </script>        </div>"
      ]
     },
     "metadata": {},
     "output_type": "display_data"
    }
   ],
   "source": [
    "pb.iplot(x='Quantity',\n",
    "            y='UnitPrice',\n",
    "            categories='Country',\n",
    "            xTitle='Avg quantity', \n",
    "            yTitle='Avg unitPrice', \n",
    "            title='Relationship between avg quantity and avg unit price for PARTY BUNTING',\n",
    "            color='blue'\n",
    "            )"
   ]
  },
  {
   "cell_type": "markdown",
   "metadata": {},
   "source": [
    "## 4. Create a set of interactive histograms showing the distributions of quantity per invoice for the following countries: EIRE, Germany, France, and Netherlands."
   ]
  },
  {
   "cell_type": "code",
   "execution_count": null,
   "metadata": {},
   "outputs": [],
   "source": []
  },
  {
   "cell_type": "code",
   "execution_count": null,
   "metadata": {},
   "outputs": [],
   "source": []
  },
  {
   "cell_type": "code",
   "execution_count": null,
   "metadata": {},
   "outputs": [],
   "source": []
  },
  {
   "cell_type": "code",
   "execution_count": null,
   "metadata": {},
   "outputs": [],
   "source": []
  },
  {
   "cell_type": "markdown",
   "metadata": {},
   "source": [
    "## 5. Create an interactive side-by-side bar chart showing the revenue by country listed below (bars) for each of the products listed below."
   ]
  },
  {
   "cell_type": "code",
   "execution_count": null,
   "metadata": {},
   "outputs": [],
   "source": []
  },
  {
   "cell_type": "code",
   "execution_count": null,
   "metadata": {},
   "outputs": [],
   "source": []
  },
  {
   "cell_type": "markdown",
   "metadata": {},
   "source": [
    "## 6. Create an interactive line chart showing quantity sold by day for the United Kingdom. Add drop-down boxes for Year and Month that allow you to filter the date range that appears in the chart."
   ]
  },
  {
   "cell_type": "code",
   "execution_count": null,
   "metadata": {},
   "outputs": [],
   "source": []
  },
  {
   "cell_type": "code",
   "execution_count": null,
   "metadata": {},
   "outputs": [],
   "source": []
  },
  {
   "cell_type": "code",
   "execution_count": null,
   "metadata": {},
   "outputs": [],
   "source": []
  },
  {
   "cell_type": "markdown",
   "metadata": {},
   "source": [
    "## 7. Create an interactive scatter plot that plots number of invoices (x-axis) vs. number of customers (y-axis) and the plot points represent individual products. Add two sliders that control the x and y axis ranges."
   ]
  },
  {
   "cell_type": "code",
   "execution_count": null,
   "metadata": {},
   "outputs": [],
   "source": []
  },
  {
   "cell_type": "code",
   "execution_count": null,
   "metadata": {},
   "outputs": [],
   "source": []
  },
  {
   "cell_type": "code",
   "execution_count": null,
   "metadata": {},
   "outputs": [],
   "source": []
  },
  {
   "cell_type": "markdown",
   "metadata": {},
   "source": [
    "## 8. Creat an interactive bar chart that shows revenue by product description. Add a text field widget that filters the results to show the product that contain the text entered in their description."
   ]
  },
  {
   "cell_type": "code",
   "execution_count": null,
   "metadata": {},
   "outputs": [],
   "source": []
  }
 ],
 "metadata": {
  "kernelspec": {
   "display_name": "Python 3 (ipykernel)",
   "language": "python",
   "name": "python3"
  },
  "language_info": {
   "codemirror_mode": {
    "name": "ipython",
    "version": 3
   },
   "file_extension": ".py",
   "mimetype": "text/x-python",
   "name": "python",
   "nbconvert_exporter": "python",
   "pygments_lexer": "ipython3",
   "version": "3.11.4"
  }
 },
 "nbformat": 4,
 "nbformat_minor": 2
}
